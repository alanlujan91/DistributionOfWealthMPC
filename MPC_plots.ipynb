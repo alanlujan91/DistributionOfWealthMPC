{
 "cells": [
  {
   "cell_type": "code",
   "execution_count": 1,
   "metadata": {},
   "outputs": [
    {
     "name": "stdout",
     "output_type": "stream",
     "text": [
      "{'param_name': 'DiscFac', 'dist_type': 'uniform', 'run_estimation': False, 'run_sensitivity': [False, False, False, False, False, False, False, False], 'find_beta_vs_KY': False, 'do_tractable': False, 'do_param_dist': True, 'do_lifecycle': True, 'do_agg_shocks': False, 'do_liquid': False}\n"
     ]
    }
   ],
   "source": [
    "\"\"\"\n",
    "This file will run the absolute minimum amount of work that actually produces\n",
    "relevant output-- no aggregate shocks, perpetual youth, matching net worth.\n",
    "Will run both beta-point and beta-dist versions.\n",
    "\"\"\"\n",
    "\n",
    "\n",
    "import code.calibration as parameters\n",
    "from code.estimation import estimate, get_ky_ratio_difference, get_param_count\n",
    "from code.options.all_options import all_options\n",
    "import numpy as np\n",
    "import matplotlib.pyplot as plt\n",
    "\n",
    "basic_options = all_options[\"UseUniformBetaDist\"].copy()\n",
    "basic_options.update(all_options[\"DoStandardWork\"])\n",
    "\n",
    "# Options for life-cycle version of beta point model without estimation \n",
    "basic_options.update(all_options[\"SimpleSpecDist\"])\n",
    "basic_options[\"run_estimation\"] = False\n",
    "basic_options[\"do_lifecycle\"] = True\n",
    "\n",
    "# Verify that the options are correct\n",
    "print(basic_options)\n",
    "\n"
   ]
  },
  {
   "cell_type": "code",
   "execution_count": 2,
   "metadata": {},
   "outputs": [
    {
     "name": "stderr",
     "output_type": "stream",
     "text": [
      "/Users/dc/Library/CloudStorage/OneDrive-JohnsHopkins/research/GitHub-forks/econ-ark/DistributionOfWealthMPC/code/estimation.py:196: ComplexWarning: Casting complex values to real discards the imaginary part\n",
      "  x = v[:, idx].astype(float)\n"
     ]
    },
    {
     "name": "stdout",
     "output_type": "stream",
     "text": [
      "get_KY_ratio_difference tried center = 0.9814 and got -0.027371416353239475\n"
     ]
    },
    {
     "data": {
      "text/plain": [
       "-0.027371416353239475"
      ]
     },
     "execution_count": 2,
     "metadata": {},
     "output_type": "execute_result"
    }
   ],
   "source": [
    "# Run the estimation \n",
    "param_count = get_param_count(basic_options)\n",
    "EstimationEconomy = estimate(basic_options, parameters)\n",
    "\n",
    "# Solve and simulate the model once, using \"center\" and \"spread\" from the paper\n",
    "get_ky_ratio_difference(0.9814,\n",
    "                    0.0182,\n",
    "                    EstimationEconomy,\n",
    "                    basic_options[\"param_name\"],\n",
    "                    param_count,\n",
    "                    basic_options[\"dist_type\"])"
   ]
  },
  {
   "cell_type": "code",
   "execution_count": 5,
   "metadata": {},
   "outputs": [
    {
     "name": "stdout",
     "output_type": "stream",
     "text": [
      "21\n"
     ]
    },
    {
     "name": "stderr",
     "output_type": "stream",
     "text": [
      "/Users/dc/mambaforge/envs/cstwmpc/lib/python3.9/site-packages/numpy/core/fromnumeric.py:3464: RuntimeWarning: Mean of empty slice.\n",
      "  return _methods._mean(a, axis=axis, dtype=dtype,\n",
      "/Users/dc/mambaforge/envs/cstwmpc/lib/python3.9/site-packages/numpy/core/_methods.py:192: RuntimeWarning: invalid value encountered in scalar divide\n",
      "  ret = ret.dtype.type(ret / rcount)\n",
      "/var/folders/17/1rg0y2kj74l9p9g301vbhhkw0000gn/T/ipykernel_44884/257144759.py:23: RuntimeWarning: invalid value encountered in scalar divide\n",
      "  BSMPC_mean_by_age[t] = C_agg_this_age / Y_agg_this_age\n"
     ]
    }
   ],
   "source": [
    "# Extract data from the simulated agents\n",
    "\n",
    "T_to_use = 200\n",
    "N = len(EstimationEconomy.agents)\n",
    "print(N)\n",
    "\n",
    "C_data_big = np.concatenate([EstimationEconomy.agents[j].history[\"cNrm\"][-T_to_use:,:] for j in range(N)], axis=1).flatten()\n",
    "Y_data_big = np.concatenate([EstimationEconomy.agents[j].history[\"yNrm\"][-T_to_use:,:] for j in range(N)], axis=1).flatten()\n",
    "MPC_data_big = np.concatenate([EstimationEconomy.agents[j].history[\"MPC\"][-T_to_use:,:] for j in range(N)], axis=1).flatten()\n",
    "age_data_big = np.concatenate([EstimationEconomy.agents[j].history[\"t_age\"][-T_to_use:,:] for j in range(N)], axis=1).flatten()\n",
    "P_data_big = np.concatenate([EstimationEconomy.agents[j].history[\"pLvl\"][-T_to_use:,:] for j in range(N)], axis=1).flatten()\n",
    "\n",
    "# Generate average MPC and spending to income ratios by age\n",
    "\n",
    "age_N = 270\n",
    "MPC_mean_by_age = np.zeros(age_N)\n",
    "BSMPC_mean_by_age = np.zeros(age_N)\n",
    "for t in range(age_N):\n",
    "    these = age_data_big == t\n",
    "    MPC_mean_by_age[t] = np.mean(MPC_data_big[these])\n",
    "    C_agg_this_age = np.sum(C_data_big[these] )\n",
    "    Y_agg_this_age = np.sum(Y_data_big[these] )\n",
    "    BSMPC_mean_by_age[t] = C_agg_this_age / Y_agg_this_age"
   ]
  },
  {
   "cell_type": "code",
   "execution_count": 6,
   "metadata": {},
   "outputs": [
    {
     "data": {
      "image/png": "[encoded data removed]",
      "text/plain": [
       "<Figure size 640x480 with 1 Axes>"
      ]
     },
     "metadata": {},
     "output_type": "display_data"
    }
   ],
   "source": [
    "# Plot the results by age and/or write vectors to disk to use later\n",
    "\n",
    "init_age = 24\n",
    "age_vec = init_age + np.arange(age_N)/4\n",
    "plt.plot(age_vec, MPC_mean_by_age, '-b')\n",
    "plt.plot(age_vec, BSMPC_mean_by_age, '-r')\n",
    "plt.legend([\"MPC\", \"BSMPC\"])\n",
    "plt.show() "
   ]
  }
 ],
 "metadata": {
  "kernelspec": {
   "display_name": "cstwmpc",
   "language": "python",
   "name": "python3"
  },
  "language_info": {
   "codemirror_mode": {
    "name": "ipython",
    "version": 3
   },
   "file_extension": ".py",
   "mimetype": "text/x-python",
   "name": "python",
   "nbconvert_exporter": "python",
   "pygments_lexer": "ipython3",
   "version": "3.9.16"
  },
  "orig_nbformat": 4
 },
 "nbformat": 4,
 "nbformat_minor": 2
}
