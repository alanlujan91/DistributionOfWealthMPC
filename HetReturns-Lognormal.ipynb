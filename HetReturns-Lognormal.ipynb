{
 "cells": [
  {
   "cell_type": "markdown",
   "metadata": {},
   "source": [
    "This notebook presents an analogous selection of results from the paper [The Distribution of Wealth and the Marginal Propensity to Consume](http://econ.jhu.edu/people/ccarroll/papers/cstwMPC), using the [Econ-ARK/HARK](https://github.com/econ-ark/HARK) toolkit. In this version of the model, the results are presented for the estimation procedure with the **rate of return** as the key parameter of interest. "
   ]
  },
  {
   "cell_type": "code",
   "execution_count": 1,
   "metadata": {
    "code_folding": [],
    "execution": {
     "iopub.execute_input": "2023-04-06T15:42:34.138231Z",
     "iopub.status.busy": "2023-04-06T15:42:34.138231Z",
     "iopub.status.idle": "2023-04-06T15:42:35.764534Z",
     "shell.execute_reply": "2023-04-06T15:42:35.764534Z"
    }
   },
   "outputs": [],
   "source": [
    "# This cell does some standard python setup!\n",
    "\n",
    "import code.calibration as parameters\n",
    "import warnings  # The warnings package allows us to ignore some harmless but alarming warning messages\n",
    "from code.calibration import SCF_wealth, SCF_weights\n",
    "from code.estimation import estimate\n",
    "\n",
    "# Import related generic python packages\n",
    "import matplotlib.pyplot as plt  # Plotting tools\n",
    "import numpy as np\n",
    "from HARK.utilities import get_lorenz_shares\n",
    "\n",
    "warnings.filterwarnings(\"ignore\")\n",
    "\n",
    "\n",
    "def mystr(number):\n",
    "    return f\"{number:.4f}\""
   ]
  },
  {
   "cell_type": "markdown",
   "metadata": {},
   "source": [
    "## Perpetual Youth Model Without Return Preference Heterogeneity"
   ]
  },
  {
   "cell_type": "code",
   "execution_count": 2,
   "metadata": {
    "execution": {
     "iopub.execute_input": "2023-04-06T15:42:35.767537Z",
     "iopub.status.busy": "2023-04-06T15:42:35.767537Z",
     "iopub.status.idle": "2023-04-06T15:42:35.780539Z",
     "shell.execute_reply": "2023-04-06T15:42:35.780539Z"
    },
    "lines_to_next_cell": 2
   },
   "outputs": [
    {
     "data": {
      "text/plain": [
       "'\\nCopied here from do_min.py.\\nDesign decisions about whether to include this code explicitly,\\nor import it, or execute it as is here, TBD.\\n'"
      ]
     },
     "execution_count": 2,
     "metadata": {},
     "output_type": "execute_result"
    }
   ],
   "source": [
    "\"\"\"\n",
    "This will run the absolute minimum amount of work that actually produces\n",
    "relevant output-- no aggregate shocks, perpetual youth, matching net worth.\n",
    "Will run both beta-point and beta-dist versions.\n",
    "\"\"\"\n",
    "\n",
    "\"\"\"\n",
    "Copied here from do_min.py.\n",
    "Design decisions about whether to include this code explicitly,\n",
    "or import it, or execute it as is here, TBD.\n",
    "\"\"\""
   ]
  },
  {
   "cell_type": "code",
   "execution_count": 3,
   "metadata": {
    "execution": {
     "iopub.execute_input": "2023-04-06T15:42:35.782541Z",
     "iopub.status.busy": "2023-04-06T15:42:35.782541Z",
     "iopub.status.idle": "2023-04-06T15:42:35.796047Z",
     "shell.execute_reply": "2023-04-06T15:42:35.796047Z"
    },
    "lines_to_next_cell": 2
   },
   "outputs": [],
   "source": [
    "# For speed here, use the \"tractable\" version of the model\n",
    "# This is not the \"right\" model, but illustrates the key point\n",
    "\"\"\"\n",
    "This options file specifies parameter heterogeneity, making the choice in the paper:\n",
    "uniformly distributed discount factors.\n",
    "\"\"\"\n",
    "param_name = \"Rfree\"  # Which parameter to introduce heterogeneity in\n",
    "dist_type = \"lognormal\"  # Which type of distribution to use\n",
    "\n",
    "\"\"\"\n",
    "This options file specifies the \"standard\" work options for cstwMPC, estimating the model only.\n",
    "\"\"\"\n",
    "run_estimation = True  # Runs the estimation if True\n",
    "# Choose which sensitivity analyses to run: rho, xi_sigma, psi_sigma, mu, urate, mortality, g, R\n",
    "run_sensitivity = [False, False, False, False, False, False, False, False]\n",
    "# Computes K/Y ratio for a wide range of beta; should have do_beta_dist = False\n",
    "find_beta_vs_KY = False\n",
    "# Uses a \"tractable consumer\" rather than solving full model when True\n",
    "do_tractable = True\n",
    "\n",
    "# Solve for the $\\beta-Point$ (do_param_dist=False) for speed\n",
    "\"\"\"\n",
    "This options file establishes the second simplest model specification possible:\n",
    "with heterogeneity, no aggregate shocks, perpetual youth model, matching net worth.\n",
    "\"\"\"\n",
    "\n",
    "do_param_dist = False  # Do param-dist version if True, param-point if False\n",
    "do_lifecycle = False  # Use lifecycle model if True, perpetual youth if False\n",
    "do_agg_shocks = False  # Solve the FBS aggregate shocks version of the model\n",
    "# Matches liquid assets data when True, net worth data when False\n",
    "do_liquid = False"
   ]
  },
  {
   "cell_type": "code",
   "execution_count": 4,
   "metadata": {
    "execution": {
     "iopub.execute_input": "2023-04-06T15:42:35.798050Z",
     "iopub.status.busy": "2023-04-06T15:42:35.798050Z",
     "iopub.status.idle": "2023-04-06T15:43:51.962677Z",
     "shell.execute_reply": "2023-04-06T15:43:51.962677Z"
    },
    "lines_to_next_cell": 2
   },
   "outputs": [
    {
     "name": "stdout",
     "output_type": "stream",
     "text": [
      "Beginning an estimation with the specification name PYLognrmrratePointIndNetWorth...\n"
     ]
    },
    {
     "ename": "TypeError",
     "evalue": "__new__() got an unexpected keyword argument 'tail_N'",
     "output_type": "error",
     "traceback": [
      "\u001b[0;31m---------------------------------------------------------------------------\u001b[0m",
      "\u001b[0;31mTypeError\u001b[0m                                 Traceback (most recent call last)",
      "Cell \u001b[0;32mIn[4], line 15\u001b[0m\n\u001b[1;32m      1\u001b[0m options \u001b[39m=\u001b[39m {\n\u001b[1;32m      2\u001b[0m     \u001b[39m\"\u001b[39m\u001b[39mparam_name\u001b[39m\u001b[39m\"\u001b[39m: param_name,\n\u001b[1;32m      3\u001b[0m     \u001b[39m\"\u001b[39m\u001b[39mdist_type\u001b[39m\u001b[39m\"\u001b[39m: dist_type,\n\u001b[0;32m   (...)\u001b[0m\n\u001b[1;32m     11\u001b[0m     \u001b[39m\"\u001b[39m\u001b[39mdo_liquid\u001b[39m\u001b[39m\"\u001b[39m: do_liquid,\n\u001b[1;32m     12\u001b[0m }\n\u001b[0;32m---> 15\u001b[0m EstimationEconomy \u001b[39m=\u001b[39m estimate(options, parameters)\n",
      "File \u001b[0;32m~/Library/CloudStorage/OneDrive-JohnsHopkins/research/GitHub-forks/econ-ark/DistributionOfWealthMPC/code/estimation.py:470\u001b[0m, in \u001b[0;36mestimate\u001b[0;34m(options, params)\u001b[0m\n\u001b[1;32m    466\u001b[0m \u001b[39melse\u001b[39;00m:\n\u001b[1;32m    467\u001b[0m     \u001b[39m# Run the param-point estimation only\u001b[39;00m\n\u001b[1;32m    469\u001b[0m     t_start \u001b[39m=\u001b[39m time()\n\u001b[0;32m--> 470\u001b[0m     center_estimate \u001b[39m=\u001b[39m root_scalar(\n\u001b[1;32m    471\u001b[0m         get_ky_ratio_difference,\n\u001b[1;32m    472\u001b[0m         args\u001b[39m=\u001b[39;49m(\n\u001b[1;32m    473\u001b[0m             \u001b[39m0.0\u001b[39;49m,\n\u001b[1;32m    474\u001b[0m             economy,\n\u001b[1;32m    475\u001b[0m             options[\u001b[39m\"\u001b[39;49m\u001b[39mparam_name\u001b[39;49m\u001b[39m\"\u001b[39;49m],\n\u001b[1;32m    476\u001b[0m             param_count,\n\u001b[1;32m    477\u001b[0m             options[\u001b[39m\"\u001b[39;49m\u001b[39mdist_type\u001b[39;49m\u001b[39m\"\u001b[39;49m],\n\u001b[1;32m    478\u001b[0m         ),\n\u001b[1;32m    479\u001b[0m         method\u001b[39m=\u001b[39;49m\u001b[39m\"\u001b[39;49m\u001b[39mtoms748\u001b[39;49m\u001b[39m\"\u001b[39;49m,\n\u001b[1;32m    480\u001b[0m         bracket\u001b[39m=\u001b[39;49mparam_range,\n\u001b[1;32m    481\u001b[0m         xtol\u001b[39m=\u001b[39;49m\u001b[39m1e-6\u001b[39;49m,\n\u001b[1;32m    482\u001b[0m     )\u001b[39m.\u001b[39mroot\n\u001b[1;32m    483\u001b[0m     spread_estimate \u001b[39m=\u001b[39m \u001b[39m0.0\u001b[39m\n\u001b[1;32m    484\u001b[0m     t_end \u001b[39m=\u001b[39m time()\n",
      "File \u001b[0;32m~/mambaforge/envs/cstwmpc/lib/python3.9/site-packages/scipy/optimize/_root_scalar.py:275\u001b[0m, in \u001b[0;36mroot_scalar\u001b[0;34m(f, args, method, bracket, fprime, fprime2, x0, x1, xtol, rtol, maxiter, options)\u001b[0m\n\u001b[1;32m    272\u001b[0m         \u001b[39mraise\u001b[39;00m \u001b[39mValueError\u001b[39;00m(\u001b[39m'\u001b[39m\u001b[39mBracket needed for \u001b[39m\u001b[39m%s\u001b[39;00m\u001b[39m'\u001b[39m \u001b[39m%\u001b[39m method)\n\u001b[1;32m    274\u001b[0m     a, b \u001b[39m=\u001b[39m bracket[:\u001b[39m2\u001b[39m]\n\u001b[0;32m--> 275\u001b[0m     r, sol \u001b[39m=\u001b[39m methodc(f, a, b, args\u001b[39m=\u001b[39;49margs, \u001b[39m*\u001b[39;49m\u001b[39m*\u001b[39;49mkwargs)\n\u001b[1;32m    276\u001b[0m \u001b[39melif\u001b[39;00m meth \u001b[39min\u001b[39;00m [\u001b[39m'\u001b[39m\u001b[39msecant\u001b[39m\u001b[39m'\u001b[39m]:\n\u001b[1;32m    277\u001b[0m     \u001b[39mif\u001b[39;00m x0 \u001b[39mis\u001b[39;00m \u001b[39mNone\u001b[39;00m:\n",
      "File \u001b[0;32m~/mambaforge/envs/cstwmpc/lib/python3.9/site-packages/scipy/optimize/_zeros_py.py:1374\u001b[0m, in \u001b[0;36mtoms748\u001b[0;34m(f, a, b, args, k, xtol, rtol, maxiter, full_output, disp)\u001b[0m\n\u001b[1;32m   1372\u001b[0m     args \u001b[39m=\u001b[39m (args,)\n\u001b[1;32m   1373\u001b[0m solver \u001b[39m=\u001b[39m TOMS748Solver()\n\u001b[0;32m-> 1374\u001b[0m result \u001b[39m=\u001b[39m solver\u001b[39m.\u001b[39;49msolve(f, a, b, args\u001b[39m=\u001b[39;49margs, k\u001b[39m=\u001b[39;49mk, xtol\u001b[39m=\u001b[39;49mxtol, rtol\u001b[39m=\u001b[39;49mrtol,\n\u001b[1;32m   1375\u001b[0m                       maxiter\u001b[39m=\u001b[39;49mmaxiter, disp\u001b[39m=\u001b[39;49mdisp)\n\u001b[1;32m   1376\u001b[0m x, function_calls, iterations, flag \u001b[39m=\u001b[39m result\n\u001b[1;32m   1377\u001b[0m \u001b[39mreturn\u001b[39;00m _results_select(full_output, (x, function_calls, iterations, flag))\n",
      "File \u001b[0;32m~/mambaforge/envs/cstwmpc/lib/python3.9/site-packages/scipy/optimize/_zeros_py.py:1221\u001b[0m, in \u001b[0;36mTOMS748Solver.solve\u001b[0;34m(self, f, a, b, args, xtol, rtol, k, maxiter, disp)\u001b[0m\n\u001b[1;32m   1219\u001b[0m \u001b[39m\u001b[39m\u001b[39mr\u001b[39m\u001b[39m\"\"\"Solve f(x) = 0 given an interval containing a zero.\"\"\"\u001b[39;00m\n\u001b[1;32m   1220\u001b[0m \u001b[39mself\u001b[39m\u001b[39m.\u001b[39mconfigure(xtol\u001b[39m=\u001b[39mxtol, rtol\u001b[39m=\u001b[39mrtol, maxiter\u001b[39m=\u001b[39mmaxiter, disp\u001b[39m=\u001b[39mdisp, k\u001b[39m=\u001b[39mk)\n\u001b[0;32m-> 1221\u001b[0m status, xn \u001b[39m=\u001b[39m \u001b[39mself\u001b[39;49m\u001b[39m.\u001b[39;49mstart(f, a, b, args)\n\u001b[1;32m   1222\u001b[0m \u001b[39mif\u001b[39;00m status \u001b[39m==\u001b[39m _ECONVERGED:\n\u001b[1;32m   1223\u001b[0m     \u001b[39mreturn\u001b[39;00m \u001b[39mself\u001b[39m\u001b[39m.\u001b[39mget_result(xn)\n",
      "File \u001b[0;32m~/mambaforge/envs/cstwmpc/lib/python3.9/site-packages/scipy/optimize/_zeros_py.py:1109\u001b[0m, in \u001b[0;36mTOMS748Solver.start\u001b[0;34m(self, f, a, b, args)\u001b[0m\n\u001b[1;32m   1106\u001b[0m \u001b[39mif\u001b[39;00m \u001b[39mnot\u001b[39;00m np\u001b[39m.\u001b[39misfinite(b) \u001b[39mor\u001b[39;00m np\u001b[39m.\u001b[39mimag(b) \u001b[39m!=\u001b[39m \u001b[39m0\u001b[39m:\n\u001b[1;32m   1107\u001b[0m     \u001b[39mraise\u001b[39;00m \u001b[39mValueError\u001b[39;00m(\u001b[39m\"\u001b[39m\u001b[39mInvalid x value: \u001b[39m\u001b[39m%s\u001b[39;00m\u001b[39m \u001b[39m\u001b[39m\"\u001b[39m \u001b[39m%\u001b[39m (b))\n\u001b[0;32m-> 1109\u001b[0m fa \u001b[39m=\u001b[39m \u001b[39mself\u001b[39;49m\u001b[39m.\u001b[39;49m_callf(a)\n\u001b[1;32m   1110\u001b[0m \u001b[39mif\u001b[39;00m \u001b[39mnot\u001b[39;00m np\u001b[39m.\u001b[39misfinite(fa) \u001b[39mor\u001b[39;00m np\u001b[39m.\u001b[39mimag(fa) \u001b[39m!=\u001b[39m \u001b[39m0\u001b[39m:\n\u001b[1;32m   1111\u001b[0m     \u001b[39mraise\u001b[39;00m \u001b[39mValueError\u001b[39;00m(\u001b[39m\"\u001b[39m\u001b[39mInvalid function value: f(\u001b[39m\u001b[39m%f\u001b[39;00m\u001b[39m) -> \u001b[39m\u001b[39m%s\u001b[39;00m\u001b[39m \u001b[39m\u001b[39m\"\u001b[39m \u001b[39m%\u001b[39m (a, fa))\n",
      "File \u001b[0;32m~/mambaforge/envs/cstwmpc/lib/python3.9/site-packages/scipy/optimize/_zeros_py.py:1083\u001b[0m, in \u001b[0;36mTOMS748Solver._callf\u001b[0;34m(self, x, error)\u001b[0m\n\u001b[1;32m   1081\u001b[0m \u001b[39mdef\u001b[39;00m \u001b[39m_callf\u001b[39m(\u001b[39mself\u001b[39m, x, error\u001b[39m=\u001b[39m\u001b[39mTrue\u001b[39;00m):\n\u001b[1;32m   1082\u001b[0m \u001b[39m    \u001b[39m\u001b[39m\"\"\"Call the user-supplied function, update book-keeping\"\"\"\u001b[39;00m\n\u001b[0;32m-> 1083\u001b[0m     fx \u001b[39m=\u001b[39m \u001b[39mself\u001b[39;49m\u001b[39m.\u001b[39;49mf(x, \u001b[39m*\u001b[39;49m\u001b[39mself\u001b[39;49m\u001b[39m.\u001b[39;49margs)\n\u001b[1;32m   1084\u001b[0m     \u001b[39mself\u001b[39m\u001b[39m.\u001b[39mfunction_calls \u001b[39m+\u001b[39m\u001b[39m=\u001b[39m \u001b[39m1\u001b[39m\n\u001b[1;32m   1085\u001b[0m     \u001b[39mif\u001b[39;00m \u001b[39mnot\u001b[39;00m np\u001b[39m.\u001b[39misfinite(fx) \u001b[39mand\u001b[39;00m error:\n",
      "File \u001b[0;32m~/Library/CloudStorage/OneDrive-JohnsHopkins/research/GitHub-forks/econ-ark/DistributionOfWealthMPC/code/estimation.py:78\u001b[0m, in \u001b[0;36mget_ky_ratio_difference\u001b[0;34m(center, spread, economy, param_name, param_count, dist_type)\u001b[0m\n\u001b[1;32m     76\u001b[0m economy\u001b[39m.\u001b[39massign_parameters(LorenzBool\u001b[39m=\u001b[39m\u001b[39mFalse\u001b[39;00m, ManyStatsBool\u001b[39m=\u001b[39m\u001b[39mFalse\u001b[39;00m)\n\u001b[1;32m     77\u001b[0m \u001b[39m# Distribute parameters\u001b[39;00m\n\u001b[0;32m---> 78\u001b[0m economy\u001b[39m.\u001b[39;49mdistribute_params(param_name, param_count, center, spread, dist_type)\n\u001b[1;32m     79\u001b[0m economy\u001b[39m.\u001b[39msolve()\n\u001b[1;32m     80\u001b[0m diff \u001b[39m=\u001b[39m economy\u001b[39m.\u001b[39mcalc_KY_ratio_difference()\n",
      "File \u001b[0;32m~/Library/CloudStorage/OneDrive-JohnsHopkins/research/GitHub-forks/econ-ark/DistributionOfWealthMPC/code/agents.py:371\u001b[0m, in \u001b[0;36mCstwMPCMarket.distribute_params\u001b[0;34m(self, param_name, param_count, center, spread, dist_type)\u001b[0m\n\u001b[1;32m    368\u001b[0m \u001b[39melif\u001b[39;00m dist_type \u001b[39m==\u001b[39m \u001b[39m\"\u001b[39m\u001b[39mlognormal\u001b[39m\u001b[39m\"\u001b[39m:\n\u001b[1;32m    369\u001b[0m     \u001b[39m# If lognormal, center is the mean and spread is the standard deviation (in log)\u001b[39;00m\n\u001b[1;32m    370\u001b[0m     tail_N \u001b[39m=\u001b[39m \u001b[39m3\u001b[39m\n\u001b[0;32m--> 371\u001b[0m     param_dist \u001b[39m=\u001b[39m Lognormal(\n\u001b[1;32m    372\u001b[0m         mu\u001b[39m=\u001b[39;49mnp\u001b[39m.\u001b[39;49mlog(center) \u001b[39m-\u001b[39;49m \u001b[39m0.5\u001b[39;49m \u001b[39m*\u001b[39;49m spread\u001b[39m*\u001b[39;49m\u001b[39m*\u001b[39;49m\u001b[39m2\u001b[39;49m,\n\u001b[1;32m    373\u001b[0m         sigma\u001b[39m=\u001b[39;49mspread,\n\u001b[1;32m    374\u001b[0m         tail_N\u001b[39m=\u001b[39;49mtail_N,\n\u001b[1;32m    375\u001b[0m         tail_bound\u001b[39m=\u001b[39;49m[\u001b[39m0.0\u001b[39;49m, \u001b[39m0.9\u001b[39;49m],\n\u001b[1;32m    376\u001b[0m         tail_order\u001b[39m=\u001b[39;49mnp\u001b[39m.\u001b[39;49me,\n\u001b[1;32m    377\u001b[0m     )\u001b[39m.\u001b[39mdiscretize(N\u001b[39m=\u001b[39mparam_count \u001b[39m-\u001b[39m tail_N)\n\u001b[1;32m    379\u001b[0m \u001b[39m# Distribute the parameters to the various types, assigning consecutive types the same\u001b[39;00m\n\u001b[1;32m    380\u001b[0m \u001b[39m# value if there are more types than values\u001b[39;00m\n\u001b[1;32m    381\u001b[0m replication_factor \u001b[39m=\u001b[39m \u001b[39mlen\u001b[39m(\u001b[39mself\u001b[39m\u001b[39m.\u001b[39magents) \u001b[39m/\u001b[39m\u001b[39m/\u001b[39m param_count\n",
      "\u001b[0;31mTypeError\u001b[0m: __new__() got an unexpected keyword argument 'tail_N'"
     ]
    }
   ],
   "source": [
    "options = {\n",
    "    \"param_name\": param_name,\n",
    "    \"dist_type\": dist_type,\n",
    "    \"run_estimation\": run_estimation,\n",
    "    \"run_sensitivity\": run_sensitivity,\n",
    "    \"find_beta_vs_KY\": find_beta_vs_KY,\n",
    "    \"do_tractable\": do_tractable,\n",
    "    \"do_param_dist\": do_param_dist,\n",
    "    \"do_lifecycle\": do_lifecycle,\n",
    "    \"do_agg_shocks\": do_agg_shocks,\n",
    "    \"do_liquid\": do_liquid,\n",
    "}\n",
    "\n",
    "\n",
    "EstimationEconomy = estimate(options, parameters)"
   ]
  },
  {
   "cell_type": "code",
   "execution_count": null,
   "metadata": {
    "execution": {
     "iopub.execute_input": "2023-04-06T15:43:51.964678Z",
     "iopub.status.busy": "2023-04-06T15:43:51.964678Z",
     "iopub.status.idle": "2023-04-06T15:43:52.105210Z",
     "shell.execute_reply": "2023-04-06T15:43:52.105210Z"
    },
    "lines_to_next_cell": 2
   },
   "outputs": [],
   "source": [
    "# Construct the Lorenz curves and plot them\n",
    "\n",
    "pctiles = np.linspace(0.001, 0.999, 15)\n",
    "SCF_Lorenz_points = get_lorenz_shares(\n",
    "    SCF_wealth, weights=SCF_weights, percentiles=pctiles\n",
    ")\n",
    "\n",
    "sim_wealth = EstimationEconomy.reap_state[\"aLvl\"][0]\n",
    "sim_Lorenz_points = get_lorenz_shares(sim_wealth, percentiles=pctiles)\n",
    "\n",
    "# Plot\n",
    "plt.figure(figsize=(5, 5))\n",
    "plt.title(\"Wealth Distribution\")\n",
    "plt.plot(pctiles, SCF_Lorenz_points, \"--k\", label=\"SCF\")\n",
    "plt.plot(pctiles, sim_Lorenz_points, \"-b\", label=\"R-Point\")\n",
    "plt.plot(pctiles, pctiles, \"g-.\", label=\"45 Degree\")\n",
    "plt.xlabel(\"Percentile of net worth\")\n",
    "plt.ylabel(\"Cumulative share of wealth\")\n",
    "plt.legend(loc=2)\n",
    "plt.ylim([0, 1])\n",
    "plt.show(\"wealth_distribution_1\")"
   ]
  },
  {
   "cell_type": "markdown",
   "metadata": {},
   "source": [
    "## Perpetual Youth Model with Return Preference Heterogeneneity\n"
   ]
  },
  {
   "cell_type": "code",
   "execution_count": null,
   "metadata": {
    "execution": {
     "iopub.execute_input": "2023-04-06T15:43:52.107724Z",
     "iopub.status.busy": "2023-04-06T15:43:52.106716Z",
     "iopub.status.idle": "2023-04-06T15:43:52.120722Z",
     "shell.execute_reply": "2023-04-06T15:43:52.120722Z"
    },
    "lines_to_next_cell": 2,
    "scrolled": true
   },
   "outputs": [],
   "source": [
    "\"\"\"\n",
    "This options file establishes the second simplest model specification possible:\n",
    "with heterogeneity, no aggregate shocks, perpetual youth model, matching net worth.\n",
    "\"\"\"\n",
    "do_param_dist = True  # Do param-dist version if True, param-point if False\n",
    "do_lifecycle = False  # Use lifecycle model if True, perpetual youth if False\n",
    "do_agg_shocks = False  # Solve the FBS aggregate shocks version of the model\n",
    "do_liquid = False  # Matches liquid assets data when True, net worth data when False\n",
    "do_tractable = False  #"
   ]
  },
  {
   "cell_type": "code",
   "execution_count": null,
   "metadata": {
    "execution": {
     "iopub.execute_input": "2023-04-06T15:43:52.122725Z",
     "iopub.status.busy": "2023-04-06T15:43:52.121725Z",
     "iopub.status.idle": "2023-04-06T15:54:09.603796Z",
     "shell.execute_reply": "2023-04-06T15:54:09.603796Z"
    }
   },
   "outputs": [],
   "source": [
    "options = {\n",
    "    \"param_name\": param_name,\n",
    "    \"dist_type\": dist_type,\n",
    "    \"run_estimation\": run_estimation,\n",
    "    \"run_sensitivity\": run_sensitivity,\n",
    "    \"find_beta_vs_KY\": find_beta_vs_KY,\n",
    "    \"do_tractable\": do_tractable,\n",
    "    \"do_param_dist\": do_param_dist,\n",
    "    \"do_lifecycle\": do_lifecycle,\n",
    "    \"do_agg_shocks\": do_agg_shocks,\n",
    "    \"do_liquid\": do_liquid,\n",
    "    \"do_combo_estimation\": True,\n",
    "}\n",
    "\n",
    "\n",
    "EstimationEconomy = estimate(options, parameters)"
   ]
  },
  {
   "cell_type": "code",
   "execution_count": null,
   "metadata": {
    "execution": {
     "iopub.execute_input": "2023-04-06T15:54:09.605795Z",
     "iopub.status.busy": "2023-04-06T15:54:09.605795Z",
     "iopub.status.idle": "2023-04-06T15:54:09.618795Z",
     "shell.execute_reply": "2023-04-06T15:54:09.618795Z"
    }
   },
   "outputs": [],
   "source": [
    "# Construct the Lorenz curves and plot them\n",
    "\n",
    "pctiles = np.linspace(0.001, 0.999, 15)\n",
    "SCF_Lorenz_points = get_lorenz_shares(\n",
    "    SCF_wealth, weights=SCF_weights, percentiles=pctiles\n",
    ")\n",
    "\n",
    "sim_wealth = np.asarray(EstimationEconomy.reap_state[\"aLvl\"]).flatten()\n",
    "sim_wealth_2 = np.concatenate(EstimationEconomy.reap_state[\"aLvl\"])\n",
    "sim_Lorenz_points_2 = get_lorenz_shares(sim_wealth_2, percentiles=pctiles)\n",
    "print(sim_wealth)\n",
    "print(EstimationEconomy.reap_state[\"aLvl\"])\n",
    "print(np.concatenate(EstimationEconomy.reap_state[\"aLvl\"]))\n",
    "\n"
   ]
  },
  {
   "cell_type": "code",
   "execution_count": null,
   "metadata": {
    "execution": {
     "iopub.execute_input": "2023-04-06T15:54:09.620796Z",
     "iopub.status.busy": "2023-04-06T15:54:09.620796Z",
     "iopub.status.idle": "2023-04-06T15:54:09.739822Z",
     "shell.execute_reply": "2023-04-06T15:54:09.739822Z"
    }
   },
   "outputs": [],
   "source": [
    "# Plot\n",
    "plt.figure(figsize=(5, 5))\n",
    "plt.title(\"Wealth Distribution\")\n",
    "plt.plot(pctiles, SCF_Lorenz_points, \"--k\", label=\"SCF\")\n",
    "plt.plot(pctiles, sim_Lorenz_points_2, \"-b\", label=\"R-Dist\")\n",
    "plt.plot(pctiles, pctiles, \"g-.\", label=\"45 Degree\")\n",
    "plt.xlabel(\"Percentile of net worth\")\n",
    "plt.ylabel(\"Cumulative share of wealth\")\n",
    "plt.legend(loc=2)\n",
    "plt.ylim([0, 1])\n",
    "plt.show(\"wealth_distribution_2\")"
   ]
  },
  {
   "cell_type": "markdown",
   "metadata": {},
   "source": [
    "## Life-cycle Model Without Return Preference Heterogeneity"
   ]
  },
  {
   "cell_type": "code",
   "execution_count": null,
   "metadata": {},
   "outputs": [],
   "source": [
    "do_param_dist = False  \n",
    "do_lifecycle = True  \n",
    "do_agg_shocks = False  \n",
    "do_liquid = False  \n",
    "do_tractable = True  "
   ]
  },
  {
   "cell_type": "code",
   "execution_count": null,
   "metadata": {},
   "outputs": [],
   "source": [
    "options = {\n",
    "    \"param_name\": param_name,\n",
    "    \"dist_type\": dist_type,\n",
    "    \"run_estimation\": run_estimation,\n",
    "    \"run_sensitivity\": run_sensitivity,\n",
    "    \"find_beta_vs_KY\": find_beta_vs_KY,\n",
    "    \"do_tractable\": do_tractable,\n",
    "    \"do_param_dist\": do_param_dist,\n",
    "    \"do_lifecycle\": do_lifecycle,\n",
    "    \"do_agg_shocks\": do_agg_shocks,\n",
    "    \"do_liquid\": do_liquid,\n",
    "    \"do_combo_estimation\": True,\n",
    "}\n",
    "\n",
    "\n",
    "EstimationEconomy = estimate(options, parameters)"
   ]
  },
  {
   "cell_type": "code",
   "execution_count": null,
   "metadata": {},
   "outputs": [],
   "source": [
    "# Construct the Lorenz curves and plot them\n",
    "\n",
    "pctiles = np.linspace(0.001, 0.999, 15)\n",
    "SCF_Lorenz_points = get_lorenz_shares(\n",
    "    SCF_wealth, weights=SCF_weights, percentiles=pctiles\n",
    ")\n",
    "\n",
    "sim_wealth = EstimationEconomy.reap_state[\"aLvl\"][0]\n",
    "sim_Lorenz_points = get_lorenz_shares(sim_wealth, percentiles=pctiles)\n",
    "\n",
    "# Plot\n",
    "plt.figure(figsize=(5, 5))\n",
    "plt.title(\"Wealth Distribution\")\n",
    "plt.plot(pctiles, SCF_Lorenz_points, \"--k\", label=\"SCF\")\n",
    "plt.plot(pctiles, sim_Lorenz_points, \"-b\", label=\"R-Point-LC\")\n",
    "plt.plot(pctiles, pctiles, \"g-.\", label=\"45 Degree\")\n",
    "plt.xlabel(\"Percentile of net worth\")\n",
    "plt.ylabel(\"Cumulative share of wealth\")\n",
    "plt.legend(loc=2)\n",
    "plt.ylim([0, 1])\n",
    "plt.show(\"wealth_distribution_3\")\n"
   ]
  },
  {
   "cell_type": "markdown",
   "metadata": {},
   "source": [
    "## Life-cycle Model With Return Preference Heterogeneity"
   ]
  },
  {
   "cell_type": "code",
   "execution_count": null,
   "metadata": {},
   "outputs": [],
   "source": [
    "do_param_dist = True  \n",
    "do_lifecycle = True  \n",
    "do_agg_shocks = False  \n",
    "do_liquid = False  \n",
    "do_tractable = False  "
   ]
  },
  {
   "cell_type": "code",
   "execution_count": null,
   "metadata": {},
   "outputs": [],
   "source": [
    "options = {\n",
    "    \"param_name\": param_name,\n",
    "    \"dist_type\": dist_type,\n",
    "    \"run_estimation\": run_estimation,\n",
    "    \"run_sensitivity\": run_sensitivity,\n",
    "    \"find_beta_vs_KY\": find_beta_vs_KY,\n",
    "    \"do_tractable\": do_tractable,\n",
    "    \"do_param_dist\": do_param_dist,\n",
    "    \"do_lifecycle\": do_lifecycle,\n",
    "    \"do_agg_shocks\": do_agg_shocks,\n",
    "    \"do_liquid\": do_liquid,\n",
    "    \"do_combo_estimation\": True,\n",
    "}\n",
    "\n",
    "\n",
    "EstimationEconomy = estimate(options, parameters)"
   ]
  },
  {
   "cell_type": "code",
   "execution_count": null,
   "metadata": {},
   "outputs": [],
   "source": [
    "# Plot\n",
    "pctiles = np.linspace(0.001, 0.999, 15)\n",
    "SCF_Lorenz_points = get_lorenz_shares(\n",
    "    SCF_wealth, weights=SCF_weights, percentiles=pctiles\n",
    ")\n",
    "\n",
    "sim_wealth_4 = np.concatenate(EstimationEconomy.reap_state[\"aLvl\"])\n",
    "sim_Lorenz_points_4 = get_lorenz_shares(sim_wealth_4, percentiles=pctiles)\n",
    "\n",
    "plt.figure(figsize=(5, 5))\n",
    "plt.title(\"Wealth Distribution\")\n",
    "plt.plot(pctiles, SCF_Lorenz_points, \"--k\", label=\"SCF\")\n",
    "plt.plot(pctiles, sim_Lorenz_points_4, \"-b\", label=\"R-Dist-LC\")\n",
    "plt.plot(pctiles, pctiles, \"g-.\", label=\"45 Degree\")\n",
    "plt.xlabel(\"Percentile of net worth\")\n",
    "plt.ylabel(\"Cumulative share of wealth\")\n",
    "plt.legend(loc=2)\n",
    "plt.ylim([0, 1])\n",
    "plt.show(\"wealth_distribution_4\")"
   ]
  },
  {
   "cell_type": "markdown",
   "metadata": {},
   "source": [
    "## Comparing the Estimation to Data on the Rate of Return\n",
    "\n",
    "First, we present the graph of the estimated distribution of the rate of return across households which minimizes the Lorenz distance, given the empirical targets for wealth levels from the SCF data."
   ]
  },
  {
   "cell_type": "markdown",
   "metadata": {},
   "source": [
    "import re\n",
    "\n",
    "from code.estimateduniformstats import EstUniformDist\n",
    "\n",
    "PYUnif_RDist = EstUniformDist(\"/Users/dc/Library/CloudStorage/OneDrive-JohnsHopkins/research/GitHub-forks/econ-ark/DistributionOfWealthMPC/code/results/PYrrateDistIndNetWorthResults.txt\")\n",
    "\n",
    "print(PYUnif_RDist.top)\n",
    "print(PYUnif_RDist.bottom)\n",
    "\n",
    "PYUnif_RDist.graph()\n",
    "\n",
    "PYUnif_RDist.show_moments()"
   ]
  },
  {
   "cell_type": "markdown",
   "metadata": {},
   "source": [
    "LCUnif_RDist = EstUniformDist(\"/Users/dc/Library/CloudStorage/OneDrive-JohnsHopkins/research/GitHub-forks/econ-ark/DistributionOfWealthMPC/code/results/LCrrateDistIndNetWorthResults.txt\")\n",
    "\n",
    "print(LCUnif_RDist.top)\n",
    "print(LCUnif_RDist.bottom)\n",
    "\n",
    "LCUnif_RDist.graph()\n",
    "\n",
    "LCUnif_RDist.show_moments()"
   ]
  },
  {
   "cell_type": "markdown",
   "metadata": {},
   "source": [
    "### Graph of the empirical distribution of safe and risky returns from Fagereng et al. (2015)\n",
    "\n",
    "![Image Description](/Users/dc/Library/CloudStorage/OneDrive-JohnsHopkins/research/GitHub-forks/econ-ark/DistributionOfWealthMPC/DistEmpReturnsFagereng.png)\n",
    "\n"
   ]
  },
  {
   "cell_type": "markdown",
   "metadata": {},
   "source": []
  }
 ],
 "metadata": {
  "jupytext": {
   "formats": "ipynb,py:percent"
  },
  "kernelspec": {
   "display_name": "Python 3 (ipykernel)",
   "language": "python",
   "name": "python3"
  },
  "language_info": {
   "codemirror_mode": {
    "name": "ipython",
    "version": 3
   },
   "file_extension": ".py",
   "mimetype": "text/x-python",
   "name": "python",
   "nbconvert_exporter": "python",
   "pygments_lexer": "ipython3",
   "version": "3.9.16"
  },
  "latex_envs": {
   "LaTeX_envs_menu_present": true,
   "autoclose": false,
   "autocomplete": false,
   "bibliofile": "biblio.bib",
   "cite_by": "apalike",
   "current_citInitial": 1,
   "eqLabelWithNumbers": true,
   "eqNumInitial": 1,
   "hotkeys": {
    "equation": "Ctrl-E",
    "itemize": "Ctrl-I"
   },
   "labels_anchors": false,
   "latex_user_defs": false,
   "report_style_numbering": false,
   "user_envs_cfg": false
  },
  "toc": {
   "base_numbering": 1,
   "nav_menu": {},
   "number_sections": true,
   "sideBar": true,
   "skip_h1_title": false,
   "title_cell": "Table of Contents",
   "title_sidebar": "Contents",
   "toc_cell": false,
   "toc_position": {
    "height": "calc(100% - 180px)",
    "left": "10px",
    "top": "150px",
    "width": "164.994px"
   },
   "toc_section_display": true,
   "toc_window_display": true
  },
  "vscode": {
   "interpreter": {
    "hash": "79df5fddd1bf7837182dc0288ea2fd71cfa8aa9192614ea42e8f71958b4b5b41"
   }
  }
 },
 "nbformat": 4,
 "nbformat_minor": 4
}
