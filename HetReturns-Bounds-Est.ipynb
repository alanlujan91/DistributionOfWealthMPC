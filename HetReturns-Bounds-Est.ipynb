{
 "cells": [
  {
   "cell_type": "markdown",
   "metadata": {},
   "source": [
    "# The Distribution of Wealth and the MPC"
   ]
  },
  {
   "cell_type": "markdown",
   "metadata": {},
   "source": [
    "This notebook presents an analogous selection of results from the paper [The Distribution of Wealth and the Marginal Propensity to Consume](http://econ.jhu.edu/people/ccarroll/papers/cstwMPC), using the [Econ-ARK/HARK](https://github.com/econ-ark/HARK) toolkit. In this version of the model, the results are presented for the estimation procedure with the **rate of return** as the key parameter of interest. "
   ]
  },
  {
   "cell_type": "code",
   "execution_count": null,
   "metadata": {
    "code_folding": [],
    "execution": {
     "iopub.execute_input": "2023-04-06T15:42:34.138231Z",
     "iopub.status.busy": "2023-04-06T15:42:34.138231Z",
     "iopub.status.idle": "2023-04-06T15:42:35.764534Z",
     "shell.execute_reply": "2023-04-06T15:42:35.764534Z"
    }
   },
   "outputs": [],
   "source": [
    "# This cell does some standard python setup!\n",
    "\n",
    "import code.calibration as parameters\n",
    "import warnings  # The warnings package allows us to ignore some harmless but alarming warning messages\n",
    "from code.calibration import SCF_wealth, SCF_weights\n",
    "from code.estimation import (\n",
    "    get_param_count,\n",
    "    get_spec_name,\n",
    "    get_target_ky_and_find_lorenz_distance,\n",
    "    set_up_economy,\n",
    "    estimate\n",
    ")\n",
    "\n",
    "# Import related generic python packages\n",
    "import matplotlib.pyplot as plt  # Plotting tools\n",
    "import numpy as np\n",
    "from HARK.utilities import get_lorenz_shares\n",
    "\n",
    "warnings.filterwarnings(\"ignore\")\n",
    "\n",
    "\n",
    "def mystr(number):\n",
    "    return f\"{number:.4f}\""
   ]
  },
  {
   "cell_type": "code",
   "execution_count": null,
   "metadata": {
    "execution": {
     "iopub.execute_input": "2023-04-06T15:42:35.767537Z",
     "iopub.status.busy": "2023-04-06T15:42:35.767537Z",
     "iopub.status.idle": "2023-04-06T15:42:35.780539Z",
     "shell.execute_reply": "2023-04-06T15:42:35.780539Z"
    },
    "lines_to_next_cell": 2
   },
   "outputs": [],
   "source": [
    "\"\"\"\n",
    "This will run the absolute minimum amount of work that actually produces\n",
    "relevant output-- no aggregate shocks, perpetual youth, matching net worth.\n",
    "Will run both beta-point and beta-dist versions.\n",
    "\"\"\"\n",
    "\n",
    "\"\"\"\n",
    "Copied here from do_min.py.\n",
    "Design decisions about whether to include this code explicitly,\n",
    "or import it, or execute it as is here, TBD.\n",
    "\"\"\""
   ]
  },
  {
   "cell_type": "code",
   "execution_count": null,
   "metadata": {
    "execution": {
     "iopub.execute_input": "2023-04-06T15:42:35.782541Z",
     "iopub.status.busy": "2023-04-06T15:42:35.782541Z",
     "iopub.status.idle": "2023-04-06T15:42:35.796047Z",
     "shell.execute_reply": "2023-04-06T15:42:35.796047Z"
    },
    "lines_to_next_cell": 2
   },
   "outputs": [],
   "source": [
    "# For speed here, use the \"tractable\" version of the model\n",
    "# This is not the \"right\" model, but illustrates the key point\n",
    "\"\"\"\n",
    "This options file specifies parameter heterogeneity, making the choice in the paper:\n",
    "uniformly distributed discount factors.\n",
    "\"\"\"\n",
    "param_name = \"Rfree\"  # Which parameter to introduce heterogeneity in\n",
    "dist_type = \"uniform\"  # Which type of distribution to use\n",
    "\n",
    "\"\"\"\n",
    "This options file specifies the \"standard\" work options for cstwMPC, estimating the model only.\n",
    "\"\"\"\n",
    "run_estimation = True  # Runs the estimation if True\n",
    "# Choose which sensitivity analyses to run: rho, xi_sigma, psi_sigma, mu, urate, mortality, g, R\n",
    "run_sensitivity = [False, False, False, False, False, False, False, False]\n",
    "# Computes K/Y ratio for a wide range of beta; should have do_beta_dist = False\n",
    "find_beta_vs_KY = False\n",
    "# Uses a \"tractable consumer\" rather than solving full model when True\n",
    "do_tractable = True\n",
    "\n",
    "# Solve for the $\\beta-Point$ (do_param_dist=False) for speed\n",
    "\"\"\"\n",
    "This options file establishes the second simplest model specification possible:\n",
    "with heterogeneity, no aggregate shocks, perpetual youth model, matching net worth.\n",
    "\"\"\"\n",
    "\n",
    "do_param_dist = False  # Do param-dist version if True, param-point if False\n",
    "do_lifecycle = False  # Use lifecycle model if True, perpetual youth if False\n",
    "do_agg_shocks = False  # Solve the FBS aggregate shocks version of the model\n",
    "# Matches liquid assets data when True, net worth data when False\n",
    "do_liquid = False"
   ]
  },
  {
   "cell_type": "code",
   "execution_count": null,
   "metadata": {
    "execution": {
     "iopub.execute_input": "2023-04-06T15:42:35.798050Z",
     "iopub.status.busy": "2023-04-06T15:42:35.798050Z",
     "iopub.status.idle": "2023-04-06T15:43:51.962677Z",
     "shell.execute_reply": "2023-04-06T15:43:51.962677Z"
    },
    "lines_to_next_cell": 2
   },
   "outputs": [],
   "source": [
    "options = {\n",
    "    \"param_name\": param_name,\n",
    "    \"dist_type\": dist_type,\n",
    "    \"run_estimation\": run_estimation,\n",
    "    \"run_sensitivity\": run_sensitivity,\n",
    "    \"find_beta_vs_KY\": find_beta_vs_KY,\n",
    "    \"do_tractable\": do_tractable,\n",
    "    \"do_param_dist\": do_param_dist,\n",
    "    \"do_lifecycle\": do_lifecycle,\n",
    "    \"do_agg_shocks\": do_agg_shocks,\n",
    "    \"do_liquid\": do_liquid,\n",
    "}"
   ]
  },
  {
   "cell_type": "code",
   "execution_count": null,
   "metadata": {},
   "outputs": [],
   "source": [
    "# Here are some checks to make sure R_cusp will be defined properly\n",
    "spec_name = get_spec_name(options)\n",
    "param_count = get_param_count(options)\n",
    "economy = set_up_economy(options, parameters, param_count)\n",
    "\n",
    "print(economy.agents[0].Rfree)\n",
    "print(economy.agents[0].DiscFac)\n",
    "print(economy.agents[0].CRRA)\n",
    "print(economy.agents[0].PermGroFac[0]\n",
    ")\n",
    "\n",
    "\n",
    "\n"
   ]
  },
  {
   "cell_type": "code",
   "execution_count": null,
   "metadata": {},
   "outputs": [],
   "source": [
    "EstimationEconomy = estimate(options, parameters)"
   ]
  },
  {
   "cell_type": "code",
   "execution_count": null,
   "metadata": {
    "execution": {
     "iopub.execute_input": "2023-04-06T15:43:51.964678Z",
     "iopub.status.busy": "2023-04-06T15:43:51.964678Z",
     "iopub.status.idle": "2023-04-06T15:43:52.105210Z",
     "shell.execute_reply": "2023-04-06T15:43:52.105210Z"
    },
    "lines_to_next_cell": 2
   },
   "outputs": [],
   "source": [
    "# Construct the Lorenz curves and plot them\n",
    "\n",
    "pctiles = np.linspace(0.001, 0.999, 15)\n",
    "SCF_Lorenz_points = get_lorenz_shares(\n",
    "    SCF_wealth, weights=SCF_weights, percentiles=pctiles\n",
    ")\n",
    "\n",
    "sim_wealth = EstimationEconomy.reap_state[\"aLvl\"][0]\n",
    "sim_Lorenz_points = get_lorenz_shares(sim_wealth, percentiles=pctiles)\n",
    "\n",
    "# Plot\n",
    "plt.figure(figsize=(5, 5))\n",
    "plt.title(\"Wealth Distribution\")\n",
    "plt.plot(pctiles, SCF_Lorenz_points, \"--k\", label=\"SCF\")\n",
    "plt.plot(pctiles, sim_Lorenz_points, \"-b\", label=\"R-Point\")\n",
    "plt.plot(pctiles, pctiles, \"g-.\", label=\"45 Degree\")\n",
    "plt.xlabel(\"Percentile of net worth\")\n",
    "plt.ylabel(\"Cumulative share of wealth\")\n",
    "plt.legend(loc=2)\n",
    "plt.ylim([0, 1])\n",
    "plt.show(\"wealth_distribution_1\")"
   ]
  },
  {
   "cell_type": "code",
   "execution_count": null,
   "id": "6c7c5db2",
   "metadata": {},
   "outputs": [],
   "source": []
  },
  {
   "cell_type": "markdown",
   "metadata": {},
   "source": [
    "## Return Preference Heterogeneneity\n",
    "\n",
    "The analog to the CSTW (link to paper/notebook) work is referred to as the $\\Rfree$-Dist model. Here, households no longer have the same rate of return to their assets. Instead, the model assumes that, for some dispersion $\\nabla$, the rate of return to assets are distributed uniformly in the population between\n",
    "$\\grave{\\Rfree}-\\nabla$ and $\\grave{\\Rfree}+\\nabla$. \n",
    "\n",
    "From here, using simulations, we search for the values of $\\grave{\\Rfree}$ and\n",
    "$\\nabla$ for which the model best matches the fraction of net worth held by the top $20$, $40$, $60$, and $80$ percent of the population, while at the same time matching\n",
    "the aggregate capital-to-output ratio from the perfect foresight\n",
    "model. For a description of the optimization problem that describes this structural estimation procedure, see (Link to the CSTW notebook). \n",
    "\n",
    "The solution to this problem assuming ex-ante heterogeneity in the rate of return is $\\{\\grave{\\Rfree}, \\nabla\\}=\\{1.03218, 0.01332\\}$, so that the rate of return to assets is evenly spread roughly between 1.0189 and 1.0455.\n",
    "\n",
    "Thus, much like the model with time preference heterogeneity, the introduction of even such a relatively modest amount of heterogeneity in the rate of return to assets sharply improves the model's fit to the targeted\n",
    "proportions of wealth holdings, bringing it reasonably in line with the data. \n",
    "\n",
    "In fact, the fit here is better than the analogous, estimation under the simplest specification of the model with heterogeneous time preferences: the *Lorenz distance* in that model is $4.75$, while here it is $2.07$.\n"
   ]
  },
  {
   "cell_type": "code",
   "execution_count": null,
   "metadata": {
    "execution": {
     "iopub.execute_input": "2023-04-06T15:43:52.107724Z",
     "iopub.status.busy": "2023-04-06T15:43:52.106716Z",
     "iopub.status.idle": "2023-04-06T15:43:52.120722Z",
     "shell.execute_reply": "2023-04-06T15:43:52.120722Z"
    },
    "lines_to_next_cell": 2,
    "scrolled": true
   },
   "outputs": [],
   "source": [
    "\"\"\"\n",
    "This options file establishes the second simplest model specification possible:\n",
    "with heterogeneity, no aggregate shocks, perpetual youth model, matching net worth.\n",
    "\"\"\"\n",
    "do_param_dist = True  # Do param-dist version if True, param-point if False\n",
    "do_lifecycle = False  # Use lifecycle model if True, perpetual youth if False\n",
    "do_agg_shocks = False  # Solve the FBS aggregate shocks version of the model\n",
    "do_liquid = False  # Matches liquid assets data when True, net worth data when False\n",
    "do_tractable = False  #"
   ]
  },
  {
   "cell_type": "code",
   "execution_count": null,
   "metadata": {
    "execution": {
     "iopub.execute_input": "2023-04-06T15:43:52.122725Z",
     "iopub.status.busy": "2023-04-06T15:43:52.121725Z",
     "iopub.status.idle": "2023-04-06T15:54:09.603796Z",
     "shell.execute_reply": "2023-04-06T15:54:09.603796Z"
    }
   },
   "outputs": [],
   "source": [
    "options = {\n",
    "    \"param_name\": param_name,\n",
    "    \"dist_type\": dist_type,\n",
    "    \"run_estimation\": run_estimation,\n",
    "    \"run_sensitivity\": run_sensitivity,\n",
    "    \"find_beta_vs_KY\": find_beta_vs_KY,\n",
    "    \"do_tractable\": do_tractable,\n",
    "    \"do_param_dist\": do_param_dist,\n",
    "    \"do_lifecycle\": do_lifecycle,\n",
    "    \"do_agg_shocks\": do_agg_shocks,\n",
    "    \"do_liquid\": do_liquid,\n",
    "    \"do_combo_estimation\": True,\n",
    "}\n",
    "\n",
    "\n",
    "EstimationEconomy = estimate(options, parameters)"
   ]
  },
  {
   "cell_type": "code",
   "execution_count": null,
   "metadata": {
    "execution": {
     "iopub.execute_input": "2023-04-06T15:54:09.605795Z",
     "iopub.status.busy": "2023-04-06T15:54:09.605795Z",
     "iopub.status.idle": "2023-04-06T15:54:09.618795Z",
     "shell.execute_reply": "2023-04-06T15:54:09.618795Z"
    }
   },
   "outputs": [],
   "source": [
    "# Construct the Lorenz curves and plot them\n",
    "\n",
    "pctiles = np.linspace(0.001, 0.999, 15)\n",
    "SCF_Lorenz_points = get_lorenz_shares(\n",
    "    SCF_wealth, weights=SCF_weights, percentiles=pctiles\n",
    ")\n",
    "\n",
    "sim_wealth = np.asarray(EstimationEconomy.reap_state[\"aLvl\"]).flatten()\n",
    "sim_Lorenz_points = get_lorenz_shares(sim_wealth, percentiles=pctiles)"
   ]
  },
  {
   "cell_type": "code",
   "execution_count": null,
   "metadata": {
    "execution": {
     "iopub.execute_input": "2023-04-06T15:54:09.620796Z",
     "iopub.status.busy": "2023-04-06T15:54:09.620796Z",
     "iopub.status.idle": "2023-04-06T15:54:09.739822Z",
     "shell.execute_reply": "2023-04-06T15:54:09.739822Z"
    }
   },
   "outputs": [],
   "source": [
    "# Plot\n",
    "plt.figure(figsize=(5, 5))\n",
    "plt.title(\"Wealth Distribution\")\n",
    "plt.plot(pctiles, SCF_Lorenz_points, \"--k\", label=\"SCF\")\n",
    "plt.plot(pctiles, sim_Lorenz_points, \"-b\", label=\"R-Dist\")\n",
    "plt.plot(pctiles, pctiles, \"g-.\", label=\"45 Degree\")\n",
    "plt.xlabel(\"Percentile of net worth\")\n",
    "plt.ylabel(\"Cumulative share of wealth\")\n",
    "plt.legend(loc=2)\n",
    "plt.ylim([0, 1])\n",
    "plt.show(\"wealth_distribution_2\")"
   ]
  },
  {
   "cell_type": "code",
   "execution_count": null,
   "id": "f9b435e6",
   "metadata": {},
   "outputs": [],
   "source": []
  }
 ],
 "metadata": {
  "jupytext": {
   "formats": "ipynb,py:percent"
  },
  "kernelspec": {
   "display_name": "Python 3 (ipykernel)",
   "language": "python",
   "name": "python3"
  },
  "language_info": {
   "codemirror_mode": {
    "name": "ipython",
    "version": 3
   },
   "file_extension": ".py",
   "mimetype": "text/x-python",
   "name": "python",
   "nbconvert_exporter": "python",
   "pygments_lexer": "ipython3",
   "version": "3.9.16"
  },
  "latex_envs": {
   "LaTeX_envs_menu_present": true,
   "autoclose": false,
   "autocomplete": false,
   "bibliofile": "biblio.bib",
   "cite_by": "apalike",
   "current_citInitial": 1,
   "eqLabelWithNumbers": true,
   "eqNumInitial": 1,
   "hotkeys": {
    "equation": "Ctrl-E",
    "itemize": "Ctrl-I"
   },
   "labels_anchors": false,
   "latex_user_defs": false,
   "report_style_numbering": false,
   "user_envs_cfg": false
  },
  "toc": {
   "base_numbering": 1,
   "nav_menu": {},
   "number_sections": true,
   "sideBar": true,
   "skip_h1_title": false,
   "title_cell": "Table of Contents",
   "title_sidebar": "Contents",
   "toc_cell": false,
   "toc_position": {
    "height": "calc(100% - 180px)",
    "left": "10px",
    "top": "150px",
    "width": "164.994px"
   },
   "toc_section_display": true,
   "toc_window_display": true
  },
  "vscode": {
   "interpreter": {
    "hash": "79df5fddd1bf7837182dc0288ea2fd71cfa8aa9192614ea42e8f71958b4b5b41"
   }
  }
 },
 "nbformat": 4,
 "nbformat_minor": 4
}
