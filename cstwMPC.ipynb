{
 "cells": [
  {
   "cell_type": "markdown",
   "metadata": {},
   "source": [
    "# The Distribution of Wealth and the MPC\n"
   ]
  },
  {
   "cell_type": "markdown",
   "metadata": {},
   "source": [
    "This notebook presents a selection of results from the paper [The Distribution of Wealth and the Marginal Propensity to Consume](http://econ.jhu.edu/people/ccarroll/papers/cstwMPC), using the [Econ-ARK/HARK](https://github.com/econ-ark/HARK) toolkit. It sketches the steps that would need to be taken to solve the model using the [dolARK](https://github.com/EconForge/dolARK) modeling system.\n"
   ]
  },
  {
   "cell_type": "code",
   "execution_count": 1,
   "metadata": {
    "code_folding": []
   },
   "outputs": [],
   "source": [
    "# This cell does some standard python setup!\n",
    "\n",
    "import os  # Tools for navigating the filesystem\n",
    "import warnings  # The warnings package allows us to ignore some harmless but alarming warning messages\n",
    "\n",
    "# Import related generic python packages\n",
    "import matplotlib.pyplot as plt  # Plotting tools\n",
    "import numpy as np\n",
    "from HARK.utilities import get_lorenz_shares\n",
    "\n",
    "import Code.SetupParamsCSTW as Params\n",
    "from Code.cstwMPC_MAIN import estimate\n",
    "from Code.SetupParamsCSTW import SCF_wealth, SCF_weights\n",
    "\n",
    "warnings.filterwarnings(\"ignore\")\n",
    "\n",
    "\n",
    "def mystr(number):\n",
    "    return \"{:.4f}\".format(number)"
   ]
  },
  {
   "cell_type": "markdown",
   "metadata": {},
   "source": [
    "## Abstract\n",
    "\n",
    "In a model calibrated to match micro- and macroeconomic evidence on household income dynamics, this paper shows that a modest degree of heterogeneity in household preferences or beliefs is sufficient to match empirical measures of wealth inequality in the U.S. The hegerogeneity-augmented model's predictions are consistent with microeconomic evidence that suggests that the annual marginal propensity to consume (MPC) is much larger than the roughly 0.04 implied by commonly-used macroeconomic models (even ones including some heterogeneity). The high MPC arises because many consumers hold little wealth despite having a strong precautionary motive. The model also plausibly predicts that the aggregate MPC can differ greatly depending on how the shock is distributed across households (depending, e.g., on their wealth, or employment status).\n"
   ]
  },
  {
   "cell_type": "markdown",
   "metadata": {},
   "source": [
    "## Notation For the Core Model\n",
    "\n",
    "We define the following notation.\n",
    "\n",
    "|    Exogenous Random Variable     | Description       | Code            | Value |\n",
    "| :------------------------------: | ----------------- | --------------- | :---: |\n",
    "| $\\newcommand{\\tshk}{\\zeta}\\tshk$ | Transitory Income | $\\texttt{tshk}$ |       |\n",
    "| $\\newcommand{\\pshk}{\\psi}\\pshk$  | Permanent Shock   | $\\texttt{pshk}$ |       |\n",
    "\n",
    "|                Parameter                 | Description                          | Code                  |  Value  |\n",
    "| :--------------------------------------: | ------------------------------------ | --------------------- | :-----: |\n",
    "| $\\newcommand{\\PLives}{\\Lambda} \\PLives$  | Probability of living                | $\\texttt{PLives}$     | 0.99375 |\n",
    "| $\\newcommand{\\Discount}{\\beta}\\Discount$ | Time Preference Factor               | $\\texttt{Discount}$   |  0.96   |\n",
    "|     $\\newcommand{\\CRRA}{\\rho}\\CRRA$      | Coeﬃcient of Relative Risk Aversion  | $\\texttt{CRRA}$       |    1    |\n",
    "|              $\\sigma_\\tshk$              | Transitory Income Standard Deviation | $\\texttt{PermShkStd}$ |   0.1   |\n",
    "|              $\\sigma_\\pshk$              | Permanent Shock Standard Deviation   | $\\texttt{TranShkStd}$ |   0.1   |\n",
    "\n",
    "|                 Variable                  | Description         | Code                |\n",
    "| :---------------------------------------: | ------------------- | ------------------- |\n",
    "|       $\\newcommand{\\aRat}{a}\\aRat$        | Assets              | $\\texttt{aRat}$     |\n",
    "|       $\\newcommand{\\mRat}{m}\\mRat$        | Market resources    | $\\texttt{mRt}$      |\n",
    "|       $\\newcommand{\\KLev}{K}\\KLev$        | Capital Aggregate   | $\\texttt{KLev}$     |\n",
    "| $\\newcommand{\\kapShare}{\\alpha}\\kapShare$ | Capital share       | $\\texttt{kapShare}$ |\n",
    "|       $\\newcommand{\\LLev}{L}\\LLev$        | Labor Aggregate     | $\\texttt{LLev}$     |\n",
    "|     $\\newcommand{\\labor}{\\ell}\\labor$     | Labor share         | $\\texttt{labor}$    |\n",
    "|       $\\newcommand{\\kRat}{k}\\kRat$        | $K/P$               | $\\texttt{kRat}$     |\n",
    "|       $\\newcommand{\\pRat}{p}\\pRat$        | Permanent Income    |                     |\n",
    "|               $\\mathbf{P}$                |                     |                     |\n",
    "|      $\\newcommand{\\rProd}{r}\\rProd$       | Interest rate       | $\\texttt{rProd}$    |\n",
    "|       $\\newcommand{\\yLev}{y} \\yLev$       | Income              | $\\texttt{yLev}$     |\n",
    "|       $\\newcommand{\\Wage}{W}\\Wage$        | Aggregate Wage Rate | $\\texttt{Wage}$     |\n",
    "\n",
    "|                 Functions                 | Description | Code             | Value |\n",
    "| :---------------------------------------: | ----------- | ---------------- | :---: |\n",
    "|  $\\newcommand{\\cFunc}{\\mathrm{c}}\\cFunc$  | Consumption | $\\texttt{cFunc}$ |       |\n",
    "| $\\newcommand{\\valfn}{\\mathrm{v}} \\valfn$  | Value       | $\\texttt{valfn}$ |\n",
    "| $\\newcommand{\\uFunc}{{\\mathrm{u}}}\\uFunc$ | Utility     | $\\texttt{uFunc}$ |       |\n",
    "\n",
    "$\\newcommand{\\cRat}{c}$\n",
    "$\\newcommand{\\Ex}{\\mathbb{E}}$\n",
    "$\\newcommand{\\PDies}{\\mathsf{P}}$\n",
    "$\\newcommand{\\ptyLev}{a}$\n",
    "$\\newcommand{\\YLev}{Y}$\n",
    "$\\newcommand{\\wEndRat}{\\aRat}$\n"
   ]
  },
  {
   "cell_type": "markdown",
   "metadata": {},
   "source": [
    "The consumer has a standard Constant Relative Risk Aversion utility function $$u(c)=\\frac{c^{1-\\rho}}{1-\\rho}$$\n"
   ]
  },
  {
   "attachments": {},
   "cell_type": "markdown",
   "metadata": {},
   "source": [
    "The idiosyncratic (household) income process is logarithmic Friedman:\n",
    "\\begin{eqnarray*}\n",
    "\\yLev*{t+1}&=&\\pRat*{t+1}\\tshk*{t+1}\\Wage\\\\\n",
    "\\pRat*{t+1}&=&\\pRat*{t}\\pshk*{t+1}\n",
    "\\end{eqnarray*}\n"
   ]
  },
  {
   "attachments": {},
   "cell_type": "markdown",
   "metadata": {},
   "source": [
    "The Bellman form of the value function for households is:\n",
    "\n",
    "\\begin{eqnarray*}\n",
    "\\valfn(\\mRat*{t})&=&\\underset{\\cFunc*{t}}{\\max } ~~ \\uFunc(\\cFunc*{t}(\\mRat*t))+\\Discount \\PLives \\Ex\\*{t}\\left[ \\pshk*{t+1}^{1-\\CRRA}\\valfn(\\mRat\\_{t+1})\n",
    "\\right] \\\\\n",
    "\\notag &\\text{s.t.}&\\\\\n",
    "\\wEndRat*{t} &=&\\mRat*{t}-\\cRat*{t},\\\\\n",
    "\\wEndRat*{t} &\\geq &0, \\\\\n",
    "\\kRat*{t+1} &=&\\wEndRat*{t}/(\\PLives \\pshk*{t+1}),\n",
    "\\\\\n",
    "\\mRat*{t+1} &=&(\\daleth +\\rProd*t)\\kRat*{t+1}+\\tshk\\_{t+1},\\\\\n",
    "\\rProd &=&\\kapShare\\ptyLev(\\KLev/\\labor\\LLev)^{\\kapShare-1}\\\\\n",
    "\\end{eqnarray\\*}\n"
   ]
  },
  {
   "cell_type": "code",
   "execution_count": 2,
   "metadata": {
    "lines_to_next_cell": 2
   },
   "outputs": [],
   "source": [
    "\"\"\"\n",
    "This will run the absolute minimum amount of work that actually produces\n",
    "relevant output-- no aggregate shocks, perpetual youth, matching net worth.\n",
    "Will run both beta-point and beta-dist versions.\n",
    "\"\"\"\n",
    "\n",
    "\"\"\"\n",
    "Copied here from do_min.py.\n",
    "Design decisions about whether to include this code explicitly,\n",
    "or import it, or execute it as is here, TBD.\n",
    "\"\"\"\n",
    "\n",
    "here = os.path.dirname(os.path.realpath(\"cstwMPC.ipynb\"))\n",
    "my_path = os.path.join(here, \"\")\n",
    "path_to_models = os.path.join(my_path, \"Code\")"
   ]
  },
  {
   "cell_type": "code",
   "execution_count": 3,
   "metadata": {
    "lines_to_next_cell": 2
   },
   "outputs": [],
   "source": [
    "# For speed here, use the \"tractable\" version of the model\n",
    "# This is not the \"right\" model, but illustrates the key point\n",
    "\"\"\"\n",
    "This options file specifies parameter heterogeneity, making the choice in the paper:\n",
    "uniformly distributed discount factors.\n",
    "\"\"\"\n",
    "param_name = \"DiscFac\"  # Which parameter to introduce heterogeneity in\n",
    "dist_type = \"uniform\"  # Which type of distribution to use\n",
    "\n",
    "\"\"\"\n",
    "This options file specifies the \"standard\" work options for cstwMPC, estimating the model only.\n",
    "\"\"\"\n",
    "run_estimation = True  # Runs the estimation if True\n",
    "# Choose which sensitivity analyses to run: rho, xi_sigma, psi_sigma, mu, urate, mortality, g, R\n",
    "run_sensitivity = [False, False, False, False, False, False, False, False]\n",
    "# Computes K/Y ratio for a wide range of beta; should have do_beta_dist = False\n",
    "find_beta_vs_KY = False\n",
    "# Uses a \"tractable consumer\" rather than solving full model when True\n",
    "do_tractable = True\n",
    "\n",
    "# Solve for the $\\beta-Point$ (do_param_dist=False) for speed\n",
    "\"\"\"\n",
    "This options file establishes the second simplest model specification possible:\n",
    "with heterogeneity, no aggregate shocks, perpetual youth model, matching net worth.\n",
    "\"\"\"\n",
    "\n",
    "do_param_dist = False  # Do param-dist version if True, param-point if False\n",
    "do_lifecycle = False  # Use lifecycle model if True, perpetual youth if False\n",
    "do_agg_shocks = False  # Solve the FBS aggregate shocks version of the model\n",
    "# Matches liquid assets data when True, net worth data when False\n",
    "do_liquid = False"
   ]
  },
  {
   "cell_type": "code",
   "execution_count": 4,
   "metadata": {
    "lines_to_next_cell": 2
   },
   "outputs": [
    {
     "name": "stderr",
     "output_type": "stream",
     "text": [
      "GPFRaw                 = 0.965535 \n",
      "GPFNrm                 = 0.968688 \n",
      "GPFAggLivPrb           = 0.959500 \n",
      "Thorn = APF            = 0.965535 \n",
      "PermGroFacAdj          = 0.996744 \n",
      "uInvEpShkuInv          = 1.000000 \n",
      "VAF                    = 0.944063 \n",
      "WRPF                   = 0.066084 \n",
      "DiscFacGPFNrmMax       = 0.980708 \n",
      "DiscFacGPFAggLivPrbMax = 0.990099 \n"
     ]
    },
    {
     "name": "stdout",
     "output_type": "stream",
     "text": [
      "Beginning an estimation with the specification name PYbetaPointIndNetWorth...\n",
      "0.95\n"
     ]
    },
    {
     "name": "stderr",
     "output_type": "stream",
     "text": [
      "GPFRaw                 = 1.011270 \n",
      "GPFNrm                 = 1.014574 \n",
      "GPFAggLivPrb           = 1.004950 \n",
      "Thorn = APF            = 1.011270 \n",
      "PermGroFacAdj          = 0.996744 \n",
      "uInvEpShkuInv          = 1.000000 \n",
      "VAF                    = 0.988781 \n",
      "WRPF                   = 0.069215 \n",
      "DiscFacGPFNrmMax       = 0.980708 \n",
      "DiscFacGPFAggLivPrbMax = 0.990099 \n"
     ]
    },
    {
     "name": "stdout",
     "output_type": "stream",
     "text": [
      "get_KY_ratio_difference tried center = 0.95 and got -9.743386134287636\n",
      "0.995\n"
     ]
    },
    {
     "name": "stderr",
     "output_type": "stream",
     "text": [
      "GPFRaw                 = 0.971401 \n",
      "GPFNrm                 = 0.974574 \n",
      "GPFAggLivPrb           = 0.965330 \n",
      "Thorn = APF            = 0.971401 \n",
      "PermGroFacAdj          = 0.996744 \n",
      "uInvEpShkuInv          = 1.000000 \n",
      "VAF                    = 0.949798 \n",
      "WRPF                   = 0.066486 \n",
      "DiscFacGPFNrmMax       = 0.980708 \n",
      "DiscFacGPFAggLivPrbMax = 0.990099 \n"
     ]
    },
    {
     "name": "stdout",
     "output_type": "stream",
     "text": [
      "get_KY_ratio_difference tried center = 0.995 and got 66.22097507353837\n",
      "0.9557718167976613\n"
     ]
    },
    {
     "name": "stderr",
     "output_type": "stream",
     "text": [
      "GPFRaw                 = 0.991336 \n",
      "GPFNrm                 = 0.994574 \n",
      "GPFAggLivPrb           = 0.985140 \n",
      "Thorn = APF            = 0.991336 \n",
      "PermGroFacAdj          = 0.996744 \n",
      "uInvEpShkuInv          = 1.000000 \n",
      "VAF                    = 0.969290 \n",
      "WRPF                   = 0.067850 \n",
      "DiscFacGPFNrmMax       = 0.980708 \n",
      "DiscFacGPFAggLivPrbMax = 0.990099 \n"
     ]
    },
    {
     "name": "stdout",
     "output_type": "stream",
     "text": [
      "get_KY_ratio_difference tried center = 0.9557718167976613 and got -9.689812141385481\n",
      "0.9753859083988307\n"
     ]
    },
    {
     "name": "stderr",
     "output_type": "stream",
     "text": [
      "GPFRaw                 = 1.001303 \n",
      "GPFNrm                 = 1.004574 \n",
      "GPFAggLivPrb           = 0.995045 \n",
      "Thorn = APF            = 1.001303 \n",
      "PermGroFacAdj          = 0.996744 \n",
      "uInvEpShkuInv          = 1.000000 \n",
      "VAF                    = 0.979035 \n",
      "WRPF                   = 0.068532 \n",
      "DiscFacGPFNrmMax       = 0.980708 \n",
      "DiscFacGPFAggLivPrbMax = 0.990099 \n"
     ]
    },
    {
     "name": "stdout",
     "output_type": "stream",
     "text": [
      "get_KY_ratio_difference tried center = 0.9753859083988307 and got -9.312378927936585\n",
      "0.9851929541994153\n"
     ]
    },
    {
     "name": "stderr",
     "output_type": "stream",
     "text": [
      "GPFRaw                 = 1.006287 \n",
      "GPFNrm                 = 1.009574 \n",
      "GPFAggLivPrb           = 0.999997 \n",
      "Thorn = APF            = 1.006287 \n",
      "PermGroFacAdj          = 0.996744 \n",
      "uInvEpShkuInv          = 1.000000 \n",
      "VAF                    = 0.983908 \n",
      "WRPF                   = 0.068874 \n",
      "DiscFacGPFNrmMax       = 0.980708 \n",
      "DiscFacGPFAggLivPrbMax = 0.990099 \n"
     ]
    },
    {
     "name": "stdout",
     "output_type": "stream",
     "text": [
      "get_KY_ratio_difference tried center = 0.9851929541994153 and got -8.224801113627697\n",
      "0.9900964770997076\n"
     ]
    },
    {
     "name": "stderr",
     "output_type": "stream",
     "text": [
      "GPFRaw                 = 1.004313 \n",
      "GPFNrm                 = 1.007594 \n",
      "GPFAggLivPrb           = 0.998036 \n",
      "Thorn = APF            = 1.004313 \n",
      "PermGroFacAdj          = 0.996744 \n",
      "uInvEpShkuInv          = 1.000000 \n",
      "VAF                    = 0.981979 \n",
      "WRPF                   = 0.068739 \n",
      "DiscFacGPFNrmMax       = 0.980708 \n",
      "DiscFacGPFAggLivPrbMax = 0.990099 \n"
     ]
    },
    {
     "name": "stdout",
     "output_type": "stream",
     "text": [
      "get_KY_ratio_difference tried center = 0.9900964770997076 and got 5.392169106610039\n",
      "0.9881547364430956\n"
     ]
    },
    {
     "name": "stderr",
     "output_type": "stream",
     "text": [
      "GPFRaw                 = 1.005159 \n",
      "GPFNrm                 = 1.008442 \n",
      "GPFAggLivPrb           = 0.998877 \n",
      "Thorn = APF            = 1.005159 \n",
      "PermGroFacAdj          = 0.996744 \n",
      "uInvEpShkuInv          = 1.000000 \n",
      "VAF                    = 0.982806 \n",
      "WRPF                   = 0.068796 \n",
      "DiscFacGPFNrmMax       = 0.980708 \n",
      "DiscFacGPFAggLivPrbMax = 0.990099 \n"
     ]
    },
    {
     "name": "stdout",
     "output_type": "stream",
     "text": [
      "get_KY_ratio_difference tried center = 0.9881547364430956 and got -4.042940744132995\n",
      "0.9889867715268776\n"
     ]
    },
    {
     "name": "stderr",
     "output_type": "stream",
     "text": [
      "GPFRaw                 = 1.005311 \n",
      "GPFNrm                 = 1.008595 \n",
      "GPFAggLivPrb           = 0.999028 \n",
      "Thorn = APF            = 1.005311 \n",
      "PermGroFacAdj          = 0.996744 \n",
      "uInvEpShkuInv          = 1.000000 \n",
      "VAF                    = 0.982955 \n",
      "WRPF                   = 0.068807 \n",
      "DiscFacGPFNrmMax       = 0.980708 \n",
      "DiscFacGPFAggLivPrbMax = 0.990099 \n"
     ]
    },
    {
     "name": "stdout",
     "output_type": "stream",
     "text": [
      "get_KY_ratio_difference tried center = 0.9889867715268776 and got -0.6825857330523828\n",
      "0.9891367912751661\n"
     ]
    },
    {
     "name": "stderr",
     "output_type": "stream",
     "text": [
      "GPFRaw                 = 1.005304 \n",
      "GPFNrm                 = 1.008587 \n",
      "GPFAggLivPrb           = 0.999021 \n",
      "Thorn = APF            = 1.005304 \n",
      "PermGroFacAdj          = 0.996744 \n",
      "uInvEpShkuInv          = 1.000000 \n",
      "VAF                    = 0.982947 \n",
      "WRPF                   = 0.068806 \n",
      "DiscFacGPFNrmMax       = 0.980708 \n",
      "DiscFacGPFAggLivPrbMax = 0.990099 \n"
     ]
    },
    {
     "name": "stdout",
     "output_type": "stream",
     "text": [
      "get_KY_ratio_difference tried center = 0.9891367912751661 and got 0.03615625328873584\n",
      "0.9891292445447392\n"
     ]
    },
    {
     "name": "stderr",
     "output_type": "stream",
     "text": [
      "GPFRaw                 = 1.005304 \n",
      "GPFNrm                 = 1.008588 \n",
      "GPFAggLivPrb           = 0.999021 \n",
      "Thorn = APF            = 1.005304 \n",
      "PermGroFacAdj          = 0.996744 \n",
      "uInvEpShkuInv          = 1.000000 \n",
      "VAF                    = 0.982948 \n",
      "WRPF                   = 0.068806 \n",
      "DiscFacGPFNrmMax       = 0.980708 \n",
      "DiscFacGPFAggLivPrbMax = 0.990099 \n"
     ]
    },
    {
     "name": "stdout",
     "output_type": "stream",
     "text": [
      "get_KY_ratio_difference tried center = 0.9891292445447392 and got -0.0007644186573134704\n",
      "0.9891297445447396\n"
     ]
    },
    {
     "name": "stderr",
     "output_type": "stream",
     "text": [
      "GPFRaw                 = 1.005304 \n",
      "GPFNrm                 = 1.008587 \n",
      "GPFAggLivPrb           = 0.999021 \n",
      "Thorn = APF            = 1.005304 \n",
      "PermGroFacAdj          = 0.996744 \n",
      "uInvEpShkuInv          = 1.000000 \n",
      "VAF                    = 0.982947 \n",
      "WRPF                   = 0.068806 \n",
      "DiscFacGPFNrmMax       = 0.980708 \n",
      "DiscFacGPFAggLivPrbMax = 0.990099 \n"
     ]
    },
    {
     "name": "stdout",
     "output_type": "stream",
     "text": [
      "get_KY_ratio_difference tried center = 0.9891297445447396 and got 0.0016792119110959902\n",
      "0.9891292445447392\n",
      "Estimate is center=0.9891292445447392, spread=0.0, took 51.041648149490356 seconds.\n",
      "Running in interactive shell (Jupyter notebook or spyder)\n"
     ]
    },
    {
     "data": {
      "image/png": "[encoded data removed]",
      "text/plain": [
       "<Figure size 640x480 with 1 Axes>"
      ]
     },
     "metadata": {},
     "output_type": "display_data"
    },
    {
     "name": "stdout",
     "output_type": "stream",
     "text": [
      "Estimate is center=0.9891292445447392, spread=0.0\n",
      "Lorenz distance is 42.338843698742544\n",
      "Average MPC for all consumers is 0.099\n",
      "Average MPC in the top percentile of W/Y is 0.069\n",
      "Average MPC in the top decile of W/Y is 0.071\n",
      "Average MPC in the top quintile of W/Y is 0.072\n",
      "Average MPC in the second quintile of W/Y is 0.074\n",
      "Average MPC in the middle quintile of W/Y is 0.074\n",
      "Average MPC in the fourth quintile of W/Y is 0.076\n",
      "Average MPC in the bottom quintile of W/Y is 0.197\n",
      "Average MPC in the top percentile of y is 0.075\n",
      "Average MPC in the top decile of y is 0.077\n",
      "Average MPC in the top quintile of y is 0.084\n",
      "Average MPC in the second quintile of y is 0.117\n",
      "Average MPC in the middle quintile of y is 0.119\n",
      "Average MPC in the fourth quintile of y is 0.082\n",
      "Average MPC in the bottom quintile of y is 0.092\n",
      "Average MPC for the employed is 0.096\n",
      "Average MPC for the unemployed is 0.130\n",
      "Average MPC for the retired is nan\n",
      "Of the population with the 1/3 highest MPCs...\n",
      "65.752% are in the bottom wealth quintile,\n",
      "26.141% are in the second wealth quintile,\n",
      "5.736% are in the third wealth quintile,\n",
      "1.784% are in the fourth wealth quintile,\n",
      "and 0.587% are in the top wealth quintile.\n",
      "\n",
      "These results have been saved to ./Code/Results/PYbetaPointIndNetWorth.txt\n",
      "\n",
      "\n"
     ]
    }
   ],
   "source": [
    "options = {\n",
    "    \"param_name\": param_name,\n",
    "    \"dist_type\": dist_type,\n",
    "    \"run_estimation\": run_estimation,\n",
    "    \"run_sensitivity\": run_sensitivity,\n",
    "    \"find_beta_vs_KY\": find_beta_vs_KY,\n",
    "    \"do_tractable\": do_tractable,\n",
    "    \"do_param_dist\": do_param_dist,\n",
    "    \"do_lifecycle\": do_lifecycle,\n",
    "    \"do_agg_shocks\": do_agg_shocks,\n",
    "    \"do_liquid\": do_liquid,\n",
    "}\n",
    "\n",
    "\n",
    "EstimationEconomy = estimate(options, Params)"
   ]
  },
  {
   "cell_type": "code",
   "execution_count": 5,
   "metadata": {
    "lines_to_next_cell": 2
   },
   "outputs": [
    {
     "data": {
      "image/png": "[encoded data removed]",
      "text/plain": [
       "<Figure size 500x500 with 1 Axes>"
      ]
     },
     "metadata": {},
     "output_type": "display_data"
    }
   ],
   "source": [
    "# Construct the Lorenz curves and plot them\n",
    "\n",
    "pctiles = np.linspace(0.001, 0.999, 15)\n",
    "SCF_Lorenz_points = get_lorenz_shares(\n",
    "    SCF_wealth, weights=SCF_weights, percentiles=pctiles\n",
    ")\n",
    "\n",
    "sim_wealth = EstimationEconomy.reap_state[\"aLvl\"][0]\n",
    "sim_Lorenz_points = get_lorenz_shares(sim_wealth, percentiles=pctiles)\n",
    "\n",
    "# Plot\n",
    "plt.figure(figsize=(5, 5))\n",
    "plt.title(\"Wealth Distribution\")\n",
    "plt.plot(pctiles, SCF_Lorenz_points, \"--k\", label=\"SCF\")\n",
    "plt.plot(pctiles, sim_Lorenz_points, \"-b\", label=\"Beta-Point\")\n",
    "plt.plot(pctiles, pctiles, \"g-.\", label=\"45 Degree\")\n",
    "plt.xlabel(\"Percentile of net worth\")\n",
    "plt.ylabel(\"Cumulative share of wealth\")\n",
    "plt.legend(loc=2)\n",
    "plt.ylim([0, 1])\n",
    "plt.show(\"wealth_distribution_1\")"
   ]
  },
  {
   "cell_type": "markdown",
   "metadata": {},
   "source": [
    "## Time Preference Heterogeneneity\n",
    "\n",
    "Our specific approach is to replace the assumption that all households have the same time\n",
    "preference factor with an assumption that, for some dispersion $\\nabla$, time\n",
    "preference factors are distributed uniformly in the population between\n",
    "$\\grave{\\Discount}-\\nabla$ and $\\grave{\\Discount}+\\nabla$ (for this reason, the model is referred to as the $\\Discount$-Dist model). Then,\n",
    "using simulations, we search for the values of $\\grave{\\Discount}$ and\n",
    "$\\nabla$ for which the model best matches the fraction of net worth held by the top $20$, $40$, $60$, and $80$ percent of the population, while at the same time matching\n",
    "the aggregate capital-to-output ratio from the perfect foresight\n",
    "model. Specifically, defining $w_{i}$ and $\\omega _{i}$ as the proportion of total aggregate net worth held by the top $i$ percent in our model and in the data, respectively, we solve the following minimization problem:\n",
    "\n",
    "$$\n",
    "\\{\\grave{\\Discount}, \\nabla\\}= \\underset{\\{{\\Discount}, \\nabla\\}}{\\text{argmin} }\\Big(\\sum_\\text{i=20, 40, 60, 80}\n",
    "  \\big(w_{i}({\\Discount}, \\nabla)-\\omega _{i}\\big)^{2}\\Big)^{1/2}\n",
    "$$\n",
    "\n",
    "subject to the constraint that the aggregate wealth (net worth)-to-output ratio in the model matches the aggregate\n",
    "capital-to-output ratio from the perfect foresight model ($\\KLev_{PF}/\\YLev_{PF}$). When solving the problem for the FBS specification we shut down the aggregate shocks (practically, this does not affect the estimates given their small size).\n",
    "\n",
    "$$\\KLev / \\YLev = \\KLev_{PF} / \\YLev_{PF}$$\n",
    "\n",
    "The solution to this problem is $\\{\\grave{\\Discount}, \\nabla\\}=\\{0.9867, 0.0067\\}$\n",
    ", so that the discount factors are evenly spread roughly between 0.98 and 0.99. We call the optimal value of the objective function the 'Lorenz distance' and use it as a measure of fit of the models.\n",
    "\n",
    "The introduction of even such a relatively modest amount of time\n",
    "preference heterogeneity sharply improves the model's fit to the targeted\n",
    "proportions of wealth holdings, bringing it reasonably in line with the data.\n"
   ]
  },
  {
   "cell_type": "code",
   "execution_count": 6,
   "metadata": {
    "lines_to_next_cell": 2,
    "scrolled": true
   },
   "outputs": [],
   "source": [
    "\"\"\"\n",
    "This options file establishes the second simplest model specification possible:\n",
    "with heterogeneity, no aggregate shocks, perpetual youth model, matching net worth.\n",
    "\"\"\"\n",
    "do_param_dist = True  # Do param-dist version if True, param-point if False\n",
    "do_lifecycle = False  # Use lifecycle model if True, perpetual youth if False\n",
    "do_agg_shocks = False  # Solve the FBS aggregate shocks version of the model\n",
    "# Matches liquid assets data when True, net worth data when False\n",
    "do_liquid = True\n",
    "do_tractable = False  #\n",
    "os.chdir(path_to_models)"
   ]
  },
  {
   "cell_type": "code",
   "execution_count": 7,
   "metadata": {},
   "outputs": [
    {
     "name": "stdout",
     "output_type": "stream",
     "text": [
      "Beginning an estimation with the specification name PYbetaDistIndLiquid...\n",
      "0.9664999999999999\n",
      "0.9684999999999999\n",
      "0.9704999999999999\n",
      "0.9724999999999999\n",
      "0.9744999999999999\n",
      "0.9764999999999999\n",
      "0.9784999999999999\n",
      "get_KY_ratio_difference tried center = 0.9724999999999999 and got -5.7251855283464295\n",
      "find_lorenz_distance_at_target_KY tried spread = 0.007 and got 50.655192346537724\n",
      "0.9664999999999999\n",
      "0.9684999999999999\n",
      "0.9704999999999999\n",
      "0.9724999999999999\n",
      "0.9744999999999999\n",
      "0.9764999999999999\n",
      "0.9784999999999999\n",
      "get_KY_ratio_difference tried center = 0.9724999999999999 and got -5.7251855283464295\n",
      "find_lorenz_distance_at_target_KY tried spread = 0.007 and got 50.655192346537724\n",
      "0.9664999999999999\n",
      "0.9684999999999999\n",
      "0.9704999999999999\n",
      "0.9724999999999999\n",
      "0.9744999999999999\n",
      "0.9764999999999999\n",
      "0.9784999999999999\n",
      "get_KY_ratio_difference tried center = 0.9724999999999999 and got -5.7251855283464295\n",
      "find_lorenz_distance_at_target_KY tried spread = 0.007 and got 50.655192346537724\n",
      "0.9548214285714286\n",
      "0.9569642857142857\n",
      "0.9591071428571428\n",
      "0.9612499999999999\n",
      "0.963392857142857\n",
      "0.9655357142857142\n",
      "0.9676785714285713\n",
      "get_KY_ratio_difference tried center = 0.9612499999999999 and got -5.958698987089137\n",
      "find_lorenz_distance_at_target_KY tried spread = 0.0075 and got 50.16689154319202\n",
      "0.9781785714285715\n",
      "0.9800357142857143\n",
      "0.9818928571428571\n",
      "0.98375\n",
      "0.9856071428571429\n",
      "0.9874642857142857\n",
      "0.9893214285714286\n",
      "get_KY_ratio_difference tried center = 0.98375 and got -3.3192390567312757\n",
      "find_lorenz_distance_at_target_KY tried spread = 0.006500000000000001 and got 28.226368278178303\n",
      "0.9610892857142856\n",
      "0.963017857142857\n",
      "0.9649464285714285\n",
      "0.9668749999999999\n",
      "0.9688035714285713\n",
      "0.9707321428571428\n",
      "0.9726607142857142\n",
      "get_KY_ratio_difference tried center = 0.9668749999999999 and got -5.867154258230084\n",
      "find_lorenz_distance_at_target_KY tried spread = 0.00675 and got 50.508569936497956\n",
      "0.9827321428571428\n",
      "0.9849464285714286\n",
      "0.9871607142857143\n",
      "0.989375\n",
      "0.9915892857142857\n",
      "0.9938035714285715\n",
      "0.9960178571428572\n",
      "get_KY_ratio_difference tried center = 0.989375 and got 22.213003993880953\n",
      "find_lorenz_distance_at_target_KY tried spread = 0.00775 and got 9.298655001064049\n",
      "0.9494107142857142\n",
      "0.9514821428571428\n",
      "0.9535535714285713\n",
      "0.955625\n",
      "0.9576964285714286\n",
      "0.9597678571428571\n",
      "0.9618392857142857\n",
      "get_KY_ratio_difference tried center = 0.955625 and got -6.027583245655524\n",
      "find_lorenz_distance_at_target_KY tried spread = 0.00725 and got 49.90424112574844\n",
      "0.9727678571428572\n",
      "0.9745535714285715\n",
      "0.9763392857142857\n",
      "0.978125\n",
      "0.9799107142857143\n",
      "0.9816964285714286\n",
      "0.9834821428571429\n",
      "get_KY_ratio_difference tried center = 0.978125 and got -5.465895107076427\n",
      "find_lorenz_distance_at_target_KY tried spread = 0.00625 and got 50.47477019312261\n",
      "0.9585982142857142\n",
      "0.9604196428571428\n",
      "0.9622410714285714\n",
      "0.9640624999999999\n",
      "0.9658839285714285\n",
      "0.9677053571428571\n",
      "0.9695267857142856\n",
      "get_KY_ratio_difference tried center = 0.9640624999999999 and got -5.91831216456954\n",
      "find_lorenz_distance_at_target_KY tried spread = 0.0063750000000000005 and got 50.39900961665359\n",
      "0.9802410714285714\n",
      "0.9823482142857143\n",
      "0.9844553571428571\n",
      "0.9865625\n",
      "0.9886696428571429\n",
      "0.9907767857142857\n",
      "0.9928839285714286\n",
      "get_KY_ratio_difference tried center = 0.9865625 and got 4.302067903692269\n",
      "find_lorenz_distance_at_target_KY tried spread = 0.007375 and got 12.442011878389229\n",
      "0.9460625\n",
      "0.9483125\n",
      "0.9505625\n",
      "0.9528125\n",
      "0.9550624999999999\n",
      "0.9573124999999999\n",
      "0.9595624999999999\n",
      "get_KY_ratio_difference tried center = 0.9528125 and got -6.055166981061484\n",
      "find_lorenz_distance_at_target_KY tried spread = 0.007875 and got 49.734643149429225\n",
      "0.9694196428571429\n",
      "0.9713839285714286\n",
      "0.9733482142857143\n",
      "0.9753125\n",
      "0.9772767857142858\n",
      "0.9792410714285714\n",
      "0.9812053571428572\n",
      "get_KY_ratio_difference tried center = 0.9753125 and got -5.618044501320321\n",
      "find_lorenz_distance_at_target_KY tried spread = 0.006875 and got 50.6097769485509\n",
      "0.9527589285714285\n",
      "0.9546517857142857\n",
      "0.9565446428571428\n",
      "0.9584374999999999\n",
      "0.9603303571428571\n",
      "0.9622232142857142\n",
      "0.9641160714285714\n",
      "get_KY_ratio_difference tried center = 0.9584374999999999 and got -5.996487219242689\n",
      "find_lorenz_distance_at_target_KY tried spread = 0.006625 and got 50.082339462807894\n",
      "0.9744017857142857\n",
      "0.9765803571428572\n",
      "0.9787589285714285\n",
      "0.9809375\n",
      "0.9831160714285715\n",
      "0.9852946428571429\n",
      "0.9874732142857143\n",
      "get_KY_ratio_difference tried center = 0.9809375 and got -4.858477072551426\n",
      "find_lorenz_distance_at_target_KY tried spread = 0.007625 and got 41.65950420495701\n",
      "0.9635803571428571\n",
      "0.9656160714285713\n",
      "0.9676517857142857\n",
      "0.9696874999999999\n",
      "0.9717232142857142\n",
      "0.9737589285714285\n",
      "0.9757946428571428\n",
      "get_KY_ratio_difference tried center = 0.9696874999999999 and got -5.803875316391889\n",
      "find_lorenz_distance_at_target_KY tried spread = 0.007125 and got 50.57592944946397\n",
      "0.9869374999999999\n",
      "0.9886874999999999\n",
      "0.9904375\n",
      "0.9921875\n",
      "0.9939375\n",
      "0.9956875000000001\n",
      "0.9974375000000001\n",
      "get_KY_ratio_difference tried center = 0.9921875 and got 45.60394452543596\n",
      "find_lorenz_distance_at_target_KY tried spread = 0.006125 and got 14.325658059095899\n",
      "0.9657901785714286\n",
      "0.9675580357142857\n",
      "0.9693258928571429\n",
      "0.97109375\n",
      "0.9728616071428571\n",
      "0.9746294642857143\n",
      "0.9763973214285714\n",
      "get_KY_ratio_difference tried center = 0.97109375 and got -5.7715915275631104\n",
      "find_lorenz_distance_at_target_KY tried spread = 0.0061875 and got 50.76801523504172\n",
      "0.9874330357142858\n",
      "0.9894866071428572\n",
      "0.9915401785714286\n",
      "0.99359375\n",
      "0.9956473214285715\n",
      "0.9977008928571429\n",
      "0.9997544642857144\n",
      "get_KY_ratio_difference tried center = 0.99359375 and got 86.52798762120801\n",
      "find_lorenz_distance_at_target_KY tried spread = 0.0071875 and got 8.971632067013529\n",
      "0.9532544642857144\n",
      "0.9554508928571429\n",
      "0.9576473214285715\n",
      "0.95984375\n",
      "0.9620401785714285\n",
      "0.9642366071428571\n",
      "0.9664330357142856\n",
      "get_KY_ratio_difference tried center = 0.95984375 and got -5.977400474545019\n",
      "find_lorenz_distance_at_target_KY tried spread = 0.0076875 and got 50.0847560000532\n",
      "0.9766116071428571\n",
      "0.9785223214285714\n",
      "0.9804330357142856\n",
      "0.98234375\n",
      "0.9842544642857143\n",
      "0.9861651785714285\n",
      "0.9880758928571428\n",
      "get_KY_ratio_difference tried center = 0.98234375 and got -4.461892225822288\n",
      "find_lorenz_distance_at_target_KY tried spread = 0.0066875 and got 38.025962789179374\n",
      "0.9782346936098428\n",
      "0.9805204078955572\n",
      "0.9828061221812714\n",
      "0.9850918364669857\n",
      "0.9873775507527001\n",
      "0.9896632650384143\n",
      "0.9919489793241286\n",
      "Estimate is center=0.9850918364669857, spread=0.008, took 991.2505242824554 seconds.\n",
      "Running in interactive shell (Jupyter notebook or spyder)\n"
     ]
    },
    {
     "data": {
      "image/png": "[encoded data removed]",
      "text/plain": [
       "<Figure size 640x480 with 1 Axes>"
      ]
     },
     "metadata": {},
     "output_type": "display_data"
    },
    {
     "name": "stdout",
     "output_type": "stream",
     "text": [
      "Estimate is center=0.9850918364669857, spread=0.008\n",
      "Lorenz distance is 12.952515055313201\n",
      "Average MPC for all consumers is 0.248\n",
      "Average MPC in the top percentile of W/Y is 0.057\n",
      "Average MPC in the top decile of W/Y is 0.062\n",
      "Average MPC in the top quintile of W/Y is 0.066\n",
      "Average MPC in the second quintile of W/Y is 0.098\n",
      "Average MPC in the middle quintile of W/Y is 0.208\n",
      "Average MPC in the fourth quintile of W/Y is 0.317\n",
      "Average MPC in the bottom quintile of W/Y is 0.553\n",
      "Average MPC in the top percentile of y is 0.231\n",
      "Average MPC in the top decile of y is 0.223\n",
      "Average MPC in the top quintile of y is 0.227\n",
      "Average MPC in the second quintile of y is 0.257\n",
      "Average MPC in the middle quintile of y is 0.260\n",
      "Average MPC in the fourth quintile of y is 0.227\n",
      "Average MPC in the bottom quintile of y is 0.271\n",
      "Average MPC for the employed is 0.238\n",
      "Average MPC for the unemployed is 0.386\n",
      "Average MPC for the retired is nan\n",
      "Of the population with the 1/3 highest MPCs...\n",
      "51.039% are in the bottom wealth quintile,\n",
      "33.540% are in the second wealth quintile,\n",
      "12.675% are in the third wealth quintile,\n",
      "2.649% are in the fourth wealth quintile,\n",
      "and 0.096% are in the top wealth quintile.\n",
      "\n",
      "These results have been saved to ./Code/Results/PYbetaDistIndLiquid.txt\n",
      "\n",
      "\n"
     ]
    }
   ],
   "source": [
    "options = {\n",
    "    \"param_name\": param_name,\n",
    "    \"dist_type\": dist_type,\n",
    "    \"run_estimation\": run_estimation,\n",
    "    \"run_sensitivity\": run_sensitivity,\n",
    "    \"find_beta_vs_KY\": find_beta_vs_KY,\n",
    "    \"do_tractable\": do_tractable,\n",
    "    \"do_param_dist\": do_param_dist,\n",
    "    \"do_lifecycle\": do_lifecycle,\n",
    "    \"do_agg_shocks\": do_agg_shocks,\n",
    "    \"do_liquid\": do_liquid,\n",
    "}\n",
    "\n",
    "\n",
    "EstimationEconomy = estimate(options, Params)"
   ]
  },
  {
   "cell_type": "code",
   "execution_count": 8,
   "metadata": {},
   "outputs": [],
   "source": [
    "# Construct the Lorenz curves and plot them\n",
    "\n",
    "pctiles = np.linspace(0.001, 0.999, 15)\n",
    "SCF_Lorenz_points = get_lorenz_shares(\n",
    "    SCF_wealth, weights=SCF_weights, percentiles=pctiles\n",
    ")\n",
    "\n",
    "sim_wealth = EstimationEconomy.reap_state[\"aLvl\"][0]\n",
    "sim_Lorenz_points = get_lorenz_shares(sim_wealth, percentiles=pctiles)"
   ]
  },
  {
   "cell_type": "code",
   "execution_count": 9,
   "metadata": {
    "lines_to_next_cell": 2
   },
   "outputs": [
    {
     "data": {
      "image/png": "[encoded data removed]",
      "text/plain": [
       "<Figure size 500x500 with 1 Axes>"
      ]
     },
     "metadata": {},
     "output_type": "display_data"
    }
   ],
   "source": [
    "# Plot\n",
    "plt.figure(figsize=(5, 5))\n",
    "plt.title(\"Wealth Distribution\")\n",
    "plt.plot(pctiles, SCF_Lorenz_points, \"--k\", label=\"SCF\")\n",
    "plt.plot(pctiles, sim_Lorenz_points, \"-b\", label=\"Beta-Dist\")\n",
    "plt.plot(pctiles, pctiles, \"g-.\", label=\"45 Degree\")\n",
    "plt.xlabel(\"Percentile of net worth\")\n",
    "plt.ylabel(\"Cumulative share of wealth\")\n",
    "plt.legend(loc=2)\n",
    "plt.ylim([0, 1])\n",
    "plt.show(\"wealth_distribution_2\")"
   ]
  },
  {
   "cell_type": "code",
   "execution_count": null,
   "metadata": {},
   "outputs": [],
   "source": []
  }
 ],
 "metadata": {
  "jupytext": {
   "encoding": "# -*- coding: utf-8 -*-",
   "formats": "ipynb,py:percent"
  },
  "kernelspec": {
   "display_name": "Python 3 (ipykernel)",
   "language": "python",
   "name": "python3"
  },
  "language_info": {
   "codemirror_mode": {
    "name": "ipython",
    "version": 3
   },
   "file_extension": ".py",
   "mimetype": "text/x-python",
   "name": "python",
   "nbconvert_exporter": "python",
   "pygments_lexer": "ipython3",
   "version": "3.9.16"
  },
  "latex_envs": {
   "LaTeX_envs_menu_present": true,
   "autoclose": false,
   "autocomplete": false,
   "bibliofile": "biblio.bib",
   "cite_by": "apalike",
   "current_citInitial": 1,
   "eqLabelWithNumbers": true,
   "eqNumInitial": 1,
   "hotkeys": {
    "equation": "Ctrl-E",
    "itemize": "Ctrl-I"
   },
   "labels_anchors": false,
   "latex_user_defs": false,
   "report_style_numbering": false,
   "user_envs_cfg": false
  },
  "toc": {
   "base_numbering": 1,
   "nav_menu": {},
   "number_sections": true,
   "sideBar": true,
   "skip_h1_title": false,
   "title_cell": "Table of Contents",
   "title_sidebar": "Contents",
   "toc_cell": false,
   "toc_position": {
    "height": "calc(100% - 180px)",
    "left": "10px",
    "top": "150px",
    "width": "164.994px"
   },
   "toc_section_display": true,
   "toc_window_display": true
  },
  "vscode": {
   "interpreter": {
    "hash": "79df5fddd1bf7837182dc0288ea2fd71cfa8aa9192614ea42e8f71958b4b5b41"
   }
  }
 },
 "nbformat": 4,
 "nbformat_minor": 4
}
