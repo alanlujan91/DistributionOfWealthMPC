{
 "cells": [
  {
   "cell_type": "markdown",
   "metadata": {},
   "source": [
    "# The Distribution of Wealth and the MPC\n"
   ]
  },
  {
   "cell_type": "markdown",
   "metadata": {},
   "source": [
    "This notebook presents a selection of results from the paper [The Distribution of Wealth and the Marginal Propensity to Consume](http://econ.jhu.edu/people/ccarroll/papers/cstwMPC), using the [Econ-ARK/HARK](https://github.com/econ-ark/HARK) toolkit.  It sketches the steps that would need to be taken to solve the model using the [dolARK](https://github.com/EconForge/dolARK) modeling system."
   ]
  },
  {
   "cell_type": "code",
   "execution_count": 1,
   "metadata": {
    "code_folding": [
     0
    ]
   },
   "outputs": [],
   "source": [
    "# This cell does some standard python setup\n",
    "\n",
    "# Tools for navigating the filesystem\n",
    "import sys\n",
    "import os\n",
    "\n",
    "# Import related generic python packages\n",
    "import numpy as np\n",
    "from time import time\n",
    "mystr = lambda number : \"{:.4f}\".format(number)\n",
    "from copy import copy, deepcopy\n",
    "\n",
    "# Plotting tools\n",
    "import matplotlib\n",
    "import matplotlib.pyplot as plt\n",
    "from matplotlib.pyplot import plot, draw, show\n",
    "\n",
    "# iPython gives us some interactive and graphical tools\n",
    "from IPython import get_ipython # In case it was run from python instead of ipython\n",
    "\n",
    "# The warnings package allows us to ignore some harmless but alarming warning messages\n",
    "import warnings\n",
    "warnings.filterwarnings(\"ignore\")"
   ]
  },
  {
   "cell_type": "markdown",
   "metadata": {},
   "source": [
    "## Abstract\n",
    "\n",
    "In a model calibrated to match micro- and macroeconomic evidence on household income dynamics, this paper shows that a modest degree of heterogeneity in household preferences or beliefs is sufficient to match empirical measures of wealth inequality in the U.S. The hegerogeneity-augmented model's predictions are consistent with microeconomic evidence that suggests that the annual marginal propensity to consume (MPC) is much larger than the roughly 0.04 implied by commonly-used macroeconomic models (even ones including some heterogeneity).  The high MPC arises because many consumers hold little wealth despite having a strong precautionary motive.  The model also plausibly predicts that the aggregate MPC can differ greatly depending on how the shock is distributed across households (depending, e.g., on their wealth, or employment status)."
   ]
  },
  {
   "cell_type": "markdown",
   "metadata": {},
   "source": [
    "## Notation For the Core Model\n",
    "\n",
    "We define the following notation.\n",
    "\n",
    "| Exogenous Random Variable | Description | Code | Value |\n",
    "| :---: | ---         | ---  | :---: |\n",
    "| $\\newcommand{\\tshk}{\\zeta}\\tshk$ | Transitory Income | $\\texttt{tshk}$ |  |\n",
    "| $\\newcommand{\\pshk}{\\psi}\\pshk$ | Permanent Shock | $\\texttt{pshk}$ |  |\n",
    "\n",
    "| Parameter | Description | Code | Value |\n",
    "| :---: | ---         | ---  | :---: |\n",
    "| $\\newcommand{\\PLives}{\\Lambda} \\PLives$ | Probability of living | $\\texttt{PLives}$ | 0.99375\n",
    "| $\\newcommand{\\Discount}{\\beta}\\Discount$ | Time Preference Factor | $\\texttt{Discount}$ | 0.96 |\n",
    "| $\\newcommand{\\CRRA}{\\rho}\\CRRA$ | Coeﬃcient of Relative Risk Aversion| $\\texttt{CRRA}$ | 1 |\n",
    "| $\\sigma_\\tshk$ | Transitory Income Standard Deviation | $\\texttt{PermShkStd}$ | 0.1  |\n",
    "| $\\sigma_\\pshk$ | Permanent Shock Standard Deviation |$\\texttt{TranShkStd}$ | 0.1 |\n",
    "\n",
    "\n",
    "| Variable | Description | Code | \n",
    "| :---: | ---         | ---  | \n",
    "| $\\newcommand{\\aRat}{a}\\aRat$ | Assets | $\\texttt{aRat}$ |  \n",
    "| $\\newcommand{\\mRat}{m}\\mRat$ | Market resources | $\\texttt{mRt}$ |  \n",
    "| $\\newcommand{\\KLev}{K}\\KLev$ | Capital Aggregate | $\\texttt{KLev}$\n",
    "| $\\newcommand{\\kapShare}{\\alpha}\\kapShare$ | Capital share | $\\texttt{kapShare}$\n",
    "| $\\newcommand{\\LLev}{L}\\LLev$ | Labor Aggregate | $\\texttt{LLev}$\n",
    "| $\\newcommand{\\labor}{\\ell}\\labor$ | Labor share | $\\texttt{labor}$ \n",
    "| $\\newcommand{\\kRat}{k}\\kRat$ | $K/P$| $\\texttt{kRat}$ |  \n",
    "| $\\newcommand{\\pRat}{p}\\pRat$ | Permanent Income | |  \n",
    "| $\\mathbf{P}$ | | | \n",
    "| $\\newcommand{\\rProd}{r}\\rProd$ | Interest rate | $\\texttt{rProd}$ |  \n",
    "| $\\newcommand{\\yLev}{y} \\yLev$ | Income | $\\texttt{yLev}$ \n",
    "| $\\newcommand{\\Wage}{W}\\Wage$ | Aggregate Wage Rate | $\\texttt{Wage}$ | \n",
    "\n",
    "| Functions | Description | Code | Value |\n",
    "| :---: | ---         | ---  | :---: |\n",
    "| $\\newcommand{\\cFunc}{\\mathrm{c}}\\cFunc$ | Consumption | $\\texttt{cFunc}$ |  |\n",
    "| $\\newcommand{\\valfn}{\\mathrm{v}} \\valfn$ | Value | $\\texttt{valfn}$\n",
    "| $\\newcommand{\\uFunc}{{\\mathrm{u}}}\\uFunc$ | Utility | $\\texttt{uFunc}$ |  |\n",
    "\n",
    "$\\newcommand{\\cRat}{c}$\n",
    "$\\newcommand{\\Ex}{\\mathbb{E}}$\n",
    "$\\newcommand{\\PDies}{\\mathsf{P}}$\n",
    "$\\newcommand{\\ptyLev}{a}$\n",
    "$\\newcommand{\\YLev}{Y}$\n",
    "$\\newcommand{\\wEndRat}{\\aRat}$"
   ]
  },
  {
   "cell_type": "markdown",
   "metadata": {},
   "source": [
    "The consumer has a standard Constant Relative Risk Aversion utility function $$u(c)=\\frac{c^{1-\\rho}}{1-\\rho}$$"
   ]
  },
  {
   "cell_type": "markdown",
   "metadata": {},
   "source": [
    "The idiosyncratic (household) income process is logarithmic Friedman:\n",
    "\\begin{eqnarray*}\n",
    "\\yLev_{t+1}&=&\\pRat_{t+1}\\tshk_{t+1}\\Wage\\\\\n",
    "\\pRat_{t+1}&=&\\pRat_{t}\\pshk_{t+1}\n",
    "\\end{eqnarray*}"
   ]
  },
  {
   "cell_type": "markdown",
   "metadata": {},
   "source": [
    "The Bellman form of the value function for households is:\n",
    "\n",
    "\\begin{eqnarray*}\n",
    "\\valfn(\\mRat_{t})&=&\\underset{\\cFunc_{t}}{\\max } ~~ \\uFunc(\\cFunc_{t}(\\mRat_t))+\\Discount \\PLives \\Ex_{t}\\left[ \\pshk_{t+1}^{1-\\CRRA}\\valfn(\\mRat_{t+1})\n",
    "\\right]   \\\\\n",
    "\\notag &\\text{s.t.}&\\\\\n",
    "\\wEndRat_{t} &=&\\mRat_{t}-\\cRat_{t},\\\\\n",
    "\\wEndRat_{t} &\\geq &0, \\\\\n",
    "\\kRat_{t+1} &=&\\wEndRat_{t}/(\\PLives \\pshk_{t+1}),\n",
    "\\\\\n",
    "\\mRat_{t+1} &=&(\\daleth +\\rProd_t)\\kRat_{t+1}+\\tshk_{t+1},\\\\\n",
    "\\rProd &=&\\kapShare\\ptyLev(\\KLev/\\labor\\LLev)^{\\kapShare-1}\\\\\n",
    "\\end{eqnarray*}"
   ]
  },
  {
   "cell_type": "code",
   "execution_count": 2,
   "metadata": {},
   "outputs": [],
   "source": [
    "'''\n",
    "This will run the absolute minimum amount of work that actually produces\n",
    "relevant output-- no aggregate shocks, perpetual youth, matching net worth.\n",
    "Will run both beta-point and beta-dist versions.\n",
    "'''\n",
    "import os\n",
    "\n",
    "'''\n",
    "Copied here from do_min.py.\n",
    "Design decisions about whether to include this code explicitly,\n",
    "or import it, or execute it as is here, TBD.\n",
    "'''\n",
    "\n",
    "here = os.path.dirname(os.path.realpath(\"cstwMPC.ipynb\"))\n",
    "my_path = os.path.join(here,'')\n",
    "path_to_models = os.path.join(my_path,'Code')"
   ]
  },
  {
   "cell_type": "code",
   "execution_count": 3,
   "metadata": {
    "lines_to_next_cell": 2
   },
   "outputs": [],
   "source": [
    "# For speed here, use the \"tractable\" version of the model\n",
    "# This is not the \"right\" model, but illustrates the key point\n",
    "'''\n",
    "This options file specifies parameter heterogeneity, making the choice in the paper:\n",
    "uniformly distributed discount factors.\n",
    "'''\n",
    "param_name = 'DiscFac'        # Which parameter to introduce heterogeneity in\n",
    "dist_type = 'uniform'         # Which type of distribution to use\n",
    "\n",
    "'''\n",
    "This options file specifies the \"standard\" work options for cstwMPC, estimating the model only.\n",
    "'''\n",
    "run_estimation = True         # Runs the estimation if True\n",
    "run_sensitivity = [False, False, False, False, False, False, False, False] # Choose which sensitivity analyses to run: rho, xi_sigma, psi_sigma, mu, urate, mortality, g, R\n",
    "find_beta_vs_KY = False       # Computes K/Y ratio for a wide range of beta; should have do_beta_dist = False\n",
    "do_tractable = True          # Uses a \"tractable consumer\" rather than solving full model when True"
   ]
  },
  {
   "cell_type": "code",
   "execution_count": 4,
   "metadata": {},
   "outputs": [
    {
     "name": "stdout",
     "output_type": "stream",
     "text": [
      "Beginning an estimation with the specification name PYbetaPointIndNetWorth...\n",
      "\n",
      "\n",
      "\n",
      "\n",
      "\n",
      "getKYratioDifference tried center = 0.95 and got -9.737467406398238\n",
      "The given type violates the Absolute Impatience Condition with the supplied parameter values; the AIF is 1.00495  \n",
      "The given parameter values violate the Growth Impatience Condition for this consumer type; the GIF is: 1.0050 \n",
      "\n",
      "\n",
      "The given parameter values violate the Growth Impatience Condition for this consumer type; the GIF is: 1.0050 \n",
      "getKYratioDifference tried center = 0.995 and got 65.56174461486972\n",
      "\n",
      "\n",
      "\n",
      "\n",
      "\n",
      "getKYratioDifference tried center = 0.9558192645251606 and got -9.682962081909512\n",
      "\n",
      "\n",
      "\n",
      "\n",
      "\n",
      "getKYratioDifference tried center = 0.9754096322625803 and got -9.30238283304393\n",
      "\n",
      "\n",
      "\n",
      "\n",
      "\n",
      "getKYratioDifference tried center = 0.9852048161312901 and got -8.202435342294791\n",
      "The given type violates the Absolute Impatience Condition with the supplied parameter values; the AIF is 1.00000  \n",
      "The given parameter values violate the Growth Impatience Condition for this consumer type; the GIF is: 1.0000 \n",
      "\n",
      "\n",
      "The given parameter values violate the Growth Impatience Condition for this consumer type; the GIF is: 1.0000 \n",
      "getKYratioDifference tried center = 0.9901024080656451 and got 5.330284130112025\n",
      "\n",
      "\n",
      "\n",
      "\n",
      "\n",
      "getKYratioDifference tried center = 0.9881733385525523 and got -3.9914530499444387\n",
      "\n",
      "\n",
      "\n",
      "\n",
      "\n",
      "getKYratioDifference tried center = 0.9889993423588024 and got -0.667776237950152\n",
      "\n",
      "\n",
      "\n",
      "\n",
      "\n",
      "getKYratioDifference tried center = 0.989146822569607 and got 0.034770717735451484\n",
      "\n",
      "\n",
      "\n",
      "\n",
      "\n",
      "getKYratioDifference tried center = 0.9891395234236353 and got -0.000711323657323959\n",
      "\n",
      "\n",
      "\n",
      "\n",
      "\n",
      "getKYratioDifference tried center = 0.9891400234236357 and got 0.0017168379920207144\n",
      "\n",
      "\n",
      "\n",
      "\n",
      "\n",
      "Estimate is center=0.9891395234236353, spread=0.0, took 31.892662 seconds.\n"
     ]
    },
    {
     "data": {
      "image/png": "[encoded data removed]",
      "text/plain": [
       "<Figure size 432x288 with 1 Axes>"
      ]
     },
     "metadata": {
      "needs_background": "light"
     },
     "output_type": "display_data"
    },
    {
     "name": "stdout",
     "output_type": "stream",
     "text": [
      "Estimate is center=0.9891395234236353, spread=0.0\n",
      "Lorenz distance is 42.691225404510476\n",
      "Average MPC for all consumers is 0.099\n",
      "Average MPC in the top percentile of W/Y is 0.068\n",
      "Average MPC in the top decile of W/Y is 0.071\n",
      "Average MPC in the top quintile of W/Y is 0.072\n",
      "Average MPC in the second quintile of W/Y is 0.074\n",
      "Average MPC in the middle quintile of W/Y is 0.074\n",
      "Average MPC in the fourth quintile of W/Y is 0.076\n",
      "Average MPC in the bottom quintile of W/Y is 0.199\n",
      "Average MPC in the top percentile of y is 0.075\n",
      "Average MPC in the top decile of y is 0.078\n",
      "Average MPC in the top quintile of y is 0.084\n",
      "Average MPC in the second quintile of y is 0.114\n",
      "Average MPC in the middle quintile of y is 0.123\n",
      "Average MPC in the fourth quintile of y is 0.082\n",
      "Average MPC in the bottom quintile of y is 0.093\n",
      "Average MPC for the employed is 0.097\n",
      "Average MPC for the unemployed is 0.131\n",
      "Average MPC for the retired is nan\n",
      "Of the population with the 1/3 highest MPCs...\n",
      "61.057% are in the bottom wealth quintile,\n",
      "28.655% are in the second wealth quintile,\n",
      "7.285% are in the third wealth quintile,\n",
      "2.207% are in the fourth wealth quintile,\n",
      "and 0.796% are in the top wealth quintile.\n",
      "\n",
      "These results have been saved to ./Code/Results/PYbetaPointIndNetWorth.txt\n",
      "\n",
      "\n"
     ]
    }
   ],
   "source": [
    "# Solve for the $\\beta-Point$ (do_param_dist=False) for speed\n",
    "'''\n",
    "This options file establishes the second simplest model specification possible:\n",
    "with heterogeneity, no aggregate shocks, perpetual youth model, matching net worth.\n",
    "'''\n",
    "do_param_dist = False          # Do param-dist version if True, param-point if False\n",
    "do_lifecycle = False          # Use lifecycle model if True, perpetual youth if False\n",
    "do_agg_shocks = False         # Solve the FBS aggregate shocks version of the model\n",
    "do_liquid = False            # Matches liquid assets data when True, net worth data when False\n",
    "\n",
    "\n",
    "os.chdir(path_to_models)\n",
    "exec(open('cstwMPC_MAIN.py').read())"
   ]
  },
  {
   "cell_type": "code",
   "execution_count": 5,
   "metadata": {},
   "outputs": [
    {
     "data": {
      "image/png": "[encoded data removed]",
      "text/plain": [
       "<Figure size 360x360 with 1 Axes>"
      ]
     },
     "metadata": {
      "needs_background": "light"
     },
     "output_type": "display_data"
    }
   ],
   "source": [
    "# Get some tools for plotting simulated vs actual wealth distributions\n",
    "from HARK.utilities import getLorenzShares, getPercentiles\n",
    "\n",
    "# The cstwMPC model conveniently has data on the wealth distribution \n",
    "# from the U.S. Survey of Consumer Finances\n",
    "from HARK.cstwMPC.SetupParamsCSTW import SCF_wealth, SCF_weights\n",
    "\n",
    "# Construct the Lorenz curves and plot them\n",
    "\n",
    "pctiles = np.linspace(0.001,0.999,15)\n",
    "SCF_Lorenz_points = getLorenzShares(SCF_wealth,weights=SCF_weights,percentiles=pctiles)\n",
    "\n",
    "sim_wealth = EstimationEconomy.aLvlNow[0]\n",
    "sim_Lorenz_points = getLorenzShares(sim_wealth,percentiles=pctiles)\n",
    "\n",
    "# Plot \n",
    "plt.figure(figsize=(5,5))\n",
    "plt.title('Wealth Distribution')\n",
    "plt.plot(pctiles,SCF_Lorenz_points,'--k',label='SCF')\n",
    "plt.plot(pctiles,sim_Lorenz_points,'-b',label='Beta-Point')\n",
    "plt.plot(pctiles,pctiles,'g-.',label='45 Degree')\n",
    "plt.xlabel('Percentile of net worth')\n",
    "plt.ylabel('Cumulative share of wealth')\n",
    "plt.legend(loc=2)\n",
    "plt.ylim([0,1])\n",
    "plt.show('wealth_distribution_1')"
   ]
  },
  {
   "cell_type": "markdown",
   "metadata": {},
   "source": [
    "## Time Preference Heterogeneneity\n",
    "\n",
    "Our specific approach is to replace the assumption that all households have the same time\n",
    "preference factor with an assumption that, for some dispersion $\\nabla$, time\n",
    "preference factors are distributed uniformly in the population between\n",
    "$\\grave{\\Discount}-\\nabla$ and $\\grave{\\Discount}+\\nabla$ (for this reason, the model is referred to as the $\\Discount$-Dist model).  Then,\n",
    "using simulations, we search for the values of $\\grave{\\Discount}$ and\n",
    "$\\nabla$ for which the model best matches the fraction of net worth held by the top $20$, $40$, $60$, and $80$ percent of the population, while at the same time matching\n",
    "the aggregate capital-to-output ratio from the perfect foresight\n",
    "model. Specifically, defining $w_{i}$ and $\\omega _{i}$ as the proportion of total aggregate net worth held by the top $i$ percent in our model and in the data, respectively, we solve the following minimization problem:\n",
    "\n",
    "$$  \\{\\grave{\\Discount}, \\nabla\\}= \\underset{\\{{\\Discount}, \\nabla\\}}{\\text{argmin} }\\Big(\\sum_\\text{i=20, 40, 60, 80}\n",
    "  \\big(w_{i}({\\Discount}, \\nabla)-\\omega _{i}\\big)^{2}\\Big)^{1/2}$$\n",
    "  subject to the constraint that the aggregate wealth (net worth)-to-output ratio in the model matches the aggregate\n",
    "capital-to-output ratio from the perfect foresight model ($\\KLev_{PF}/\\YLev_{PF}$). When solving the problem for the FBS specification we shut down the aggregate shocks (practically, this does not affect the estimates given their small size).\n",
    " \n",
    "$$\\KLev / \\YLev = \\KLev_{PF} / \\YLev_{PF}$$\n",
    "\n",
    "The solution to this problem is $\\{\\grave{\\Discount}, \\nabla\\}=\\{0.9867, 0.0067\\}$\n",
    ", so that the discount factors are evenly spread roughly between 0.98 and 0.99. We call the optimal value of the objective function the 'Lorenz distance' and use it as a measure of fit of the models.\n",
    "\n",
    "The introduction of even such a relatively modest amount of time\n",
    "preference heterogeneity sharply improves the model's fit to the targeted\n",
    "proportions of wealth holdings, bringing it reasonably in line with the data."
   ]
  },
  {
   "cell_type": "code",
   "execution_count": null,
   "metadata": {
    "scrolled": true
   },
   "outputs": [
    {
     "name": "stdout",
     "output_type": "stream",
     "text": [
      "Beginning an estimation with the specification name PYbetaDistIndLiquid...\n",
      "getKYratioDifference tried center = 0.95 and got -6.075744713972091\n",
      "getKYratioDifference tried center = 0.995 and got 111.76737279427269\n",
      "getKYratioDifference tried center = 0.9523201058993506 and got -6.055195625199659\n",
      "getKYratioDifference tried center = 0.9736600529496753 and got -5.684198676919181\n",
      "getKYratioDifference tried center = 0.9843300264748376 and got -3.0115687152149486\n",
      "getKYratioDifference tried center = 0.9896650132374187 and got 16.765594594165385\n",
      "getKYratioDifference tried center = 0.9851424119003377 and got -1.7495265290069613\n",
      "getKYratioDifference tried center = 0.9861621794459002 and got 0.464734381802705\n",
      "getKYratioDifference tried center = 0.985948148191699 and got -0.06632048718483752\n",
      "getKYratioDifference tried center = 0.9859748773639189 and got -0.00206330128011345\n",
      "getKYratioDifference tried center = 0.9859757318452261 and got -6.473122304839762e-07\n",
      "getKYratioDifference tried center = 0.9859762318452265 and got 0.0012065867285953047\n",
      "findLorenzDistanceAtTargetKY tried spread = 0.006 and got 19.749358529784313\n",
      "getKYratioDifference tried center = 0.95 and got -6.074329349907804\n",
      "getKYratioDifference tried center = 0.995 and got 153.76485470647563\n",
      "getKYratioDifference tried center = 0.9517101239746658 and got -6.059198957121332\n",
      "getKYratioDifference tried center = 0.9733550619873329 and got -5.677994182319397\n",
      "getKYratioDifference tried center = 0.9841775309936664 and got -1.0649288044380345\n",
      "getKYratioDifference tried center = 0.9865895842994721 and got 5.91923800548585\n",
      "getKYratioDifference tried center = 0.9845453150276249 and got -0.3090101531308731\n",
      "getKYratioDifference tried center = 0.9846882012829227 and got 0.009287781264188943\n",
      "getKYratioDifference tried center = 0.9846840319304342 and got -0.000199768947886092\n",
      "getKYratioDifference tried center = 0.9846845319304346 and got 0.0009373473997769111\n",
      "findLorenzDistanceAtTargetKY tried spread = 0.008 and got 14.267990340611645\n",
      "getKYratioDifference tried center = 0.95 and got -6.07111352958761\n",
      "getKYratioDifference tried center = 0.995 and got 287.31581963388754\n",
      "getKYratioDifference tried center = 0.9509311938534059 and got -6.062792341529118\n",
      "getKYratioDifference tried center = 0.9729655969267029 and got -5.647989738263023\n",
      "getKYratioDifference tried center = 0.9839827984633515 and got 4.3791970758657435\n"
     ]
    }
   ],
   "source": [
    "'''\n",
    "This options file establishes the second simplest model specification possible:\n",
    "with heterogeneity, no aggregate shocks, perpetual youth model, matching net worth.\n",
    "'''\n",
    "do_param_dist = True          # Do param-dist version if True, param-point if False\n",
    "do_lifecycle = False          # Use lifecycle model if True, perpetual youth if False\n",
    "do_agg_shocks = False         # Solve the FBS aggregate shocks version of the model\n",
    "do_liquid = True              # Matches liquid assets data when True, net worth data when False\n",
    "do_tractable = True           # \n",
    "os.chdir(path_to_models)\n",
    "exec(open('cstwMPC_MAIN.py').read())"
   ]
  },
  {
   "cell_type": "code",
   "execution_count": null,
   "metadata": {},
   "outputs": [],
   "source": [
    "# Plot \n",
    "plt.figure(figsize=(5,5))\n",
    "plt.title('Wealth Distribution')\n",
    "plt.plot(pctiles,SCF_Lorenz_points,'--k',label='SCF')\n",
    "plt.plot(pctiles,sim_Lorenz_points,'-b',label='Beta-Dist')\n",
    "plt.plot(pctiles,pctiles,'g-.',label='45 Degree')\n",
    "plt.xlabel('Percentile of net worth')\n",
    "plt.ylabel('Cumulative share of wealth')\n",
    "plt.legend(loc=2)\n",
    "plt.ylim([0,1])\n",
    "plt.show('wealth_distribution_2')"
   ]
  }
 ],
 "metadata": {
  "jupytext": {
   "encoding": "# -*- coding: utf-8 -*-",
   "formats": "ipynb,py:percent"
  },
  "kernelspec": {
   "display_name": "Python 3",
   "language": "python",
   "name": "python3"
  },
  "language_info": {
   "codemirror_mode": {
    "name": "ipython",
    "version": 3
   },
   "file_extension": ".py",
   "mimetype": "text/x-python",
   "name": "python",
   "nbconvert_exporter": "python",
   "pygments_lexer": "ipython3",
   "version": "3.6.9"
  },
  "latex_envs": {
   "LaTeX_envs_menu_present": true,
   "autoclose": false,
   "autocomplete": false,
   "bibliofile": "biblio.bib",
   "cite_by": "apalike",
   "current_citInitial": 1,
   "eqLabelWithNumbers": true,
   "eqNumInitial": 1,
   "hotkeys": {
    "equation": "Ctrl-E",
    "itemize": "Ctrl-I"
   },
   "labels_anchors": false,
   "latex_user_defs": false,
   "report_style_numbering": false,
   "user_envs_cfg": false
  },
  "toc": {
   "base_numbering": 1,
   "nav_menu": {},
   "number_sections": true,
   "sideBar": true,
   "skip_h1_title": false,
   "title_cell": "Table of Contents",
   "title_sidebar": "Contents",
   "toc_cell": false,
   "toc_position": {},
   "toc_section_display": true,
   "toc_window_display": true
  }
 },
 "nbformat": 4,
 "nbformat_minor": 4
}
