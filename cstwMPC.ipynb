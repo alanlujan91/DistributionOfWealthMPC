{
 "cells": [
  {
   "cell_type": "markdown",
   "metadata": {},
   "source": [
    "# The Distribution of Wealth and the MPC\n"
   ]
  },
  {
   "cell_type": "markdown",
   "metadata": {},
   "source": [
    "This notebook presents a selection of results from the paper [The Distribution of Wealth and the Marginal Propensity to Consume](http://econ.jhu.edu/people/ccarroll/papers/cstwMPC), using the [Econ-ARK/HARK](https://github.com/econ-ark/HARK) toolkit. It sketches the steps that would need to be taken to solve the model using the [dolARK](https://github.com/EconForge/dolARK) modeling system.\n"
   ]
  },
  {
   "cell_type": "code",
   "execution_count": 1,
   "metadata": {
    "code_folding": [],
    "execution": {
     "iopub.execute_input": "2023-04-04T21:06:29.799771Z",
     "iopub.status.busy": "2023-04-04T21:06:29.799264Z",
     "iopub.status.idle": "2023-04-04T21:06:31.457054Z",
     "shell.execute_reply": "2023-04-04T21:06:31.456053Z"
    }
   },
   "outputs": [],
   "source": [
    "# This cell does some standard python setup!\n",
    "\n",
    "import os  # Tools for navigating the filesystem\n",
    "import warnings  # The warnings package allows us to ignore some harmless but alarming warning messages\n",
    "\n",
    "# Import related generic python packages\n",
    "import matplotlib.pyplot as plt  # Plotting tools\n",
    "import numpy as np\n",
    "from HARK.utilities import get_lorenz_shares\n",
    "\n",
    "import Code.SetupParamsCSTW as Params\n",
    "from Code.cstwMPC_MAIN import estimate\n",
    "from Code.SetupParamsCSTW import SCF_wealth, SCF_weights\n",
    "\n",
    "warnings.filterwarnings(\"ignore\")\n",
    "\n",
    "\n",
    "def mystr(number):\n",
    "    return \"{:.4f}\".format(number)\n"
   ]
  },
  {
   "cell_type": "markdown",
   "metadata": {},
   "source": [
    "## Abstract\n",
    "\n",
    "In a model calibrated to match micro- and macroeconomic evidence on household income dynamics, this paper shows that a modest degree of heterogeneity in household preferences or beliefs is sufficient to match empirical measures of wealth inequality in the U.S. The hegerogeneity-augmented model's predictions are consistent with microeconomic evidence that suggests that the annual marginal propensity to consume (MPC) is much larger than the roughly 0.04 implied by commonly-used macroeconomic models (even ones including some heterogeneity). The high MPC arises because many consumers hold little wealth despite having a strong precautionary motive. The model also plausibly predicts that the aggregate MPC can differ greatly depending on how the shock is distributed across households (depending, e.g., on their wealth, or employment status).\n"
   ]
  },
  {
   "cell_type": "markdown",
   "metadata": {},
   "source": [
    "## Notation For the Core Model\n",
    "\n",
    "We define the following notation.\n",
    "\n",
    "|    Exogenous Random Variable     | Description       | Code            | Value |\n",
    "| :------------------------------: | ----------------- | --------------- | :---: |\n",
    "| $\\newcommand{\\tshk}{\\zeta}\\tshk$ | Transitory Income | $\\texttt{tshk}$ |       |\n",
    "| $\\newcommand{\\pshk}{\\psi}\\pshk$  | Permanent Shock   | $\\texttt{pshk}$ |       |\n",
    "\n",
    "|                Parameter                 | Description                          | Code                  |  Value  |\n",
    "| :--------------------------------------: | ------------------------------------ | --------------------- | :-----: |\n",
    "| $\\newcommand{\\PLives}{\\Lambda} \\PLives$  | Probability of living                | $\\texttt{PLives}$     | 0.99375 |\n",
    "| $\\newcommand{\\Discount}{\\beta}\\Discount$ | Time Preference Factor               | $\\texttt{Discount}$   |  0.96   |\n",
    "|     $\\newcommand{\\CRRA}{\\rho}\\CRRA$      | Coeﬃcient of Relative Risk Aversion  | $\\texttt{CRRA}$       |    1    |\n",
    "|              $\\sigma_\\tshk$              | Transitory Income Standard Deviation | $\\texttt{PermShkStd}$ |   0.1   |\n",
    "|              $\\sigma_\\pshk$              | Permanent Shock Standard Deviation   | $\\texttt{TranShkStd}$ |   0.1   |\n",
    "\n",
    "|                 Variable                  | Description         | Code                |\n",
    "| :---------------------------------------: | ------------------- | ------------------- |\n",
    "|       $\\newcommand{\\aRat}{a}\\aRat$        | Assets              | $\\texttt{aRat}$     |\n",
    "|       $\\newcommand{\\mRat}{m}\\mRat$        | Market resources    | $\\texttt{mRt}$      |\n",
    "|       $\\newcommand{\\KLev}{K}\\KLev$        | Capital Aggregate   | $\\texttt{KLev}$     |\n",
    "| $\\newcommand{\\kapShare}{\\alpha}\\kapShare$ | Capital share       | $\\texttt{kapShare}$ |\n",
    "|       $\\newcommand{\\LLev}{L}\\LLev$        | Labor Aggregate     | $\\texttt{LLev}$     |\n",
    "|     $\\newcommand{\\labor}{\\ell}\\labor$     | Labor share         | $\\texttt{labor}$    |\n",
    "|       $\\newcommand{\\kRat}{k}\\kRat$        | $K/P$               | $\\texttt{kRat}$     |\n",
    "|       $\\newcommand{\\pRat}{p}\\pRat$        | Permanent Income    |                     |\n",
    "|               $\\mathbf{P}$                |                     |                     |\n",
    "|      $\\newcommand{\\rProd}{r}\\rProd$       | Interest rate       | $\\texttt{rProd}$    |\n",
    "|       $\\newcommand{\\yLev}{y} \\yLev$       | Income              | $\\texttt{yLev}$     |\n",
    "|       $\\newcommand{\\Wage}{W}\\Wage$        | Aggregate Wage Rate | $\\texttt{Wage}$     |\n",
    "\n",
    "|                 Functions                 | Description | Code             | Value |\n",
    "| :---------------------------------------: | ----------- | ---------------- | :---: |\n",
    "|  $\\newcommand{\\cFunc}{\\mathrm{c}}\\cFunc$  | Consumption | $\\texttt{cFunc}$ |       |\n",
    "| $\\newcommand{\\valfn}{\\mathrm{v}} \\valfn$  | Value       | $\\texttt{valfn}$ |\n",
    "| $\\newcommand{\\uFunc}{{\\mathrm{u}}}\\uFunc$ | Utility     | $\\texttt{uFunc}$ |       |\n",
    "\n",
    "$\\newcommand{\\cRat}{c}$\n",
    "$\\newcommand{\\Ex}{\\mathbb{E}}$\n",
    "$\\newcommand{\\PDies}{\\mathsf{P}}$\n",
    "$\\newcommand{\\ptyLev}{a}$\n",
    "$\\newcommand{\\YLev}{Y}$\n",
    "$\\newcommand{\\wEndRat}{\\aRat}$\n"
   ]
  },
  {
   "cell_type": "markdown",
   "metadata": {},
   "source": [
    "The consumer has a standard Constant Relative Risk Aversion utility function $$u(c)=\\frac{c^{1-\\rho}}{1-\\rho}$$\n"
   ]
  },
  {
   "attachments": {},
   "cell_type": "markdown",
   "metadata": {},
   "source": [
    "The idiosyncratic (household) income process is logarithmic Friedman:\n",
    "\\begin{align*}\n",
    "\\yLev_{t+1} & = \\pRat_{t+1}\\tshk_{t+1}\\Wage\\\\\n",
    "\\pRat_{t+1} & = \\pRat_{t}\\pshk_{t+1}\n",
    "\\end{align*}\n"
   ]
  },
  {
   "attachments": {},
   "cell_type": "markdown",
   "metadata": {},
   "source": [
    "The Bellman form of the value function for households is:\n",
    "\n",
    "\\begin{align*}\n",
    "\\valfn(\\mRat_{t}) & = \\underset{\\cFunc_{t}}{\\max } ~~ \\uFunc(\\cFunc_{t}(\\mRat_{t}))+\\Discount \\PLives \\Ex_{t}\\left[ \\pshk_{t+1}^{1-\\CRRA}\\valfn(\\mRat_{t+1})\n",
    "\\right] \\\\\n",
    "\\notag & \\text{s.t.}\\\\\n",
    "\\wEndRat_{t} & = \\mRat_{t}-\\cRat_{t},\\\\\n",
    "\\wEndRat_{t} & \\geq0, \\\\\n",
    "\\kRat_{t+1} & = \\wEndRat_{t}/(\\PLives \\pshk_{t+1}),\n",
    "\\\\\n",
    "\\mRat_{t+1} & = (\\daleth +\\rProd_{t})\\kRat_{t+1}+\\tshk_{t+1},\\\\\n",
    "\\rProd & = \\kapShare\\ptyLev(\\KLev/\\labor\\LLev)^{\\kapShare-1}\\\\\n",
    "\\end{align*}\n"
   ]
  },
  {
   "cell_type": "code",
   "execution_count": 2,
   "metadata": {
    "execution": {
     "iopub.execute_input": "2023-04-04T21:06:31.460068Z",
     "iopub.status.busy": "2023-04-04T21:06:31.459061Z",
     "iopub.status.idle": "2023-04-04T21:06:31.472087Z",
     "shell.execute_reply": "2023-04-04T21:06:31.472087Z"
    },
    "lines_to_next_cell": 2
   },
   "outputs": [],
   "source": [
    "\"\"\"\n",
    "This will run the absolute minimum amount of work that actually produces\n",
    "relevant output-- no aggregate shocks, perpetual youth, matching net worth.\n",
    "Will run both beta-point and beta-dist versions.\n",
    "\"\"\"\n",
    "\n",
    "\"\"\"\n",
    "Copied here from do_min.py.\n",
    "Design decisions about whether to include this code explicitly,\n",
    "or import it, or execute it as is here, TBD.\n",
    "\"\"\"\n",
    "\n",
    "here = os.path.dirname(os.path.realpath(\"cstwMPC.ipynb\"))\n",
    "my_path = os.path.join(here, \"\")\n",
    "path_to_models = os.path.join(my_path, \"Code\")"
   ]
  },
  {
   "cell_type": "code",
   "execution_count": 3,
   "metadata": {
    "execution": {
     "iopub.execute_input": "2023-04-04T21:06:31.474086Z",
     "iopub.status.busy": "2023-04-04T21:06:31.474086Z",
     "iopub.status.idle": "2023-04-04T21:06:31.488607Z",
     "shell.execute_reply": "2023-04-04T21:06:31.488102Z"
    },
    "lines_to_next_cell": 2
   },
   "outputs": [],
   "source": [
    "# For speed here, use the \"tractable\" version of the model\n",
    "# This is not the \"right\" model, but illustrates the key point\n",
    "\"\"\"\n",
    "This options file specifies parameter heterogeneity, making the choice in the paper:\n",
    "uniformly distributed discount factors.\n",
    "\"\"\"\n",
    "param_name = \"DiscFac\"  # Which parameter to introduce heterogeneity in\n",
    "dist_type = \"uniform\"  # Which type of distribution to use\n",
    "\n",
    "\"\"\"\n",
    "This options file specifies the \"standard\" work options for cstwMPC, estimating the model only.\n",
    "\"\"\"\n",
    "run_estimation = True  # Runs the estimation if True\n",
    "# Choose which sensitivity analyses to run: rho, xi_sigma, psi_sigma, mu, urate, mortality, g, R\n",
    "run_sensitivity = [False, False, False, False, False, False, False, False]\n",
    "# Computes K/Y ratio for a wide range of beta; should have do_beta_dist = False\n",
    "find_beta_vs_KY = False\n",
    "# Uses a \"tractable consumer\" rather than solving full model when True\n",
    "do_tractable = True\n",
    "\n",
    "# Solve for the $\\beta-Point$ (do_param_dist=False) for speed\n",
    "\"\"\"\n",
    "This options file establishes the second simplest model specification possible:\n",
    "with heterogeneity, no aggregate shocks, perpetual youth model, matching net worth.\n",
    "\"\"\"\n",
    "\n",
    "do_param_dist = False  # Do param-dist version if True, param-point if False\n",
    "do_lifecycle = False  # Use lifecycle model if True, perpetual youth if False\n",
    "do_agg_shocks = False  # Solve the FBS aggregate shocks version of the model\n",
    "# Matches liquid assets data when True, net worth data when False\n",
    "do_liquid = False"
   ]
  },
  {
   "cell_type": "code",
   "execution_count": 4,
   "metadata": {
    "execution": {
     "iopub.execute_input": "2023-04-04T21:06:31.491117Z",
     "iopub.status.busy": "2023-04-04T21:06:31.490117Z",
     "iopub.status.idle": "2023-04-04T21:07:36.292976Z",
     "shell.execute_reply": "2023-04-04T21:07:36.291973Z"
    },
    "lines_to_next_cell": 2
   },
   "outputs": [
    {
     "name": "stderr",
     "output_type": "stream",
     "text": [
      "GPFRaw                 = 0.965535 \n"
     ]
    },
    {
     "name": "stderr",
     "output_type": "stream",
     "text": [
      "GPFNrm                 = 0.968688 \n"
     ]
    },
    {
     "name": "stderr",
     "output_type": "stream",
     "text": [
      "GPFAggLivPrb           = 0.959500 \n"
     ]
    },
    {
     "name": "stderr",
     "output_type": "stream",
     "text": [
      "Thorn = APF            = 0.965535 \n"
     ]
    },
    {
     "name": "stderr",
     "output_type": "stream",
     "text": [
      "PermGroFacAdj          = 0.996744 \n"
     ]
    },
    {
     "name": "stderr",
     "output_type": "stream",
     "text": [
      "uInvEpShkuInv          = 1.000000 \n"
     ]
    },
    {
     "name": "stderr",
     "output_type": "stream",
     "text": [
      "VAF                    = 0.944063 \n"
     ]
    },
    {
     "name": "stderr",
     "output_type": "stream",
     "text": [
      "WRPF                   = 0.066084 \n"
     ]
    },
    {
     "name": "stderr",
     "output_type": "stream",
     "text": [
      "DiscFacGPFNrmMax       = 0.980708 \n"
     ]
    },
    {
     "name": "stderr",
     "output_type": "stream",
     "text": [
      "DiscFacGPFAggLivPrbMax = 0.990099 \n"
     ]
    },
    {
     "name": "stdout",
     "output_type": "stream",
     "text": [
      "Beginning an estimation with the specification name PYbetaPointIndNetWorth...\n",
      "0.95\n"
     ]
    },
    {
     "name": "stderr",
     "output_type": "stream",
     "text": [
      "GPFRaw                 = 1.011270 \n"
     ]
    },
    {
     "name": "stderr",
     "output_type": "stream",
     "text": [
      "GPFNrm                 = 1.014574 \n"
     ]
    },
    {
     "name": "stderr",
     "output_type": "stream",
     "text": [
      "GPFAggLivPrb           = 1.004950 \n"
     ]
    },
    {
     "name": "stderr",
     "output_type": "stream",
     "text": [
      "Thorn = APF            = 1.011270 \n"
     ]
    },
    {
     "name": "stderr",
     "output_type": "stream",
     "text": [
      "PermGroFacAdj          = 0.996744 \n"
     ]
    },
    {
     "name": "stderr",
     "output_type": "stream",
     "text": [
      "uInvEpShkuInv          = 1.000000 \n"
     ]
    },
    {
     "name": "stderr",
     "output_type": "stream",
     "text": [
      "VAF                    = 0.988781 \n"
     ]
    },
    {
     "name": "stderr",
     "output_type": "stream",
     "text": [
      "WRPF                   = 0.069215 \n"
     ]
    },
    {
     "name": "stderr",
     "output_type": "stream",
     "text": [
      "DiscFacGPFNrmMax       = 0.980708 \n"
     ]
    },
    {
     "name": "stderr",
     "output_type": "stream",
     "text": [
      "DiscFacGPFAggLivPrbMax = 0.990099 \n"
     ]
    },
    {
     "name": "stdout",
     "output_type": "stream",
     "text": [
      "get_KY_ratio_difference tried center = 0.95 and got -9.743386134287636\n",
      "0.995\n"
     ]
    },
    {
     "name": "stderr",
     "output_type": "stream",
     "text": [
      "GPFRaw                 = 0.971401 \n"
     ]
    },
    {
     "name": "stderr",
     "output_type": "stream",
     "text": [
      "GPFNrm                 = 0.974574 \n"
     ]
    },
    {
     "name": "stderr",
     "output_type": "stream",
     "text": [
      "GPFAggLivPrb           = 0.965330 \n"
     ]
    },
    {
     "name": "stderr",
     "output_type": "stream",
     "text": [
      "Thorn = APF            = 0.971401 \n"
     ]
    },
    {
     "name": "stderr",
     "output_type": "stream",
     "text": [
      "PermGroFacAdj          = 0.996744 \n"
     ]
    },
    {
     "name": "stderr",
     "output_type": "stream",
     "text": [
      "uInvEpShkuInv          = 1.000000 \n"
     ]
    },
    {
     "name": "stderr",
     "output_type": "stream",
     "text": [
      "VAF                    = 0.949798 \n"
     ]
    },
    {
     "name": "stderr",
     "output_type": "stream",
     "text": [
      "WRPF                   = 0.066486 \n"
     ]
    },
    {
     "name": "stderr",
     "output_type": "stream",
     "text": [
      "DiscFacGPFNrmMax       = 0.980708 \n"
     ]
    },
    {
     "name": "stderr",
     "output_type": "stream",
     "text": [
      "DiscFacGPFAggLivPrbMax = 0.990099 \n"
     ]
    },
    {
     "name": "stdout",
     "output_type": "stream",
     "text": [
      "get_KY_ratio_difference tried center = 0.995 and got 66.22097507353837\n",
      "0.9557718167976613\n"
     ]
    },
    {
     "name": "stderr",
     "output_type": "stream",
     "text": [
      "GPFRaw                 = 0.991336 \n"
     ]
    },
    {
     "name": "stderr",
     "output_type": "stream",
     "text": [
      "GPFNrm                 = 0.994574 \n"
     ]
    },
    {
     "name": "stderr",
     "output_type": "stream",
     "text": [
      "GPFAggLivPrb           = 0.985140 \n"
     ]
    },
    {
     "name": "stderr",
     "output_type": "stream",
     "text": [
      "Thorn = APF            = 0.991336 \n"
     ]
    },
    {
     "name": "stderr",
     "output_type": "stream",
     "text": [
      "PermGroFacAdj          = 0.996744 \n"
     ]
    },
    {
     "name": "stderr",
     "output_type": "stream",
     "text": [
      "uInvEpShkuInv          = 1.000000 \n"
     ]
    },
    {
     "name": "stderr",
     "output_type": "stream",
     "text": [
      "VAF                    = 0.969290 \n"
     ]
    },
    {
     "name": "stderr",
     "output_type": "stream",
     "text": [
      "WRPF                   = 0.067850 \n"
     ]
    },
    {
     "name": "stderr",
     "output_type": "stream",
     "text": [
      "DiscFacGPFNrmMax       = 0.980708 \n"
     ]
    },
    {
     "name": "stderr",
     "output_type": "stream",
     "text": [
      "DiscFacGPFAggLivPrbMax = 0.990099 \n"
     ]
    },
    {
     "name": "stdout",
     "output_type": "stream",
     "text": [
      "get_KY_ratio_difference tried center = 0.9557718167976613 and got -9.689812141385481\n",
      "0.9753859083988307\n"
     ]
    },
    {
     "name": "stderr",
     "output_type": "stream",
     "text": [
      "GPFRaw                 = 1.001303 \n"
     ]
    },
    {
     "name": "stderr",
     "output_type": "stream",
     "text": [
      "GPFNrm                 = 1.004574 \n"
     ]
    },
    {
     "name": "stderr",
     "output_type": "stream",
     "text": [
      "GPFAggLivPrb           = 0.995045 \n"
     ]
    },
    {
     "name": "stderr",
     "output_type": "stream",
     "text": [
      "Thorn = APF            = 1.001303 \n"
     ]
    },
    {
     "name": "stderr",
     "output_type": "stream",
     "text": [
      "PermGroFacAdj          = 0.996744 \n"
     ]
    },
    {
     "name": "stderr",
     "output_type": "stream",
     "text": [
      "uInvEpShkuInv          = 1.000000 \n"
     ]
    },
    {
     "name": "stderr",
     "output_type": "stream",
     "text": [
      "VAF                    = 0.979035 \n"
     ]
    },
    {
     "name": "stderr",
     "output_type": "stream",
     "text": [
      "WRPF                   = 0.068532 \n"
     ]
    },
    {
     "name": "stderr",
     "output_type": "stream",
     "text": [
      "DiscFacGPFNrmMax       = 0.980708 \n"
     ]
    },
    {
     "name": "stderr",
     "output_type": "stream",
     "text": [
      "DiscFacGPFAggLivPrbMax = 0.990099 \n"
     ]
    },
    {
     "name": "stdout",
     "output_type": "stream",
     "text": [
      "get_KY_ratio_difference tried center = 0.9753859083988307 and got -9.312378927936585\n",
      "0.9851929541994153\n"
     ]
    },
    {
     "name": "stderr",
     "output_type": "stream",
     "text": [
      "GPFRaw                 = 1.006287 \n"
     ]
    },
    {
     "name": "stderr",
     "output_type": "stream",
     "text": [
      "GPFNrm                 = 1.009574 \n"
     ]
    },
    {
     "name": "stderr",
     "output_type": "stream",
     "text": [
      "GPFAggLivPrb           = 0.999997 \n"
     ]
    },
    {
     "name": "stderr",
     "output_type": "stream",
     "text": [
      "Thorn = APF            = 1.006287 \n"
     ]
    },
    {
     "name": "stderr",
     "output_type": "stream",
     "text": [
      "PermGroFacAdj          = 0.996744 \n"
     ]
    },
    {
     "name": "stderr",
     "output_type": "stream",
     "text": [
      "uInvEpShkuInv          = 1.000000 \n"
     ]
    },
    {
     "name": "stderr",
     "output_type": "stream",
     "text": [
      "VAF                    = 0.983908 \n"
     ]
    },
    {
     "name": "stderr",
     "output_type": "stream",
     "text": [
      "WRPF                   = 0.068874 \n"
     ]
    },
    {
     "name": "stderr",
     "output_type": "stream",
     "text": [
      "DiscFacGPFNrmMax       = 0.980708 \n"
     ]
    },
    {
     "name": "stderr",
     "output_type": "stream",
     "text": [
      "DiscFacGPFAggLivPrbMax = 0.990099 \n"
     ]
    },
    {
     "name": "stdout",
     "output_type": "stream",
     "text": [
      "get_KY_ratio_difference tried center = 0.9851929541994153 and got -8.224801113627697\n",
      "0.9900964770997076\n"
     ]
    },
    {
     "name": "stderr",
     "output_type": "stream",
     "text": [
      "GPFRaw                 = 1.004313 \n"
     ]
    },
    {
     "name": "stderr",
     "output_type": "stream",
     "text": [
      "GPFNrm                 = 1.007594 \n"
     ]
    },
    {
     "name": "stderr",
     "output_type": "stream",
     "text": [
      "GPFAggLivPrb           = 0.998036 \n"
     ]
    },
    {
     "name": "stderr",
     "output_type": "stream",
     "text": [
      "Thorn = APF            = 1.004313 \n"
     ]
    },
    {
     "name": "stderr",
     "output_type": "stream",
     "text": [
      "PermGroFacAdj          = 0.996744 \n"
     ]
    },
    {
     "name": "stderr",
     "output_type": "stream",
     "text": [
      "uInvEpShkuInv          = 1.000000 \n"
     ]
    },
    {
     "name": "stderr",
     "output_type": "stream",
     "text": [
      "VAF                    = 0.981979 \n"
     ]
    },
    {
     "name": "stderr",
     "output_type": "stream",
     "text": [
      "WRPF                   = 0.068739 \n"
     ]
    },
    {
     "name": "stderr",
     "output_type": "stream",
     "text": [
      "DiscFacGPFNrmMax       = 0.980708 \n"
     ]
    },
    {
     "name": "stderr",
     "output_type": "stream",
     "text": [
      "DiscFacGPFAggLivPrbMax = 0.990099 \n"
     ]
    },
    {
     "name": "stdout",
     "output_type": "stream",
     "text": [
      "get_KY_ratio_difference tried center = 0.9900964770997076 and got 5.392169106610039\n",
      "0.9881547364430956\n"
     ]
    },
    {
     "name": "stderr",
     "output_type": "stream",
     "text": [
      "GPFRaw                 = 1.005159 \n"
     ]
    },
    {
     "name": "stderr",
     "output_type": "stream",
     "text": [
      "GPFNrm                 = 1.008442 \n"
     ]
    },
    {
     "name": "stderr",
     "output_type": "stream",
     "text": [
      "GPFAggLivPrb           = 0.998877 \n"
     ]
    },
    {
     "name": "stderr",
     "output_type": "stream",
     "text": [
      "Thorn = APF            = 1.005159 \n"
     ]
    },
    {
     "name": "stderr",
     "output_type": "stream",
     "text": [
      "PermGroFacAdj          = 0.996744 \n"
     ]
    },
    {
     "name": "stderr",
     "output_type": "stream",
     "text": [
      "uInvEpShkuInv          = 1.000000 \n"
     ]
    },
    {
     "name": "stderr",
     "output_type": "stream",
     "text": [
      "VAF                    = 0.982806 \n"
     ]
    },
    {
     "name": "stderr",
     "output_type": "stream",
     "text": [
      "WRPF                   = 0.068796 \n"
     ]
    },
    {
     "name": "stderr",
     "output_type": "stream",
     "text": [
      "DiscFacGPFNrmMax       = 0.980708 \n"
     ]
    },
    {
     "name": "stderr",
     "output_type": "stream",
     "text": [
      "DiscFacGPFAggLivPrbMax = 0.990099 \n"
     ]
    },
    {
     "name": "stdout",
     "output_type": "stream",
     "text": [
      "get_KY_ratio_difference tried center = 0.9881547364430956 and got -4.042940744132995\n",
      "0.9889867715268776\n"
     ]
    },
    {
     "name": "stderr",
     "output_type": "stream",
     "text": [
      "GPFRaw                 = 1.005311 \n"
     ]
    },
    {
     "name": "stderr",
     "output_type": "stream",
     "text": [
      "GPFNrm                 = 1.008595 \n"
     ]
    },
    {
     "name": "stderr",
     "output_type": "stream",
     "text": [
      "GPFAggLivPrb           = 0.999028 \n"
     ]
    },
    {
     "name": "stderr",
     "output_type": "stream",
     "text": [
      "Thorn = APF            = 1.005311 \n"
     ]
    },
    {
     "name": "stderr",
     "output_type": "stream",
     "text": [
      "PermGroFacAdj          = 0.996744 \n"
     ]
    },
    {
     "name": "stderr",
     "output_type": "stream",
     "text": [
      "uInvEpShkuInv          = 1.000000 \n"
     ]
    },
    {
     "name": "stderr",
     "output_type": "stream",
     "text": [
      "VAF                    = 0.982955 \n"
     ]
    },
    {
     "name": "stderr",
     "output_type": "stream",
     "text": [
      "WRPF                   = 0.068807 \n"
     ]
    },
    {
     "name": "stderr",
     "output_type": "stream",
     "text": [
      "DiscFacGPFNrmMax       = 0.980708 \n"
     ]
    },
    {
     "name": "stderr",
     "output_type": "stream",
     "text": [
      "DiscFacGPFAggLivPrbMax = 0.990099 \n"
     ]
    },
    {
     "name": "stdout",
     "output_type": "stream",
     "text": [
      "get_KY_ratio_difference tried center = 0.9889867715268776 and got -0.6825857330523828\n",
      "0.9891367912751661\n"
     ]
    },
    {
     "name": "stderr",
     "output_type": "stream",
     "text": [
      "GPFRaw                 = 1.005304 \n"
     ]
    },
    {
     "name": "stderr",
     "output_type": "stream",
     "text": [
      "GPFNrm                 = 1.008587 \n"
     ]
    },
    {
     "name": "stderr",
     "output_type": "stream",
     "text": [
      "GPFAggLivPrb           = 0.999021 \n"
     ]
    },
    {
     "name": "stderr",
     "output_type": "stream",
     "text": [
      "Thorn = APF            = 1.005304 \n"
     ]
    },
    {
     "name": "stderr",
     "output_type": "stream",
     "text": [
      "PermGroFacAdj          = 0.996744 \n"
     ]
    },
    {
     "name": "stderr",
     "output_type": "stream",
     "text": [
      "uInvEpShkuInv          = 1.000000 \n"
     ]
    },
    {
     "name": "stderr",
     "output_type": "stream",
     "text": [
      "VAF                    = 0.982947 \n"
     ]
    },
    {
     "name": "stderr",
     "output_type": "stream",
     "text": [
      "WRPF                   = 0.068806 \n"
     ]
    },
    {
     "name": "stderr",
     "output_type": "stream",
     "text": [
      "DiscFacGPFNrmMax       = 0.980708 \n"
     ]
    },
    {
     "name": "stderr",
     "output_type": "stream",
     "text": [
      "DiscFacGPFAggLivPrbMax = 0.990099 \n"
     ]
    },
    {
     "name": "stdout",
     "output_type": "stream",
     "text": [
      "get_KY_ratio_difference tried center = 0.9891367912751661 and got 0.03615625328873584\n",
      "0.9891292445447392\n"
     ]
    },
    {
     "name": "stderr",
     "output_type": "stream",
     "text": [
      "GPFRaw                 = 1.005304 \n"
     ]
    },
    {
     "name": "stderr",
     "output_type": "stream",
     "text": [
      "GPFNrm                 = 1.008588 \n"
     ]
    },
    {
     "name": "stderr",
     "output_type": "stream",
     "text": [
      "GPFAggLivPrb           = 0.999021 \n"
     ]
    },
    {
     "name": "stderr",
     "output_type": "stream",
     "text": [
      "Thorn = APF            = 1.005304 \n"
     ]
    },
    {
     "name": "stderr",
     "output_type": "stream",
     "text": [
      "PermGroFacAdj          = 0.996744 \n"
     ]
    },
    {
     "name": "stderr",
     "output_type": "stream",
     "text": [
      "uInvEpShkuInv          = 1.000000 \n"
     ]
    },
    {
     "name": "stderr",
     "output_type": "stream",
     "text": [
      "VAF                    = 0.982948 \n"
     ]
    },
    {
     "name": "stderr",
     "output_type": "stream",
     "text": [
      "WRPF                   = 0.068806 \n"
     ]
    },
    {
     "name": "stderr",
     "output_type": "stream",
     "text": [
      "DiscFacGPFNrmMax       = 0.980708 \n"
     ]
    },
    {
     "name": "stderr",
     "output_type": "stream",
     "text": [
      "DiscFacGPFAggLivPrbMax = 0.990099 \n"
     ]
    },
    {
     "name": "stdout",
     "output_type": "stream",
     "text": [
      "get_KY_ratio_difference tried center = 0.9891292445447392 and got -0.0007644186573134704\n",
      "0.9891297445447396\n"
     ]
    },
    {
     "name": "stderr",
     "output_type": "stream",
     "text": [
      "GPFRaw                 = 1.005304 \n"
     ]
    },
    {
     "name": "stderr",
     "output_type": "stream",
     "text": [
      "GPFNrm                 = 1.008587 \n"
     ]
    },
    {
     "name": "stderr",
     "output_type": "stream",
     "text": [
      "GPFAggLivPrb           = 0.999021 \n"
     ]
    },
    {
     "name": "stderr",
     "output_type": "stream",
     "text": [
      "Thorn = APF            = 1.005304 \n"
     ]
    },
    {
     "name": "stderr",
     "output_type": "stream",
     "text": [
      "PermGroFacAdj          = 0.996744 \n"
     ]
    },
    {
     "name": "stderr",
     "output_type": "stream",
     "text": [
      "uInvEpShkuInv          = 1.000000 \n"
     ]
    },
    {
     "name": "stderr",
     "output_type": "stream",
     "text": [
      "VAF                    = 0.982947 \n"
     ]
    },
    {
     "name": "stderr",
     "output_type": "stream",
     "text": [
      "WRPF                   = 0.068806 \n"
     ]
    },
    {
     "name": "stderr",
     "output_type": "stream",
     "text": [
      "DiscFacGPFNrmMax       = 0.980708 \n"
     ]
    },
    {
     "name": "stderr",
     "output_type": "stream",
     "text": [
      "DiscFacGPFAggLivPrbMax = 0.990099 \n"
     ]
    },
    {
     "name": "stdout",
     "output_type": "stream",
     "text": [
      "get_KY_ratio_difference tried center = 0.9891297445447396 and got 0.0016792119110959902\n",
      "0.9891292445447392\n"
     ]
    },
    {
     "name": "stdout",
     "output_type": "stream",
     "text": [
      "Estimate is center=0.9891292445447392, spread=0.0, took 52.727304458618164 seconds.\n",
      "Running in interactive shell (Jupyter notebook or spyder)\n"
     ]
    },
    {
     "data": {
      "image/png": "[encoded data removed]",
      "text/plain": [
       "<Figure size 640x480 with 1 Axes>"
      ]
     },
     "metadata": {},
     "output_type": "display_data"
    },
    {
     "name": "stdout",
     "output_type": "stream",
     "text": [
      "Estimate is center=0.9891292445447392, spread=0.0\n",
      "Lorenz distance is 42.338843698742544\n",
      "Average MPC for all consumers is 0.099\n",
      "Average MPC in the top percentile of W/Y is 0.069\n",
      "Average MPC in the top decile of W/Y is 0.071\n",
      "Average MPC in the top quintile of W/Y is 0.072\n",
      "Average MPC in the second quintile of W/Y is 0.074\n",
      "Average MPC in the middle quintile of W/Y is 0.074\n",
      "Average MPC in the fourth quintile of W/Y is 0.076\n",
      "Average MPC in the bottom quintile of W/Y is 0.197\n",
      "Average MPC in the top percentile of y is 0.075\n",
      "Average MPC in the top decile of y is 0.077\n",
      "Average MPC in the top quintile of y is 0.084\n",
      "Average MPC in the second quintile of y is 0.117\n",
      "Average MPC in the middle quintile of y is 0.119\n",
      "Average MPC in the fourth quintile of y is 0.082\n",
      "Average MPC in the bottom quintile of y is 0.092\n",
      "Average MPC for the employed is 0.096\n",
      "Average MPC for the unemployed is 0.130\n",
      "Average MPC for the retired is nan\n",
      "Of the population with the 1/3 highest MPCs...\n",
      "65.752% are in the bottom wealth quintile,\n",
      "26.141% are in the second wealth quintile,\n",
      "5.736% are in the third wealth quintile,\n",
      "1.784% are in the fourth wealth quintile,\n",
      "and 0.587% are in the top wealth quintile.\n",
      "\n",
      "These results have been saved to ./Code/Results/PYbetaPointIndNetWorth.txt\n",
      "\n",
      "\n"
     ]
    }
   ],
   "source": [
    "options = {\n",
    "    \"param_name\": param_name,\n",
    "    \"dist_type\": dist_type,\n",
    "    \"run_estimation\": run_estimation,\n",
    "    \"run_sensitivity\": run_sensitivity,\n",
    "    \"find_beta_vs_KY\": find_beta_vs_KY,\n",
    "    \"do_tractable\": do_tractable,\n",
    "    \"do_param_dist\": do_param_dist,\n",
    "    \"do_lifecycle\": do_lifecycle,\n",
    "    \"do_agg_shocks\": do_agg_shocks,\n",
    "    \"do_liquid\": do_liquid,\n",
    "}\n",
    "\n",
    "\n",
    "EstimationEconomy = estimate(options, Params)"
   ]
  },
  {
   "cell_type": "code",
   "execution_count": 5,
   "metadata": {
    "execution": {
     "iopub.execute_input": "2023-04-04T21:07:36.294975Z",
     "iopub.status.busy": "2023-04-04T21:07:36.293975Z",
     "iopub.status.idle": "2023-04-04T21:07:36.429836Z",
     "shell.execute_reply": "2023-04-04T21:07:36.429836Z"
    },
    "lines_to_next_cell": 2
   },
   "outputs": [
    {
     "data": {
      "image/png": "[encoded data removed]",
      "text/plain": [
       "<Figure size 500x500 with 1 Axes>"
      ]
     },
     "metadata": {},
     "output_type": "display_data"
    }
   ],
   "source": [
    "# Construct the Lorenz curves and plot them\n",
    "\n",
    "pctiles = np.linspace(0.001, 0.999, 15)\n",
    "SCF_Lorenz_points = get_lorenz_shares(\n",
    "    SCF_wealth, weights=SCF_weights, percentiles=pctiles\n",
    ")\n",
    "\n",
    "sim_wealth = EstimationEconomy.reap_state[\"aLvl\"][0]\n",
    "sim_Lorenz_points = get_lorenz_shares(sim_wealth, percentiles=pctiles)\n",
    "\n",
    "# Plot\n",
    "plt.figure(figsize=(5, 5))\n",
    "plt.title(\"Wealth Distribution\")\n",
    "plt.plot(pctiles, SCF_Lorenz_points, \"--k\", label=\"SCF\")\n",
    "plt.plot(pctiles, sim_Lorenz_points, \"-b\", label=\"Beta-Point\")\n",
    "plt.plot(pctiles, pctiles, \"g-.\", label=\"45 Degree\")\n",
    "plt.xlabel(\"Percentile of net worth\")\n",
    "plt.ylabel(\"Cumulative share of wealth\")\n",
    "plt.legend(loc=2)\n",
    "plt.ylim([0, 1])\n",
    "plt.show(\"wealth_distribution_1\")"
   ]
  },
  {
   "cell_type": "markdown",
   "metadata": {},
   "source": [
    "## Time Preference Heterogeneneity\n",
    "\n",
    "Our specific approach is to replace the assumption that all households have the same time\n",
    "preference factor with an assumption that, for some dispersion $\\nabla$, time\n",
    "preference factors are distributed uniformly in the population between\n",
    "$\\grave{\\Discount}-\\nabla$ and $\\grave{\\Discount}+\\nabla$ (for this reason, the model is referred to as the $\\Discount$-Dist model). Then,\n",
    "using simulations, we search for the values of $\\grave{\\Discount}$ and\n",
    "$\\nabla$ for which the model best matches the fraction of net worth held by the top $20$, $40$, $60$, and $80$ percent of the population, while at the same time matching\n",
    "the aggregate capital-to-output ratio from the perfect foresight\n",
    "model. Specifically, defining $w_{i}$ and $\\omega _{i}$ as the proportion of total aggregate net worth held by the top $i$ percent in our model and in the data, respectively, we solve the following minimization problem:\n",
    "\n",
    "$$\n",
    "\\{\\grave{\\Discount}, \\nabla\\}= \\underset{\\{{\\Discount}, \\nabla\\}}{\\text{argmin} }\\Big(\\sum_\\text{i=20, 40, 60, 80}\n",
    "  \\big(w_{i}({\\Discount}, \\nabla)-\\omega _{i}\\big)^{2}\\Big)^{1/2}\n",
    "$$\n",
    "\n",
    "subject to the constraint that the aggregate wealth (net worth)-to-output ratio in the model matches the aggregate\n",
    "capital-to-output ratio from the perfect foresight model ($\\KLev_{PF}/\\YLev_{PF}$). When solving the problem for the FBS specification we shut down the aggregate shocks (practically, this does not affect the estimates given their small size).\n",
    "\n",
    "$$\\KLev / \\YLev = \\KLev_{PF} / \\YLev_{PF}$$\n",
    "\n",
    "The solution to this problem is $\\{\\grave{\\Discount}, \\nabla\\}=\\{0.9867, 0.0067\\}$\n",
    ", so that the discount factors are evenly spread roughly between 0.98 and 0.99. We call the optimal value of the objective function the 'Lorenz distance' and use it as a measure of fit of the models.\n",
    "\n",
    "The introduction of even such a relatively modest amount of time\n",
    "preference heterogeneity sharply improves the model's fit to the targeted\n",
    "proportions of wealth holdings, bringing it reasonably in line with the data.\n"
   ]
  },
  {
   "cell_type": "code",
   "execution_count": 6,
   "metadata": {
    "execution": {
     "iopub.execute_input": "2023-04-04T21:07:36.431841Z",
     "iopub.status.busy": "2023-04-04T21:07:36.431841Z",
     "iopub.status.idle": "2023-04-04T21:07:36.444860Z",
     "shell.execute_reply": "2023-04-04T21:07:36.444860Z"
    },
    "lines_to_next_cell": 2,
    "scrolled": true
   },
   "outputs": [],
   "source": [
    "\"\"\"\n",
    "This options file establishes the second simplest model specification possible:\n",
    "with heterogeneity, no aggregate shocks, perpetual youth model, matching net worth.\n",
    "\"\"\"\n",
    "do_param_dist = True  # Do param-dist version if True, param-point if False\n",
    "do_lifecycle = False  # Use lifecycle model if True, perpetual youth if False\n",
    "do_agg_shocks = False  # Solve the FBS aggregate shocks version of the model\n",
    "# Matches liquid assets data when True, net worth data when False\n",
    "do_liquid = True\n",
    "do_tractable = False  #\n",
    "os.chdir(path_to_models)"
   ]
  },
  {
   "cell_type": "code",
   "execution_count": 7,
   "metadata": {
    "execution": {
     "iopub.execute_input": "2023-04-04T21:07:36.446860Z",
     "iopub.status.busy": "2023-04-04T21:07:36.446860Z",
     "iopub.status.idle": "2023-04-04T21:48:48.384425Z",
     "shell.execute_reply": "2023-04-04T21:48:48.384425Z"
    }
   },
   "outputs": [
    {
     "name": "stdout",
     "output_type": "stream",
     "text": [
      "Beginning an estimation with the specification name PYbetaDistIndLiquid...\n",
      "0.9448571428571428\n",
      "0.9465714285714285\n",
      "0.9482857142857143\n",
      "0.95\n",
      "0.9517142857142856\n",
      "0.9534285714285714\n",
      "0.9551428571428571\n"
     ]
    },
    {
     "name": "stdout",
     "output_type": "stream",
     "text": [
      "get_KY_ratio_difference tried center = 0.95 and got -6.081644553236843\n",
      "0.9898571428571428\n",
      "0.9915714285714284\n",
      "0.9932857142857142\n",
      "0.9949999999999999\n",
      "0.9967142857142856\n",
      "0.9984285714285713\n",
      "1.000142857142857\n"
     ]
    },
    {
     "name": "stdout",
     "output_type": "stream",
     "text": [
      "get_KY_ratio_difference tried center = 0.995 and got 111.87225475789964\n",
      "0.9471773205409154\n",
      "0.9488916062552011\n",
      "0.9506058919694869\n",
      "0.9523201776837725\n",
      "0.9540344633980582\n",
      "0.955748749112344\n",
      "0.9574630348266296\n"
     ]
    },
    {
     "name": "stdout",
     "output_type": "stream",
     "text": [
      "get_KY_ratio_difference tried center = 0.9523201776837725 and got -6.061271876164698\n",
      "0.9685172316990291\n",
      "0.9702315174133148\n",
      "0.9719458031276006\n",
      "0.9736600888418863\n",
      "0.9753743745561719\n",
      "0.9770886602704577\n",
      "0.9788029459847434\n"
     ]
    },
    {
     "name": "stdout",
     "output_type": "stream",
     "text": [
      "get_KY_ratio_difference tried center = 0.9736600888418863 and got -5.692938141110104\n",
      "0.979187187278086\n",
      "0.9809014729923716\n",
      "0.9826157587066574\n",
      "0.9843300444209431\n",
      "0.9860443301352287\n",
      "0.9877586158495145\n",
      "0.9894729015638002\n"
     ]
    },
    {
     "name": "stdout",
     "output_type": "stream",
     "text": [
      "get_KY_ratio_difference tried center = 0.9843300444209431 and got -3.017259851122707\n",
      "0.9845221650676144\n",
      "0.9862364507819\n",
      "0.9879507364961858\n",
      "0.9896650222104715\n",
      "0.9913793079247571\n",
      "0.9930935936390429\n",
      "0.9948078793533286\n"
     ]
    },
    {
     "name": "stdout",
     "output_type": "stream",
     "text": [
      "get_KY_ratio_difference tried center = 0.9896650222104715 and got 16.764215772575135\n",
      "0.9800009291139928\n",
      "0.9817152148282785\n",
      "0.9834295005425643\n",
      "0.98514378625685\n",
      "0.9868580719711356\n",
      "0.9885723576854214\n",
      "0.9902866433997071\n"
     ]
    },
    {
     "name": "stdout",
     "output_type": "stream",
     "text": [
      "get_KY_ratio_difference tried center = 0.98514378625685 and got -1.7501864024150722\n",
      "0.9810186828563897\n",
      "0.9827329685706754\n",
      "0.9844472542849612\n",
      "0.9861615399992468\n",
      "0.9878758257135325\n",
      "0.9895901114278183\n",
      "0.9913043971421039\n"
     ]
    },
    {
     "name": "stdout",
     "output_type": "stream",
     "text": [
      "get_KY_ratio_difference tried center = 0.9861615399992468 and got 0.46104549117789073\n",
      "0.9808064795251059\n",
      "0.9825207652393916\n",
      "0.9842350509536774\n",
      "0.985949336667963\n",
      "0.9876636223822487\n",
      "0.9893779080965345\n",
      "0.9910921938108201\n"
     ]
    },
    {
     "name": "stdout",
     "output_type": "stream",
     "text": [
      "get_KY_ratio_difference tried center = 0.985949336667963 and got -0.06573642418073256\n",
      "0.9808329601004467\n",
      "0.9825472458147324\n",
      "0.9842615315290182\n",
      "0.9859758172433039\n",
      "0.9876901029575895\n",
      "0.9894043886718753\n",
      "0.991118674386161\n"
     ]
    },
    {
     "name": "stdout",
     "output_type": "stream",
     "text": [
      "get_KY_ratio_difference tried center = 0.9859758172433039 and got -0.002031605614891241\n",
      "0.9808338008855634\n",
      "0.982548086599849\n",
      "0.9842623723141348\n",
      "0.9859766580284205\n",
      "0.9876909437427062\n",
      "0.9894052294569919\n",
      "0.9911195151712776\n"
     ]
    },
    {
     "name": "stdout",
     "output_type": "stream",
     "text": [
      "get_KY_ratio_difference tried center = 0.9859766580284205 and got -5.338092954332296e-07\n",
      "0.9808343008855638\n",
      "0.9825485865998494\n",
      "0.9842628723141352\n",
      "0.9859771580284209\n",
      "0.9876914437427066\n",
      "0.9894057294569923\n",
      "0.991120015171278\n"
     ]
    },
    {
     "name": "stdout",
     "output_type": "stream",
     "text": [
      "get_KY_ratio_difference tried center = 0.9859771580284209 and got 0.0012075788609697824\n",
      "0.9808338008855634\n",
      "0.982548086599849\n",
      "0.9842623723141348\n",
      "0.9859766580284205\n",
      "0.9876909437427062\n",
      "0.9894052294569919\n",
      "0.9911195151712776\n"
     ]
    },
    {
     "name": "stdout",
     "output_type": "stream",
     "text": [
      "find_lorenz_distance_at_target_KY tried spread = 0.006 and got 19.634158896939507\n",
      "0.9431428571428571\n",
      "0.9454285714285714\n",
      "0.9477142857142856\n",
      "0.95\n",
      "0.9522857142857143\n",
      "0.9545714285714285\n",
      "0.9568571428571429\n"
     ]
    },
    {
     "name": "stdout",
     "output_type": "stream",
     "text": [
      "get_KY_ratio_difference tried center = 0.95 and got -6.08027235749887\n",
      "0.9881428571428571\n",
      "0.9904285714285713\n",
      "0.9927142857142857\n",
      "0.9949999999999999\n",
      "0.9972857142857141\n",
      "0.9995714285714284\n",
      "1.0018571428571428\n"
     ]
    },
    {
     "name": "stdout",
     "output_type": "stream",
     "text": [
      "get_KY_ratio_difference tried center = 0.995 and got 154.26578114583674\n",
      "0.9448492431131346\n",
      "0.9471349573988489\n",
      "0.9494206716845631\n",
      "0.9517063859702775\n",
      "0.9539921002559918\n",
      "0.956277814541706\n",
      "0.9585635288274204\n"
     ]
    },
    {
     "name": "stdout",
     "output_type": "stream",
     "text": [
      "get_KY_ratio_difference tried center = 0.9517063859702775 and got -6.0653003363644995\n",
      "0.9664960501279958\n",
      "0.9687817644137101\n",
      "0.9710674786994243\n",
      "0.9733531929851387\n",
      "0.975638907270853\n",
      "0.9779246215565672\n",
      "0.9802103358422816\n"
     ]
    },
    {
     "name": "stdout",
     "output_type": "stream",
     "text": [
      "get_KY_ratio_difference tried center = 0.9733531929851387 and got -5.686958999221926\n",
      "0.9773194536354264\n",
      "0.9796051679211407\n",
      "0.9818908822068549\n",
      "0.9841765964925693\n",
      "0.9864623107782836\n",
      "0.9887480250639978\n",
      "0.9910337393497122\n"
     ]
    },
    {
     "name": "stdout",
     "output_type": "stream",
     "text": [
      "get_KY_ratio_difference tried center = 0.9841765964925693 and got -1.066794976755336\n",
      "0.9797323644809123\n",
      "0.9820180787666266\n",
      "0.9843037930523408\n",
      "0.9865895073380552\n",
      "0.9888752216237695\n",
      "0.9911609359094837\n",
      "0.9934466501951981\n"
     ]
    },
    {
     "name": "stdout",
     "output_type": "stream",
     "text": [
      "get_KY_ratio_difference tried center = 0.9865895073380552 and got 5.926816364417023\n",
      "0.977687515434081\n",
      "0.9799732297197953\n",
      "0.9822589440055095\n",
      "0.9845446582912238\n",
      "0.9868303725769382\n",
      "0.9891160868626524\n",
      "0.9914018011483667\n"
     ]
    },
    {
     "name": "stdout",
     "output_type": "stream",
     "text": [
      "get_KY_ratio_difference tried center = 0.9845446582912238 and got -0.3098510660877398\n",
      "0.9778306943021287\n",
      "0.980116408587843\n",
      "0.9824021228735572\n",
      "0.9846878371592716\n",
      "0.9869735514449859\n",
      "0.9892592657307001\n",
      "0.9915449800164144\n"
     ]
    },
    {
     "name": "stdout",
     "output_type": "stream",
     "text": [
      "get_KY_ratio_difference tried center = 0.9846878371592716 and got 0.00929301446307651\n",
      "0.9778265251403843\n",
      "0.9801122394260986\n",
      "0.9823979537118128\n",
      "0.9846836679975272\n",
      "0.9869693822832415\n",
      "0.9892550965689557\n",
      "0.99154081085467\n"
     ]
    },
    {
     "name": "stdout",
     "output_type": "stream",
     "text": [
      "get_KY_ratio_difference tried center = 0.9846836679975272 and got -0.0002005262599089619\n",
      "0.9778270251403847\n",
      "0.980112739426099\n",
      "0.9823984537118132\n",
      "0.9846841679975276\n",
      "0.9869698822832419\n",
      "0.9892555965689561\n",
      "0.9915413108546705\n"
     ]
    },
    {
     "name": "stdout",
     "output_type": "stream",
     "text": [
      "get_KY_ratio_difference tried center = 0.9846841679975276 and got 0.000937361763953426\n",
      "0.9778265251403843\n",
      "0.9801122394260986\n",
      "0.9823979537118128\n",
      "0.9846836679975272\n",
      "0.9869693822832415\n",
      "0.9892550965689557\n",
      "0.99154081085467\n"
     ]
    },
    {
     "name": "stdout",
     "output_type": "stream",
     "text": [
      "find_lorenz_distance_at_target_KY tried spread = 0.008 and got 14.14948763096814\n",
      "0.9403690845714285\n",
      "0.9435793897142857\n",
      "0.9467896948571428\n",
      "0.95\n",
      "0.9532103051428571\n",
      "0.9564206102857142\n",
      "0.9596309154285714\n"
     ]
    },
    {
     "name": "stdout",
     "output_type": "stream",
     "text": [
      "get_KY_ratio_difference tried center = 0.95 and got -6.077127635770037\n",
      "0.9853690845714286\n",
      "0.9885793897142857\n",
      "0.9917896948571429\n",
      "0.995\n",
      "0.9982103051428571\n",
      "1.0014206102857144\n",
      "1.0046309154285713\n"
     ]
    },
    {
     "name": "stdout",
     "output_type": "stream",
     "text": [
      "get_KY_ratio_difference tried center = 0.995 and got 289.6734904351096\n",
      "0.941293751256467\n",
      "0.9445040563993241\n",
      "0.9477143615421812\n",
      "0.9509246666850384\n",
      "0.9541349718278955\n",
      "0.9573452769707527\n",
      "0.9605555821136098\n"
     ]
    },
    {
     "name": "stdout",
     "output_type": "stream",
     "text": [
      "get_KY_ratio_difference tried center = 0.9509246666850384 and got -6.068934046422369\n",
      "0.9633314179139478\n",
      "0.966541723056805\n",
      "0.9697520281996621\n",
      "0.9729623333425192\n",
      "0.9761726384853764\n",
      "0.9793829436282335\n",
      "0.9825932487710907\n"
     ]
    },
    {
     "name": "stdout",
     "output_type": "stream",
     "text": [
      "get_KY_ratio_difference tried center = 0.9729623333425192 and got -5.657536406698894\n",
      "0.9743502512426883\n",
      "0.9775605563855454\n",
      "0.9807708615284025\n",
      "0.9839811666712597\n",
      "0.9871914718141168\n",
      "0.990401776956974\n",
      "0.9936120820998311\n"
     ]
    },
    {
     "name": "stdout",
     "output_type": "stream",
     "text": [
      "get_KY_ratio_difference tried center = 0.9839811666712597 and got 4.3865008011102695\n",
      "0.9695380307954918\n",
      "0.972748335938349\n",
      "0.9759586410812061\n",
      "0.9791689462240633\n",
      "0.9823792513669204\n",
      "0.9855895565097775\n",
      "0.9887998616526347\n"
     ]
    },
    {
     "name": "stdout",
     "output_type": "stream",
     "text": [
      "get_KY_ratio_difference tried center = 0.9791689462240633 and got -4.308465361316193\n",
      "0.9719225467004942\n",
      "0.9751328518433513\n",
      "0.9783431569862084\n",
      "0.9815534621290656\n",
      "0.9847637672719227\n",
      "0.9879740724147799\n",
      "0.991184377557637\n"
     ]
    },
    {
     "name": "stdout",
     "output_type": "stream",
     "text": [
      "get_KY_ratio_difference tried center = 0.9815534621290656 and got -1.5953829447545838\n",
      "0.9729507581279928\n",
      "0.97616106327085\n",
      "0.9793713684137071\n",
      "0.9825816735565642\n",
      "0.9857919786994214\n",
      "0.9890022838422785\n",
      "0.9922125889851356\n"
     ]
    },
    {
     "name": "stdout",
     "output_type": "stream",
     "text": [
      "get_KY_ratio_difference tried center = 0.9825816735565642 and got 0.433986499296406\n",
      "0.9727308721534282\n",
      "0.9759411772962854\n",
      "0.9791514824391425\n",
      "0.9823617875819997\n",
      "0.9855720927248568\n",
      "0.9887823978677139\n",
      "0.9919927030105711\n"
     ]
    },
    {
     "name": "stdout",
     "output_type": "stream",
     "text": [
      "get_KY_ratio_difference tried center = 0.9823617875819997 and got -0.054590156430933234\n",
      "0.9727554406824559\n",
      "0.975965745825313\n",
      "0.9791760509681702\n",
      "0.9823863561110273\n",
      "0.9855966612538845\n",
      "0.9888069663967416\n",
      "0.9920172715395987\n"
     ]
    },
    {
     "name": "stdout",
     "output_type": "stream",
     "text": [
      "get_KY_ratio_difference tried center = 0.9823863561110273 and got -0.0015415261362461408\n",
      "0.9727561520859366\n",
      "0.9759664572287937\n",
      "0.9791767623716509\n",
      "0.982387067514508\n",
      "0.9855973726573651\n",
      "0.9888076778002223\n",
      "0.9920179829430794\n"
     ]
    },
    {
     "name": "stdout",
     "output_type": "stream",
     "text": [
      "get_KY_ratio_difference tried center = 0.982387067514508 and got -6.320978052087867e-07\n",
      "0.972756652085937\n",
      "0.9759669572287941\n",
      "0.9791772623716513\n",
      "0.9823875675145084\n",
      "0.9855978726573655\n",
      "0.9888081778002227\n",
      "0.9920184829430798\n"
     ]
    },
    {
     "name": "stdout",
     "output_type": "stream",
     "text": [
      "get_KY_ratio_difference tried center = 0.9823875675145084 and got 0.001082556762037612\n",
      "0.9727561520859366\n",
      "0.9759664572287937\n",
      "0.9791767623716509\n",
      "0.982387067514508\n",
      "0.9855973726573651\n",
      "0.9888076778002223\n",
      "0.9920179829430794\n"
     ]
    },
    {
     "name": "stdout",
     "output_type": "stream",
     "text": [
      "find_lorenz_distance_at_target_KY tried spread = 0.011236068 and got 8.723174425658312\n",
      "0.9382244880012295\n",
      "0.9421496586674863\n",
      "0.9460748293337431\n",
      "0.95\n",
      "0.9539251706662568\n",
      "0.9578503413325136\n",
      "0.9617755119987704\n"
     ]
    },
    {
     "name": "stdout",
     "output_type": "stream",
     "text": [
      "get_KY_ratio_difference tried center = 0.95 and got -6.073837204691546\n",
      "0.9832244880012295\n",
      "0.9871496586674864\n",
      "0.9910748293337431\n",
      "0.995\n",
      "0.9989251706662569\n",
      "1.0028503413325136\n",
      "1.0067755119987705\n"
     ]
    },
    {
     "name": "stdout",
     "output_type": "stream",
     "text": [
      "get_KY_ratio_difference tried center = 0.995 and got 450.4818908031636\n",
      "0.9388231502399089\n",
      "0.9427483209061658\n",
      "0.9466734915724225\n",
      "0.9505986622386794\n",
      "0.9545238329049363\n",
      "0.958449003571193\n",
      "0.9623741742374499\n"
     ]
    },
    {
     "name": "stdout",
     "output_type": "stream",
     "text": [
      "get_KY_ratio_difference tried center = 0.9505986622386794 and got -6.0684272057667155\n",
      "0.9610238191205692\n",
      "0.9649489897868261\n",
      "0.9688741604530828\n",
      "0.9727993311193397\n",
      "0.9767245017855966\n",
      "0.9806496724518533\n",
      "0.9845748431181102\n"
     ]
    },
    {
     "name": "stdout",
     "output_type": "stream",
     "text": [
      "get_KY_ratio_difference tried center = 0.9727993311193397 and got -5.5986539450985005\n",
      "0.9721241535608994\n",
      "0.9760493242271563\n",
      "0.979974494893413\n",
      "0.9838996655596699\n",
      "0.9878248362259268\n",
      "0.9917500068921835\n",
      "0.9956751775584404\n"
     ]
    },
    {
     "name": "stdout",
     "output_type": "stream",
     "text": [
      "get_KY_ratio_difference tried center = 0.9838996655596699 and got 12.130188603809094\n",
      "0.9645292330264588\n",
      "0.9684544036927156\n",
      "0.9723795743589724\n",
      "0.9763047450252292\n",
      "0.9802299156914861\n",
      "0.9841550863577428\n",
      "0.9880802570239997\n"
     ]
    },
    {
     "name": "stdout",
     "output_type": "stream",
     "text": [
      "get_KY_ratio_difference tried center = 0.9763047450252292 and got -4.867228577680407\n",
      "0.968326693293679\n",
      "0.9722518639599359\n",
      "0.9761770346261927\n",
      "0.9801022052924495\n",
      "0.9840273759587064\n",
      "0.9879525466249631\n",
      "0.99187771729122\n"
     ]
    },
    {
     "name": "stdout",
     "output_type": "stream",
     "text": [
      "get_KY_ratio_difference tried center = 0.9801022052924495 and got -0.8137168960853289\n",
      "0.9689390791120667\n",
      "0.9728642497783235\n",
      "0.9767894204445803\n",
      "0.9807145911108371\n",
      "0.984639761777094\n",
      "0.9885649324433508\n",
      "0.9924901031096076\n"
     ]
    },
    {
     "name": "stdout",
     "output_type": "stream",
     "text": [
      "get_KY_ratio_difference tried center = 0.9807145911108371 and got 0.4457704461897585\n",
      "0.9687223373550516\n",
      "0.9726475080213085\n",
      "0.9765726786875653\n",
      "0.9804978493538221\n",
      "0.984423020020079\n",
      "0.9883481906863357\n",
      "0.9922733613525926\n"
     ]
    },
    {
     "name": "stdout",
     "output_type": "stream",
     "text": [
      "get_KY_ratio_difference tried center = 0.9804978493538221 and got -0.02780831335060796\n",
      "0.9687350643251148\n",
      "0.9726602349913717\n",
      "0.9765854056576284\n",
      "0.9805105763238853\n",
      "0.9844357469901421\n",
      "0.9883609176563989\n",
      "0.9922860883226557\n"
     ]
    },
    {
     "name": "stdout",
     "output_type": "stream",
     "text": [
      "get_KY_ratio_difference tried center = 0.9805105763238853 and got -0.0008733042398825219\n",
      "0.9687355643251152\n",
      "0.9726607349913721\n",
      "0.9765859056576288\n",
      "0.9805110763238857\n",
      "0.9844362469901425\n",
      "0.9883614176563993\n",
      "0.9922865883226561\n"
     ]
    },
    {
     "name": "stdout",
     "output_type": "stream",
     "text": [
      "get_KY_ratio_difference tried center = 0.9805110763238857 and got 0.0002109077697962647\n",
      "0.9687355643251152\n",
      "0.9726607349913721\n",
      "0.9765859056576288\n",
      "0.9805110763238857\n",
      "0.9844362469901425\n",
      "0.9883614176563993\n",
      "0.9922865883226561\n"
     ]
    },
    {
     "name": "stdout",
     "output_type": "stream",
     "text": [
      "find_lorenz_distance_at_target_KY tried spread = 0.01373809733189885 and got 6.199394697526963\n",
      "0.9347544578343641\n",
      "0.9398363052229094\n",
      "0.9449181526114546\n",
      "0.95\n",
      "0.9550818473885453\n",
      "0.9601636947770905\n",
      "0.9652455421656359\n"
     ]
    },
    {
     "name": "stdout",
     "output_type": "stream",
     "text": [
      "get_KY_ratio_difference tried center = 0.95 and got -6.066724098193838\n",
      "0.9797544578343641\n",
      "0.9848363052229093\n",
      "0.9899181526114547\n",
      "0.9949999999999999\n",
      "1.000081847388545\n",
      "1.0051636947770903\n",
      "1.0102455421656358\n"
     ]
    },
    {
     "name": "stdout",
     "output_type": "stream",
     "text": [
      "get_KY_ratio_difference tried center = 0.995 and got 573.209886426558\n",
      "0.9352257397391719\n",
      "0.9403075871277172\n",
      "0.9453894345162625\n",
      "0.9504712819048078\n",
      "0.9555531292933531\n",
      "0.9606349766818983\n",
      "0.9657168240704437\n"
     ]
    },
    {
     "name": "stdout",
     "output_type": "stream",
     "text": [
      "get_KY_ratio_difference tried center = 0.9504712819048078 and got -6.062233165157473\n",
      "0.957490098786768\n",
      "0.9625719461753134\n",
      "0.9676537935638586\n",
      "0.972735640952404\n",
      "0.9778174883409493\n",
      "0.9828993357294945\n",
      "0.9879811831180398\n"
     ]
    },
    {
     "name": "stdout",
     "output_type": "stream",
     "text": [
      "get_KY_ratio_difference tried center = 0.972735640952404 and got -5.028111839886524\n",
      "0.968622278310566\n",
      "0.9737041256991114\n",
      "0.9787859730876566\n",
      "0.9838678204762019\n",
      "0.9889496678647473\n",
      "0.9940315152532925\n",
      "0.9991133626418378\n"
     ]
    },
    {
     "name": "stdout",
     "output_type": "stream",
     "text": [
      "get_KY_ratio_difference tried center = 0.9838678204762019 and got 39.301149214448834\n",
      "0.9587527826740257\n",
      "0.9638346300625711\n",
      "0.9689164774511163\n",
      "0.9739983248396616\n",
      "0.979080172228207\n",
      "0.9841620196167522\n",
      "0.9892438670052975\n"
     ]
    },
    {
     "name": "stdout",
     "output_type": "stream",
     "text": [
      "get_KY_ratio_difference tried center = 0.9739983248396616 and got -4.23682923043819\n",
      "0.9636875304922958\n",
      "0.9687693778808412\n",
      "0.9738512252693864\n",
      "0.9789330726579317\n",
      "0.9840149200464771\n",
      "0.9890967674350223\n",
      "0.9941786148235676\n"
     ]
    },
    {
     "name": "stdout",
     "output_type": "stream",
     "text": [
      "get_KY_ratio_difference tried center = 0.9789330726579317 and got 4.138432770622353\n",
      "0.9612491444354417\n",
      "0.9663309918239871\n",
      "0.9714128392125323\n",
      "0.9764946866010776\n",
      "0.981576533989623\n",
      "0.9866583813781682\n",
      "0.9917402287667135\n"
     ]
    },
    {
     "name": "stdout",
     "output_type": "stream",
     "text": [
      "get_KY_ratio_difference tried center = 0.9764946866010776 and got -1.5041023255752712\n",
      "0.961899132796389\n",
      "0.9669809801849343\n",
      "0.9720628275734795\n",
      "0.9771446749620248\n",
      "0.9822265223505702\n",
      "0.9873083697391154\n",
      "0.9923902171276607\n"
     ]
    },
    {
     "name": "stdout",
     "output_type": "stream",
     "text": [
      "get_KY_ratio_difference tried center = 0.9771446749620248 and got -0.40407004599391705\n",
      "0.962116651951074\n",
      "0.9671984993396193\n",
      "0.9722803467281645\n",
      "0.9773621941167099\n",
      "0.9824440415052552\n",
      "0.9875258888938004\n",
      "0.9926077362823458\n"
     ]
    },
    {
     "name": "stdout",
     "output_type": "stream",
     "text": [
      "get_KY_ratio_difference tried center = 0.9773621941167099 and got 0.020177485867041156\n",
      "0.9621063065999762\n",
      "0.9671881539885215\n",
      "0.9722700013770668\n",
      "0.9773518487656121\n",
      "0.9824336961541574\n",
      "0.9875155435427027\n",
      "0.992597390931248\n"
     ]
    },
    {
     "name": "stdout",
     "output_type": "stream",
     "text": [
      "get_KY_ratio_difference tried center = 0.9773518487656121 and got -0.0006954857931642522\n",
      "0.9621068065999766\n",
      "0.9671886539885219\n",
      "0.9722705013770672\n",
      "0.9773523487656125\n",
      "0.9824341961541578\n",
      "0.9875160435427031\n",
      "0.9925978909312484\n"
     ]
    },
    {
     "name": "stdout",
     "output_type": "stream",
     "text": [
      "get_KY_ratio_difference tried center = 0.9773523487656125 and got 0.00031154336845951036\n",
      "0.9621068065999766\n",
      "0.9671886539885219\n",
      "0.9722705013770672\n",
      "0.9773523487656125\n",
      "0.9824341961541578\n",
      "0.9875160435427031\n",
      "0.9925978909312484\n"
     ]
    },
    {
     "name": "stdout",
     "output_type": "stream",
     "text": [
      "find_lorenz_distance_at_target_KY tried spread = 0.017786465859908472 and got 3.7895870193546544\n",
      "0.932447608701198\n",
      "0.9382984058007987\n",
      "0.9441492029003993\n",
      "0.95\n",
      "0.9558507970996006\n",
      "0.9617015941992012\n",
      "0.9675523912988019\n"
     ]
    },
    {
     "name": "stdout",
     "output_type": "stream",
     "text": [
      "get_KY_ratio_difference tried center = 0.95 and got -6.060534755393528\n",
      "0.9774476087011981\n",
      "0.9832984058007987\n",
      "0.9891492029003993\n",
      "0.995\n",
      "1.0008507970996006\n",
      "1.0067015941992012\n",
      "1.012552391298802\n"
     ]
    },
    {
     "name": "stdout",
     "output_type": "stream",
     "text": [
      "get_KY_ratio_difference tried center = 0.995 and got 668.4302817250245\n",
      "0.9328519493643013\n",
      "0.938702746463902\n",
      "0.9445535435635025\n",
      "0.9504043406631032\n",
      "0.9562551377627039\n",
      "0.9621059348623044\n",
      "0.9679567319619051\n"
     ]
    },
    {
     "name": "stdout",
     "output_type": "stream",
     "text": [
      "get_KY_ratio_difference tried center = 0.9504043406631032 and got -6.056493271889376\n",
      "0.9551497790327497\n",
      "0.9610005761323503\n",
      "0.9668513732319509\n",
      "0.9727021703315516\n",
      "0.9785529674311523\n",
      "0.9844037645307528\n",
      "0.9902545616303535\n"
     ]
    },
    {
     "name": "stdout",
     "output_type": "stream",
     "text": [
      "get_KY_ratio_difference tried center = 0.9727021703315516 and got -3.4270377497875315\n",
      "0.9662986938669739\n",
      "0.9721494909665745\n",
      "0.9780002880661751\n",
      "0.9838510851657758\n",
      "0.9897018822653765\n",
      "0.995552679364977\n",
      "1.0014034764645776\n"
     ]
    },
    {
     "name": "stdout",
     "output_type": "stream",
     "text": [
      "get_KY_ratio_difference tried center = 0.9838510851657758 and got 78.28038929432607\n",
      "0.955617395666736\n",
      "0.9614681927663367\n",
      "0.9673189898659372\n",
      "0.9731697869655379\n",
      "0.9790205840651386\n",
      "0.9848713811647392\n",
      "0.9907221782643398\n"
     ]
    },
    {
     "name": "stdout",
     "output_type": "stream",
     "text": [
      "get_KY_ratio_difference tried center = 0.9731697869655379 and got -2.9401886153538124\n",
      "0.9583392046448691\n",
      "0.9641900017444698\n",
      "0.9700407988440704\n",
      "0.975891595943671\n",
      "0.9817423930432717\n",
      "0.9875931901428723\n",
      "0.993443987242473\n"
     ]
    },
    {
     "name": "stdout",
     "output_type": "stream",
     "text": [
      "get_KY_ratio_difference tried center = 0.975891595943671 and got 1.5567521695163986\n",
      "0.9573969680812981\n",
      "0.9632477651808988\n",
      "0.9690985622804994\n",
      "0.9749493593801001\n",
      "0.9808001564797008\n",
      "0.9866509535793013\n",
      "0.992501750678902\n"
     ]
    },
    {
     "name": "stdout",
     "output_type": "stream",
     "text": [
      "get_KY_ratio_difference tried center = 0.9749493593801001 and got -0.42749535334569533\n",
      "0.9575999678321044\n",
      "0.9634507649317051\n",
      "0.9693015620313057\n",
      "0.9751523591309064\n",
      "0.981003156230507\n",
      "0.9868539533301076\n",
      "0.9927047504297083\n"
     ]
    },
    {
     "name": "stdout",
     "output_type": "stream",
     "text": [
      "get_KY_ratio_difference tried center = 0.9751523591309064 and got -0.04953035676731421\n",
      "0.9576257496136419\n",
      "0.9634765467132426\n",
      "0.9693273438128431\n",
      "0.9751781409124438\n",
      "0.9810289380120445\n",
      "0.9868797351116451\n",
      "0.9927305322112457\n"
     ]
    },
    {
     "name": "stdout",
     "output_type": "stream",
     "text": [
      "get_KY_ratio_difference tried center = 0.9751781409124438 and got 0.00022081472710766548\n",
      "0.9576252496136415\n",
      "0.9634760467132422\n",
      "0.9693268438128427\n",
      "0.9751776409124434\n",
      "0.9810284380120441\n",
      "0.9868792351116447\n",
      "0.9927300322112453\n"
     ]
    },
    {
     "name": "stdout",
     "output_type": "stream",
     "text": [
      "get_KY_ratio_difference tried center = 0.9751776409124434 and got -0.0007473610454189483\n",
      "0.9576257496136419\n",
      "0.9634765467132426\n",
      "0.9693273438128431\n",
      "0.9751781409124438\n",
      "0.9810289380120445\n",
      "0.9868797351116451\n",
      "0.9927305322112457\n"
     ]
    },
    {
     "name": "stdout",
     "output_type": "stream",
     "text": [
      "find_lorenz_distance_at_target_KY tried spread = 0.020477789848602244 and got 3.247451348921011\n",
      "0.9287150483708647\n",
      "0.9358100322472431\n",
      "0.9429050161236215\n",
      "0.95\n",
      "0.9570949838763784\n",
      "0.9641899677527568\n",
      "0.9712849516291352\n"
     ]
    },
    {
     "name": "stdout",
     "output_type": "stream",
     "text": [
      "get_KY_ratio_difference tried center = 0.95 and got -6.047339187004297\n",
      "0.9737150483708648\n",
      "0.9808100322472432\n",
      "0.9879050161236215\n",
      "0.9949999999999999\n",
      "1.0020949838763782\n",
      "1.0091899677527567\n",
      "1.016284951629135\n"
     ]
    },
    {
     "name": "stdout",
     "output_type": "stream",
     "text": [
      "get_KY_ratio_difference tried center = 0.995 and got 698.8157868078284\n",
      "0.9291011237000729\n",
      "0.9361961075764513\n",
      "0.9432910914528297\n",
      "0.9503860753292082\n",
      "0.9574810592055866\n",
      "0.964576043081965\n",
      "0.9716710269583434\n"
     ]
    },
    {
     "name": "stdout",
     "output_type": "stream",
     "text": [
      "get_KY_ratio_difference tried center = 0.9503860753292082 and got -6.043044947052052\n",
      "0.9514080860354689\n",
      "0.9585030699118473\n",
      "0.9655980537882257\n",
      "0.9726930376646041\n",
      "0.9797880215409825\n",
      "0.986883005417361\n",
      "0.9939779892937394\n"
     ]
    },
    {
     "name": "stdout",
     "output_type": "stream",
     "text": [
      "get_KY_ratio_difference tried center = 0.9726930376646041 and got 2.491122350053823\n",
      "0.9448966865630964\n",
      "0.9519916704394749\n",
      "0.9590866543158533\n",
      "0.9661816381922317\n",
      "0.9732766220686101\n",
      "0.9803716059449885\n",
      "0.9874665898213669\n"
     ]
    },
    {
     "name": "stdout",
     "output_type": "stream",
     "text": [
      "get_KY_ratio_difference tried center = 0.9661816381922317 and got -5.355751987641335\n",
      "0.949340932662331\n",
      "0.9564359165387094\n",
      "0.9635309004150878\n",
      "0.9706258842914662\n",
      "0.9777208681678446\n",
      "0.9848158520442231\n",
      "0.9919108359206015\n"
     ]
    },
    {
     "name": "stdout",
     "output_type": "stream",
     "text": [
      "get_KY_ratio_difference tried center = 0.9706258842914662 and got -1.5593912052151424\n",
      "0.9501367578696578\n",
      "0.9572317417460362\n",
      "0.9643267256224146\n",
      "0.971421709498793\n",
      "0.9785166933751714\n",
      "0.9856116772515499\n",
      "0.9927066611279283\n"
     ]
    },
    {
     "name": "stdout",
     "output_type": "stream",
     "text": [
      "get_KY_ratio_difference tried center = 0.971421709498793 and got -0.2729404648317404\n",
      "0.950288931571803\n",
      "0.9573839154481815\n",
      "0.9644788993245599\n",
      "0.9715738832009383\n",
      "0.9786688670773167\n",
      "0.9857638509536951\n",
      "0.9928588348300735\n"
     ]
    },
    {
     "name": "stdout",
     "output_type": "stream",
     "text": [
      "get_KY_ratio_difference tried center = 0.9715738832009383 and got 0.006554865735813209\n",
      "0.9502853627172392\n",
      "0.9573803465936176\n",
      "0.964475330469996\n",
      "0.9715703143463744\n",
      "0.9786652982227528\n",
      "0.9857602820991312\n",
      "0.9928552659755097\n"
     ]
    },
    {
     "name": "stdout",
     "output_type": "stream",
     "text": [
      "get_KY_ratio_difference tried center = 0.9715703143463744 and got -0.00013220811252789844\n",
      "0.9502858627172396\n",
      "0.957380846593618\n",
      "0.9644758304699964\n",
      "0.9715708143463748\n",
      "0.9786657982227532\n",
      "0.9857607820991316\n",
      "0.9928557659755101\n"
     ]
    },
    {
     "name": "stdout",
     "output_type": "stream",
     "text": [
      "get_KY_ratio_difference tried center = 0.9715708143463748 and got 0.0008042540958292932\n",
      "0.9502853627172392\n",
      "0.9573803465936176\n",
      "0.964475330469996\n",
      "0.9715703143463744\n",
      "0.9786652982227528\n",
      "0.9857602820991312\n",
      "0.9928552659755097\n"
     ]
    },
    {
     "name": "stdout",
     "output_type": "stream",
     "text": [
      "find_lorenz_distance_at_target_KY tried spread = 0.02483244356732438 and got 3.560880596139253\n",
      "0.931021897562062\n",
      "0.9373479317080413\n",
      "0.9436739658540206\n",
      "0.95\n",
      "0.9563260341459793\n",
      "0.9626520682919586\n",
      "0.9689781024379379\n"
     ]
    },
    {
     "name": "stdout",
     "output_type": "stream",
     "text": [
      "get_KY_ratio_difference tried center = 0.95 and got -6.056014100442086\n",
      "0.976021897562062\n",
      "0.9823479317080414\n",
      "0.9886739658540207\n",
      "0.995\n",
      "1.0013260341459793\n",
      "1.0076520682919587\n",
      "1.013978102437938\n"
     ]
    },
    {
     "name": "stdout",
     "output_type": "stream",
     "text": [
      "get_KY_ratio_difference tried center = 0.995 and got 681.6790260782448\n",
      "0.9314181557408645\n",
      "0.9377441898868438\n",
      "0.9440702240328231\n",
      "0.9503962581788025\n",
      "0.9567222923247818\n",
      "0.9630483264707611\n",
      "0.9693743606167404\n"
     ]
    },
    {
     "name": "stdout",
     "output_type": "stream",
     "text": [
      "get_KY_ratio_difference tried center = 0.9503962581788025 and got -6.051905877724938\n",
      "0.9537200266514633\n",
      "0.9600460607974426\n",
      "0.9663720949434219\n",
      "0.9726981290894012\n",
      "0.9790241632353806\n",
      "0.9853501973813599\n",
      "0.9916762315273392\n"
     ]
    },
    {
     "name": "stdout",
     "output_type": "stream",
     "text": [
      "get_KY_ratio_difference tried center = 0.9726981290894012 and got -1.810963625751719\n",
      "0.9631600694443861\n",
      "0.9694861035903655\n",
      "0.9758121377363448\n",
      "0.9821381718823241\n",
      "0.9884642060283034\n",
      "0.9947902401742827\n",
      "1.0011162743202622\n"
     ]
    },
    {
     "name": "stdout",
     "output_type": "stream",
     "text": [
      "get_KY_ratio_difference tried center = 0.9821381718823241 and got 69.1940729694204\n",
      "0.9539607923061729\n",
      "0.9602868264521522\n",
      "0.9666128605981316\n",
      "0.9729388947441109\n",
      "0.9792649288900902\n",
      "0.9855909630360695\n",
      "0.9919169971820488\n"
     ]
    },
    {
     "name": "stdout",
     "output_type": "stream",
     "text": [
      "get_KY_ratio_difference tried center = 0.9729388947441109 and got -1.465147797329359\n",
      "0.9549597133336657\n",
      "0.961285747479645\n",
      "0.9676117816256243\n",
      "0.9739378157716037\n",
      "0.980263849917583\n",
      "0.9865898840635623\n",
      "0.9929159182095416\n"
     ]
    },
    {
     "name": "stdout",
     "output_type": "stream",
     "text": [
      "get_KY_ratio_difference tried center = 0.9739378157716037 and got 0.24771823605865162\n",
      "0.9548152473041753\n",
      "0.9611412814501546\n",
      "0.967467315596134\n",
      "0.9737933497421133\n",
      "0.9801193838880926\n",
      "0.9864454180340719\n",
      "0.9927714521800513\n"
     ]
    },
    {
     "name": "stdout",
     "output_type": "stream",
     "text": [
      "get_KY_ratio_difference tried center = 0.9737933497421133 and got -0.032049411102497594\n",
      "0.954831796934615\n",
      "0.9611578310805943\n",
      "0.9674838652265736\n",
      "0.9738098993725529\n",
      "0.9801359335185322\n",
      "0.9864619676645116\n",
      "0.9927880018104909\n"
     ]
    },
    {
     "name": "stdout",
     "output_type": "stream",
     "text": [
      "get_KY_ratio_difference tried center = 0.9738098993725529 and got -0.000639949229078951\n",
      "0.9548322969346154\n",
      "0.9611583310805947\n",
      "0.967484365226574\n",
      "0.9738103993725533\n",
      "0.9801364335185326\n",
      "0.986462467664512\n",
      "0.9927885018104913\n"
     ]
    },
    {
     "name": "stdout",
     "output_type": "stream",
     "text": [
      "get_KY_ratio_difference tried center = 0.9738103993725533 and got 0.0003114134141508629\n",
      "0.9548322969346154\n",
      "0.9611583310805947\n",
      "0.967484365226574\n",
      "0.9738103993725533\n",
      "0.9801364335185326\n",
      "0.986462467664512\n",
      "0.9927885018104913\n"
     ]
    },
    {
     "name": "stdout",
     "output_type": "stream",
     "text": [
      "find_lorenz_distance_at_target_KY tried spread = 0.022141119510927662 and got 3.2607768184192243\n",
      "0.9333287466371969\n",
      "0.9388858310914646\n",
      "0.9444429155457322\n",
      "0.95\n",
      "0.9555570844542677\n",
      "0.9611141689085353\n",
      "0.966671253362803\n"
     ]
    },
    {
     "name": "stdout",
     "output_type": "stream",
     "text": [
      "get_KY_ratio_difference tried center = 0.95 and got -6.063053896266307\n",
      "0.9783287466371969\n",
      "0.9838858310914645\n",
      "0.9894429155457323\n",
      "0.9949999999999999\n",
      "1.0005570844542675\n",
      "1.0061141689085351\n",
      "1.011671253362803\n"
     ]
    },
    {
     "name": "stdout",
     "output_type": "stream",
     "text": [
      "get_KY_ratio_difference tried center = 0.995 and got 642.4396334107854\n",
      "0.9337494656730192\n",
      "0.9393065501272869\n",
      "0.9448636345815545\n",
      "0.9504207190358223\n",
      "0.95597780349009\n",
      "0.9615348879443576\n",
      "0.9670919723986253\n"
     ]
    },
    {
     "name": "stdout",
     "output_type": "stream",
     "text": [
      "get_KY_ratio_difference tried center = 0.9504207190358223 and got -6.058929132798922\n",
      "0.9560391061551081\n",
      "0.9615961906093758\n",
      "0.9671532750636435\n",
      "0.9727103595179112\n",
      "0.9782674439721789\n",
      "0.9838245284264465\n",
      "0.9893816128807142\n"
     ]
    },
    {
     "name": "stdout",
     "output_type": "stream",
     "text": [
      "get_KY_ratio_difference tried center = 0.9727103595179112 and got -4.173267362441683\n",
      "0.9671839263961526\n",
      "0.9727410108504203\n",
      "0.9782980953046879\n",
      "0.9838551797589556\n",
      "0.9894122642132234\n",
      "0.994969348667491\n",
      "1.0005264331217587\n"
     ]
    },
    {
     "name": "stdout",
     "output_type": "stream",
     "text": [
      "get_KY_ratio_difference tried center = 0.9838551797589556 and got 60.30628927705745\n",
      "0.9567604249264555\n",
      "0.9623175093807232\n",
      "0.9678745938349909\n",
      "0.9734316782892586\n",
      "0.9789887627435263\n",
      "0.9845458471977939\n",
      "0.9901029316520616\n"
     ]
    },
    {
     "name": "stdout",
     "output_type": "stream",
     "text": [
      "get_KY_ratio_difference tried center = 0.9734316782892586 and got -3.5448114880280532\n",
      "0.9606031543569736\n",
      "0.9661602388112414\n",
      "0.971717323265509\n",
      "0.9772744077197767\n",
      "0.9828314921740444\n",
      "0.988388576628312\n",
      "0.9939456610825798\n"
     ]
    },
    {
     "name": "stdout",
     "output_type": "stream",
     "text": [
      "get_KY_ratio_difference tried center = 0.9772744077197767 and got 3.064912404205165\n",
      "0.9588212903503033\n",
      "0.964378374804571\n",
      "0.9699354592588386\n",
      "0.9754925437131063\n",
      "0.9810496281673741\n",
      "0.9866067126216417\n",
      "0.9921637970759094\n"
     ]
    },
    {
     "name": "stdout",
     "output_type": "stream",
     "text": [
      "get_KY_ratio_difference tried center = 0.9754925437131063 and got -0.9444957264602492\n",
      "0.9592410438113096\n",
      "0.9647981282655773\n",
      "0.9703552127198449\n",
      "0.9759122971741127\n",
      "0.9814693816283804\n",
      "0.987026466082648\n",
      "0.9925835505369157\n"
     ]
    },
    {
     "name": "stdout",
     "output_type": "stream",
     "text": [
      "get_KY_ratio_difference tried center = 0.9759122971741127 and got -0.19810876073156436\n",
      "0.9593456920917232\n",
      "0.9649027765459909\n",
      "0.9704598610002585\n",
      "0.9760169454545262\n",
      "0.9815740299087939\n",
      "0.9871311143630616\n",
      "0.9926881988173293\n"
     ]
    },
    {
     "name": "stdout",
     "output_type": "stream",
     "text": [
      "get_KY_ratio_difference tried center = 0.9760169454545262 and got 0.004181256117313126\n",
      "0.9593435290523925\n",
      "0.9649006135066602\n",
      "0.9704576979609278\n",
      "0.9760147824151956\n",
      "0.9815718668694633\n",
      "0.9871289513237309\n",
      "0.9926860357779986\n"
     ]
    },
    {
     "name": "stdout",
     "output_type": "stream",
     "text": [
      "get_KY_ratio_difference tried center = 0.9760147824151956 and got -6.763443421675674e-05\n",
      "0.9593440290523929\n",
      "0.9649011135066606\n",
      "0.9704581979609282\n",
      "0.976015282415196\n",
      "0.9815723668694637\n",
      "0.9871294513237313\n",
      "0.992686535777999\n"
     ]
    },
    {
     "name": "stdout",
     "output_type": "stream",
     "text": [
      "get_KY_ratio_difference tried center = 0.976015282415196 and got 0.0009142559514812021\n",
      "0.9593435290523925\n",
      "0.9649006135066602\n",
      "0.9704576979609278\n",
      "0.9760147824151956\n",
      "0.9815718668694633\n",
      "0.9871289513237309\n",
      "0.9926860357779986\n"
     ]
    },
    {
     "name": "stdout",
     "output_type": "stream",
     "text": [
      "find_lorenz_distance_at_target_KY tried spread = 0.019449795589936838 and got 3.358673057660488\n",
      "0.9318142722143367\n",
      "0.9378761814762244\n",
      "0.9439380907381122\n",
      "0.95\n",
      "0.9560619092618877\n",
      "0.9621238185237755\n",
      "0.9681857277856633\n"
     ]
    },
    {
     "name": "stdout",
     "output_type": "stream",
     "text": [
      "get_KY_ratio_difference tried center = 0.95 and got -6.058599168244882\n",
      "0.9768142722143367\n",
      "0.9828761814762245\n",
      "0.9889380907381121\n",
      "0.9949999999999999\n",
      "1.0010619092618875\n",
      "1.0071238185237754\n",
      "1.013185727785663\n"
     ]
    },
    {
     "name": "stdout",
     "output_type": "stream",
     "text": [
      "get_KY_ratio_difference tried center = 0.995 and got 676.3095562015808\n",
      "0.9322138174750959\n",
      "0.9382757267369837\n",
      "0.9443376359988714\n",
      "0.9503995452607592\n",
      "0.956461454522647\n",
      "0.9625233637845347\n",
      "0.9685852730464225\n"
     ]
    },
    {
     "name": "stdout",
     "output_type": "stream",
     "text": [
      "get_KY_ratio_difference tried center = 0.9503995452607592 and got -6.054541106471816\n",
      "0.9545140448447164\n",
      "0.9605759541066041\n",
      "0.9666378633684919\n",
      "0.9726997726303797\n",
      "0.9787616818922674\n",
      "0.9848235911541552\n",
      "0.990885500416043\n"
     ]
    },
    {
     "name": "stdout",
     "output_type": "stream",
     "text": [
      "get_KY_ratio_difference tried center = 0.9726997726303797 and got -2.7791375145784905\n",
      "0.9656641585295266\n",
      "0.9717260677914143\n",
      "0.9777879770533021\n",
      "0.9838498863151899\n",
      "0.9899117955770776\n",
      "0.9959737048389654\n",
      "1.002035614100853\n"
     ]
    },
    {
     "name": "stdout",
     "output_type": "stream",
     "text": [
      "get_KY_ratio_difference tried center = 0.9838498863151899 and got 94.38505724981039\n",
      "0.9548329658146107\n",
      "0.9608948750764985\n",
      "0.9669567843383863\n",
      "0.973018693600274\n",
      "0.9790806028621618\n",
      "0.9851425121240496\n",
      "0.9912044213859373\n"
     ]
    },
    {
     "name": "stdout",
     "output_type": "stream",
     "text": [
      "get_KY_ratio_difference tried center = 0.973018693600274 and got -2.399630814694734\n",
      "0.956799514252482\n",
      "0.9628614235143698\n",
      "0.9689233327762575\n",
      "0.9749852420381453\n",
      "0.9810471513000331\n",
      "0.9871090605619208\n",
      "0.9931709698238086\n"
     ]
    },
    {
     "name": "stdout",
     "output_type": "stream",
     "text": [
      "get_KY_ratio_difference tried center = 0.9749852420381453 and got 0.8475227434747676\n",
      "0.9562862356232508\n",
      "0.9623481448851385\n",
      "0.9684100541470263\n",
      "0.9744719634089141\n",
      "0.9805338726708018\n",
      "0.9865957819326896\n",
      "0.9926576911945774\n"
     ]
    },
    {
     "name": "stdout",
     "output_type": "stream",
     "text": [
      "get_KY_ratio_difference tried center = 0.9744719634089141 and got -0.18987505755806922\n",
      "0.9563801810790553\n",
      "0.9624420903409431\n",
      "0.9685039996028308\n",
      "0.9745659088647186\n",
      "0.9806278181266064\n",
      "0.9866897273884941\n",
      "0.9927516366503819\n"
     ]
    },
    {
     "name": "stdout",
     "output_type": "stream",
     "text": [
      "get_KY_ratio_difference tried center = 0.9745659088647186 and got -0.012349148077425376\n",
      "0.9563866223065609\n",
      "0.9624485315684487\n",
      "0.9685104408303364\n",
      "0.9745723500922242\n",
      "0.980634259354112\n",
      "0.9866961686159997\n",
      "0.9927580778778875\n"
     ]
    },
    {
     "name": "stdout",
     "output_type": "stream",
     "text": [
      "get_KY_ratio_difference tried center = 0.9745723500922242 and got 3.2298746603487416e-05\n",
      "0.9563861223065605\n",
      "0.9624480315684483\n",
      "0.968509940830336\n",
      "0.9745718500922238\n",
      "0.9806337593541116\n",
      "0.9866956686159993\n",
      "0.9927575778778871\n"
     ]
    },
    {
     "name": "stdout",
     "output_type": "stream",
     "text": [
      "get_KY_ratio_difference tried center = 0.9745718500922238 and got -0.0009275846986316338\n",
      "0.9563866223065609\n",
      "0.9624485315684487\n",
      "0.9685104408303364\n",
      "0.9745723500922242\n",
      "0.980634259354112\n",
      "0.9866961686159997\n",
      "0.9927580778778875\n"
     ]
    },
    {
     "name": "stdout",
     "output_type": "stream",
     "text": [
      "find_lorenz_distance_at_target_KY tried spread = 0.021216682416607093 and got 3.22852538258721\n",
      "0.9318291459170189\n",
      "0.9378860972780126\n",
      "0.9439430486390062\n",
      "0.95\n",
      "0.9560569513609937\n",
      "0.9621139027219873\n",
      "0.968170854082981\n"
     ]
    },
    {
     "name": "stdout",
     "output_type": "stream",
     "text": [
      "get_KY_ratio_difference tried center = 0.95 and got -6.058645971834647\n",
      "0.9768291459170191\n",
      "0.9828860972780128\n",
      "0.9889430486390064\n",
      "0.9950000000000001\n",
      "1.0010569513609937\n",
      "1.0071139027219875\n",
      "1.0131708540829811\n"
     ]
    },
    {
     "name": "stdout",
     "output_type": "stream",
     "text": [
      "get_KY_ratio_difference tried center = 0.995 and got 676.2059308976427\n",
      "0.9322287549220526\n",
      "0.9382857062830463\n",
      "0.9443426576440399\n",
      "0.9503996090050336\n",
      "0.9564565603660273\n",
      "0.9625135117270209\n",
      "0.9685704630880146\n"
     ]
    },
    {
     "name": "stdout",
     "output_type": "stream",
     "text": [
      "get_KY_ratio_difference tried center = 0.9503996090050336 and got -6.054588787919656\n",
      "0.9545289504195358\n",
      "0.9605859017805295\n",
      "0.9666428531415231\n",
      "0.9726998045025168\n",
      "0.9787567558635105\n",
      "0.9848137072245041\n",
      "0.9908706585854978\n"
     ]
    },
    {
     "name": "stdout",
     "output_type": "stream",
     "text": [
      "get_KY_ratio_difference tried center = 0.9726998045025168 and got -2.79555666793921\n",
      "0.9656790481682773\n",
      "0.971735999529271\n",
      "0.9777929508902646\n",
      "0.9838499022512583\n",
      "0.9899068536122521\n",
      "0.9959638049732457\n",
      "1.0020207563342394\n"
     ]
    },
    {
     "name": "stdout",
     "output_type": "stream",
     "text": [
      "get_KY_ratio_difference tried center = 0.9838499022512583 and got 93.97143551357033\n",
      "0.9548510719343928\n",
      "0.9609080232953865\n",
      "0.9669649746563801\n",
      "0.9730219260173738\n",
      "0.9790788773783675\n",
      "0.9851358287393611\n",
      "0.9911927801003548\n"
     ]
    },
    {
     "name": "stdout",
     "output_type": "stream",
     "text": [
      "get_KY_ratio_difference tried center = 0.9730219260173738 and got -2.413478100416955\n",
      "0.9568348688794119\n",
      "0.9628918202404056\n",
      "0.9689487716013993\n",
      "0.975005722962393\n",
      "0.9810626743233867\n",
      "0.9871196256843803\n",
      "0.993176577045374\n"
     ]
    },
    {
     "name": "stdout",
     "output_type": "stream",
     "text": [
      "get_KY_ratio_difference tried center = 0.975005722962393 and got 0.8613530880007669\n",
      "0.9563130863733084\n",
      "0.9623700377343021\n",
      "0.9684269890952957\n",
      "0.9744839404562894\n",
      "0.9805408918172831\n",
      "0.9865978431782767\n",
      "0.9926547945392704\n"
     ]
    },
    {
     "name": "stdout",
     "output_type": "stream",
     "text": [
      "get_KY_ratio_difference tried center = 0.9744839404562894 and got -0.19415834016177858\n",
      "0.9564090667886856\n",
      "0.9624660181496794\n",
      "0.968522969510673\n",
      "0.9745799208716667\n",
      "0.9806368722326604\n",
      "0.986693823593654\n",
      "0.9927507749546477\n"
     ]
    },
    {
     "name": "stdout",
     "output_type": "stream",
     "text": [
      "get_KY_ratio_difference tried center = 0.9745799208716667 and got -0.012828580503883025\n",
      "0.956415757490314\n",
      "0.9624727088513078\n",
      "0.9685296602123014\n",
      "0.9745866115732951\n",
      "0.9806435629342888\n",
      "0.9867005142952824\n",
      "0.9927574656562761\n"
     ]
    },
    {
     "name": "stdout",
     "output_type": "stream",
     "text": [
      "get_KY_ratio_difference tried center = 0.9745866115732951 and got 3.323562147450332e-05\n",
      "0.9564152574903136\n",
      "0.9624722088513074\n",
      "0.968529160212301\n",
      "0.9745861115732947\n",
      "0.9806430629342884\n",
      "0.986700014295282\n",
      "0.9927569656562757\n"
     ]
    },
    {
     "name": "stdout",
     "output_type": "stream",
     "text": [
      "get_KY_ratio_difference tried center = 0.9745861115732947 and got -0.0009268268681985603\n",
      "0.956415757490314\n",
      "0.9624727088513078\n",
      "0.9685296602123014\n",
      "0.9745866115732951\n",
      "0.9806435629342888\n",
      "0.9867005142952824\n",
      "0.9927574656562761\n"
     ]
    },
    {
     "name": "stdout",
     "output_type": "stream",
     "text": [
      "find_lorenz_distance_at_target_KY tried spread = 0.021199329763477874 and got 3.2284695034255253\n",
      "0.9318562441170082\n",
      "0.9379041627446721\n",
      "0.943952081372336\n",
      "0.95\n",
      "0.9560479186276639\n",
      "0.9620958372553278\n",
      "0.9681437558829917\n"
     ]
    },
    {
     "name": "stdout",
     "output_type": "stream",
     "text": [
      "get_KY_ratio_difference tried center = 0.95 and got -6.058731046947972\n",
      "0.9768562441170083\n",
      "0.9829041627446723\n",
      "0.9889520813723361\n",
      "0.9950000000000001\n",
      "1.001047918627664\n",
      "1.007095837255328\n",
      "1.0131437558829919\n"
     ]
    },
    {
     "name": "stdout",
     "output_type": "stream",
     "text": [
      "get_KY_ratio_difference tried center = 0.995 and got 676.0171762724357\n",
      "0.9322559692710372\n",
      "0.9383038878987011\n",
      "0.944351806526365\n",
      "0.9503997251540289\n",
      "0.9564476437816929\n",
      "0.9624955624093567\n",
      "0.9685434810370207\n"
     ]
    },
    {
     "name": "stdout",
     "output_type": "stream",
     "text": [
      "get_KY_ratio_difference tried center = 0.9503997251540289 and got -6.054675422680507\n",
      "0.9545561066940227\n",
      "0.9606040253216866\n",
      "0.9666519439493505\n",
      "0.9726998625770145\n",
      "0.9787477812046784\n",
      "0.9847956998323423\n",
      "0.9908436184600062\n"
     ]
    },
    {
     "name": "stdout",
     "output_type": "stream",
     "text": [
      "get_KY_ratio_difference tried center = 0.9726998625770145 and got -2.825304593658097\n",
      "0.9657061754055154\n",
      "0.9717540940331794\n",
      "0.9778020126608432\n",
      "0.9838499312885072\n",
      "0.9898978499161711\n",
      "0.995945768543835\n",
      "1.001993687171499\n"
     ]
    },
    {
     "name": "stdout",
     "output_type": "stream",
     "text": [
      "get_KY_ratio_difference tried center = 0.9838499312885072 and got 93.22213656080972\n",
      "0.9548840939883382\n",
      "0.9609320126160021\n",
      "0.966979931243666\n",
      "0.97302784987133\n",
      "0.9790757684989939\n",
      "0.9851236871266578\n",
      "0.9911716057543217\n"
     ]
    },
    {
     "name": "stdout",
     "output_type": "stream",
     "text": [
      "get_KY_ratio_difference tried center = 0.97302784987133 and got -2.438546123782726\n",
      "0.9568993662983034\n",
      "0.9629472849259674\n",
      "0.9689952035536312\n",
      "0.9750431221812952\n",
      "0.9810910408089591\n",
      "0.987138959436623\n",
      "0.993186878064287\n"
     ]
    },
    {
     "name": "stdout",
     "output_type": "stream",
     "text": [
      "get_KY_ratio_difference tried center = 0.9750431221812952 and got 0.8868368385846503\n",
      "0.9563619191096691\n",
      "0.962409837737333\n",
      "0.9684577563649969\n",
      "0.9745056749926608\n",
      "0.9805535936203248\n",
      "0.9866015122479886\n",
      "0.9926494308756526\n"
     ]
    },
    {
     "name": "stdout",
     "output_type": "stream",
     "text": [
      "get_KY_ratio_difference tried center = 0.9745056749926608 and got -0.20213835787372503\n",
      "0.9564616814297914\n",
      "0.9625096000574553\n",
      "0.9685575186851192\n",
      "0.9746054373127832\n",
      "0.9806533559404471\n",
      "0.986701274568111\n",
      "0.9927491931957749\n"
     ]
    },
    {
     "name": "stdout",
     "output_type": "stream",
     "text": [
      "get_KY_ratio_difference tried center = 0.9746054373127832 and got -0.013716718369918723\n",
      "0.9564688333088776\n",
      "0.9625167519365415\n",
      "0.9685646705642054\n",
      "0.9746125891918693\n",
      "0.9806605078195333\n",
      "0.9867084264471971\n",
      "0.9927563450748611\n"
     ]
    },
    {
     "name": "stdout",
     "output_type": "stream",
     "text": [
      "get_KY_ratio_difference tried center = 0.9746125891918693 and got 3.427785036258513e-05\n",
      "0.9564683333088771\n",
      "0.9625162519365411\n",
      "0.968564170564205\n",
      "0.9746120891918689\n",
      "0.9806600078195329\n",
      "0.9867079264471967\n",
      "0.9927558450748607\n"
     ]
    },
    {
     "name": "stdout",
     "output_type": "stream",
     "text": [
      "get_KY_ratio_difference tried center = 0.9746120891918689 and got -0.0009261130997932909\n",
      "0.9564688333088776\n",
      "0.9625167519365415\n",
      "0.9685646705642054\n",
      "0.9746125891918693\n",
      "0.9806605078195333\n",
      "0.9867084264471971\n",
      "0.9927563450748611\n"
     ]
    },
    {
     "name": "stdout",
     "output_type": "stream",
     "text": [
      "find_lorenz_distance_at_target_KY tried spread = 0.0211677151968237 and got 3.228424743731521\n",
      "0.9318591611671169\n",
      "0.9379061074447446\n",
      "0.9439530537223723\n",
      "0.95\n",
      "0.9560469462776277\n",
      "0.9620938925552553\n",
      "0.968140838832883\n"
     ]
    },
    {
     "name": "stdout",
     "output_type": "stream",
     "text": [
      "get_KY_ratio_difference tried center = 0.95 and got -6.058740193204567\n",
      "0.9768591611671169\n",
      "0.9829061074447446\n",
      "0.9889530537223723\n",
      "0.995\n",
      "1.0010469462776277\n",
      "1.0070938925552555\n",
      "1.013140838832883\n"
     ]
    },
    {
     "name": "stdout",
     "output_type": "stream",
     "text": [
      "get_KY_ratio_difference tried center = 0.995 and got 675.9974110423692\n",
      "0.9322588985028191\n",
      "0.9383058447804468\n",
      "0.9443527910580745\n",
      "0.9503997373357022\n",
      "0.9564466836133299\n",
      "0.9624936298909575\n",
      "0.9685405761685852\n"
     ]
    },
    {
     "name": "stdout",
     "output_type": "stream",
     "text": [
      "get_KY_ratio_difference tried center = 0.9503997373357022 and got -6.05468473796388\n",
      "0.954559029834968\n",
      "0.9606059761125957\n",
      "0.9666529223902234\n",
      "0.9726998686678511\n",
      "0.9787468149454788\n",
      "0.9847937612231065\n",
      "0.9908407075007342\n"
     ]
    },
    {
     "name": "stdout",
     "output_type": "stream",
     "text": [
      "get_KY_ratio_difference tried center = 0.9726998686678511 and got -2.8284936613324434\n",
      "0.9657090955010424\n",
      "0.9717560417786701\n",
      "0.9778029880562978\n",
      "0.9838499343339255\n",
      "0.9898968806115532\n",
      "0.9959438268891809\n",
      "1.0019907731668085\n"
     ]
    },
    {
     "name": "stdout",
     "output_type": "stream",
     "text": [
      "get_KY_ratio_difference tried center = 0.9838499343339255 and got 93.14179724312486\n",
      "0.954887651221469\n",
      "0.9609345974990967\n",
      "0.9669815437767244\n",
      "0.9730284900543521\n",
      "0.9790754363319798\n",
      "0.9851223826096075\n",
      "0.9911693288872352\n"
     ]
    },
    {
     "name": "stdout",
     "output_type": "stream",
     "text": [
      "get_KY_ratio_difference tried center = 0.9730284900543521 and got -2.4412318362412515\n",
      "0.9569063149751004\n",
      "0.9629532612527281\n",
      "0.9690002075303558\n",
      "0.9750471538079835\n",
      "0.9810941000856112\n",
      "0.9871410463632388\n",
      "0.9931879926408665\n"
     ]
    },
    {
     "name": "stdout",
     "output_type": "stream",
     "text": [
      "get_KY_ratio_difference tried center = 0.9750471538079835 and got 0.889600284532226\n",
      "0.9563671692648121\n",
      "0.9624141155424398\n",
      "0.9684610618200675\n",
      "0.9745080080976952\n",
      "0.9805549543753229\n",
      "0.9866019006529506\n",
      "0.9926488469305783\n"
     ]
    },
    {
     "name": "stdout",
     "output_type": "stream",
     "text": [
      "get_KY_ratio_difference tried center = 0.9745080080976952 and got -0.20300580425966697\n",
      "0.9564673423369311\n",
      "0.9625142886145588\n",
      "0.9685612348921865\n",
      "0.9746081811698142\n",
      "0.9806551274474419\n",
      "0.9867020737250696\n",
      "0.9927490200026973\n"
     ]
    },
    {
     "name": "stdout",
     "output_type": "stream",
     "text": [
      "get_KY_ratio_difference tried center = 0.9746081811698142 and got -0.013817305670764668\n",
      "0.9564745465408695\n",
      "0.9625214928184972\n",
      "0.9685684390961249\n",
      "0.9746153853737526\n",
      "0.9806623316513803\n",
      "0.986709277929008\n",
      "0.9927562242066357\n"
     ]
    },
    {
     "name": "stdout",
     "output_type": "stream",
     "text": [
      "get_KY_ratio_difference tried center = 0.9746153853737526 and got 3.4495797439859643e-05\n",
      "0.9564740465408691\n",
      "0.9625209928184968\n",
      "0.9685679390961245\n",
      "0.9746148853737522\n",
      "0.9806618316513799\n",
      "0.9867087779290076\n",
      "0.9927557242066353\n"
     ]
    },
    {
     "name": "stdout",
     "output_type": "stream",
     "text": [
      "get_KY_ratio_difference tried center = 0.9746148853737522 and got -0.0009259312631826333\n",
      "0.9564745465408695\n",
      "0.9625214928184972\n",
      "0.9685684390961249\n",
      "0.9746153853737526\n",
      "0.9806623316513803\n",
      "0.986709277929008\n",
      "0.9927562242066357\n"
     ]
    },
    {
     "name": "stdout",
     "output_type": "stream",
     "text": [
      "find_lorenz_distance_at_target_KY tried spread = 0.02116431197169698 and got 3.2284245246637115\n",
      "0.9318609752595716\n",
      "0.9379073168397144\n",
      "0.9439536584198571\n",
      "0.95\n",
      "0.9560463415801428\n",
      "0.9620926831602855\n",
      "0.9681390247404283\n"
     ]
    },
    {
     "name": "stdout",
     "output_type": "stream",
     "text": [
      "get_KY_ratio_difference tried center = 0.95 and got -6.058745880041908\n",
      "0.9768609752595716\n",
      "0.9829073168397144\n",
      "0.9889536584198572\n",
      "0.995\n",
      "1.0010463415801427\n",
      "1.0070926831602856\n",
      "1.0131390247404284\n"
     ]
    },
    {
     "name": "stdout",
     "output_type": "stream",
     "text": [
      "get_KY_ratio_difference tried center = 0.995 and got 675.9846702275511\n",
      "0.9322607204343845\n",
      "0.9383070620145273\n",
      "0.94435340359467\n",
      "0.9503997451748128\n",
      "0.9564460867549557\n",
      "0.9624924283350984\n",
      "0.9685387699152412\n"
     ]
    },
    {
     "name": "stdout",
     "output_type": "stream",
     "text": [
      "get_KY_ratio_difference tried center = 0.9503997451748128 and got -6.054690527195811\n",
      "0.954560847846978\n",
      "0.9606071894271209\n",
      "0.9666535310072636\n",
      "0.9726998725874064\n",
      "0.9787462141675493\n",
      "0.984792555747692\n",
      "0.9908388973278348\n"
     ]
    },
    {
     "name": "stdout",
     "output_type": "stream",
     "text": [
      "get_KY_ratio_difference tried center = 0.9726998725874064 and got -2.830475630229566\n",
      "0.9657109115532747\n",
      "0.9717572531334175\n",
      "0.9778035947135604\n",
      "0.9838499362937032\n",
      "0.989896277873846\n",
      "0.9959426194539889\n",
      "1.0019889610341317\n"
     ]
    },
    {
     "name": "stdout",
     "output_type": "stream",
     "text": [
      "get_KY_ratio_difference tried center = 0.9838499362937032 and got 93.09175407512285\n",
      "0.9548898642146451\n",
      "0.9609362057947879\n",
      "0.9669825473749306\n",
      "0.9730288889550734\n",
      "0.9790752305352163\n",
      "0.985121572115359\n",
      "0.9911679136955018\n"
     ]
    },
    {
     "name": "stdout",
     "output_type": "stream",
     "text": [
      "get_KY_ratio_difference tried center = 0.9730288889550734 and got -2.442900345164932\n",
      "0.9569106368667721\n",
      "0.962956978446915\n",
      "0.9690033200270577\n",
      "0.9750496616072005\n",
      "0.9810960031873434\n",
      "0.9871423447674861\n",
      "0.9931886863476289\n"
     ]
    },
    {
     "name": "stdout",
     "output_type": "stream",
     "text": [
      "get_KY_ratio_difference tried center = 0.9750496616072005 and got 0.8913208580033034\n",
      "0.9563704337115609\n",
      "0.9624167752917038\n",
      "0.9684631168718465\n",
      "0.9745094584519893\n",
      "0.9805558000321322\n",
      "0.9866021416122749\n",
      "0.9926484831924177\n"
     ]
    },
    {
     "name": "stdout",
     "output_type": "stream",
     "text": [
      "get_KY_ratio_difference tried center = 0.9745094584519893 and got -0.2035462615710406\n",
      "0.9564708626410322\n",
      "0.962517204221175\n",
      "0.9685635458013178\n",
      "0.9746098873814606\n",
      "0.9806562289616034\n",
      "0.9867025705417461\n",
      "0.992748912121889\n"
     ]
    },
    {
     "name": "stdout",
     "output_type": "stream",
     "text": [
      "get_KY_ratio_difference tried center = 0.9746098873814606 and got -0.013879258632584879\n",
      "0.9564780990447616\n",
      "0.9625244406249044\n",
      "0.9685707822050471\n",
      "0.9746171237851899\n",
      "0.9806634653653328\n",
      "0.9867098069454755\n",
      "0.9927561485256183\n"
     ]
    },
    {
     "name": "stdout",
     "output_type": "stream",
     "text": [
      "get_KY_ratio_difference tried center = 0.9746171237851899 and got 3.3709114751978575e-05\n",
      "0.9564775990447612\n",
      "0.962523940624904\n",
      "0.9685702822050467\n",
      "0.9746166237851895\n",
      "0.9806629653653324\n",
      "0.9867093069454751\n",
      "0.9927556485256179\n"
     ]
    },
    {
     "name": "stdout",
     "output_type": "stream",
     "text": [
      "get_KY_ratio_difference tried center = 0.9746166237851895 and got -0.0009267399245178609\n",
      "0.9564780990447616\n",
      "0.9625244406249044\n",
      "0.9685707822050471\n",
      "0.9746171237851899\n",
      "0.9806634653653328\n",
      "0.9867098069454755\n",
      "0.9927561485256183\n"
     ]
    },
    {
     "name": "stdout",
     "output_type": "stream",
     "text": [
      "find_lorenz_distance_at_target_KY tried spread = 0.021162195530499812 and got 3.2284250653748625\n",
      "0.9564762849523069\n",
      "0.9625232312299346\n",
      "0.9685701775075622\n",
      "0.9746171237851899\n",
      "0.9806640700628176\n",
      "0.9867110163404453\n",
      "0.992757962618073\n"
     ]
    },
    {
     "name": "stdout",
     "output_type": "stream",
     "text": [
      "Estimate is center=0.9746171237851899, spread=0.02116431197169698, took 2448.6780200004578 seconds.\n",
      "Running in interactive shell (Jupyter notebook or spyder)\n"
     ]
    },
    {
     "data": {
      "image/png": "[encoded data removed]",
      "text/plain": [
       "<Figure size 640x480 with 1 Axes>"
      ]
     },
     "metadata": {},
     "output_type": "display_data"
    },
    {
     "name": "stdout",
     "output_type": "stream",
     "text": [
      "Estimate is center=0.9746171237851899, spread=0.02116431197169698\n",
      "Lorenz distance is 3.227610031700354\n",
      "Average MPC for all consumers is 0.443\n",
      "Average MPC in the top percentile of W/Y is 0.053\n",
      "Average MPC in the top decile of W/Y is 0.056\n",
      "Average MPC in the top quintile of W/Y is 0.072\n",
      "Average MPC in the second quintile of W/Y is 0.278\n",
      "Average MPC in the middle quintile of W/Y is 0.467\n",
      "Average MPC in the fourth quintile of W/Y is 0.596\n",
      "Average MPC in the bottom quintile of W/Y is 0.803\n",
      "Average MPC in the top percentile of y is 0.422\n",
      "Average MPC in the top decile of y is 0.407\n",
      "Average MPC in the top quintile of y is 0.410\n",
      "Average MPC in the second quintile of y is 0.436\n",
      "Average MPC in the middle quintile of y is 0.447\n",
      "Average MPC in the fourth quintile of y is 0.429\n",
      "Average MPC in the bottom quintile of y is 0.494\n",
      "Average MPC for the employed is 0.428\n",
      "Average MPC for the unemployed is 0.642\n",
      "Average MPC for the retired is nan\n",
      "Of the population with the 1/3 highest MPCs...\n",
      "49.518% are in the bottom wealth quintile,\n",
      "33.060% are in the second wealth quintile,\n",
      "13.439% are in the third wealth quintile,\n",
      "3.689% are in the fourth wealth quintile,\n",
      "and 0.295% are in the top wealth quintile.\n",
      "\n",
      "These results have been saved to ./Code/Results/PYbetaDistIndLiquid.txt\n",
      "\n",
      "\n"
     ]
    }
   ],
   "source": [
    "options = {\n",
    "    \"param_name\": param_name,\n",
    "    \"dist_type\": dist_type,\n",
    "    \"run_estimation\": run_estimation,\n",
    "    \"run_sensitivity\": run_sensitivity,\n",
    "    \"find_beta_vs_KY\": find_beta_vs_KY,\n",
    "    \"do_tractable\": do_tractable,\n",
    "    \"do_param_dist\": do_param_dist,\n",
    "    \"do_lifecycle\": do_lifecycle,\n",
    "    \"do_agg_shocks\": do_agg_shocks,\n",
    "    \"do_liquid\": do_liquid,\n",
    "}\n",
    "\n",
    "\n",
    "EstimationEconomy = estimate(options, Params)"
   ]
  },
  {
   "cell_type": "code",
   "execution_count": 8,
   "metadata": {
    "execution": {
     "iopub.execute_input": "2023-04-04T21:48:48.386426Z",
     "iopub.status.busy": "2023-04-04T21:48:48.386426Z",
     "iopub.status.idle": "2023-04-04T21:48:48.399957Z",
     "shell.execute_reply": "2023-04-04T21:48:48.399733Z"
    }
   },
   "outputs": [],
   "source": [
    "# Construct the Lorenz curves and plot them\n",
    "\n",
    "pctiles = np.linspace(0.001, 0.999, 15)\n",
    "SCF_Lorenz_points = get_lorenz_shares(\n",
    "    SCF_wealth, weights=SCF_weights, percentiles=pctiles\n",
    ")\n",
    "\n",
    "sim_wealth = EstimationEconomy.reap_state[\"aLvl\"][0]\n",
    "sim_Lorenz_points = get_lorenz_shares(sim_wealth, percentiles=pctiles)"
   ]
  },
  {
   "cell_type": "code",
   "execution_count": 9,
   "metadata": {
    "execution": {
     "iopub.execute_input": "2023-04-04T21:48:48.402958Z",
     "iopub.status.busy": "2023-04-04T21:48:48.401957Z",
     "iopub.status.idle": "2023-04-04T21:48:48.539756Z",
     "shell.execute_reply": "2023-04-04T21:48:48.539251Z"
    },
    "lines_to_next_cell": 2
   },
   "outputs": [
    {
     "data": {
      "image/png": "[encoded data removed]",
      "text/plain": [
       "<Figure size 500x500 with 1 Axes>"
      ]
     },
     "metadata": {},
     "output_type": "display_data"
    }
   ],
   "source": [
    "# Plot\n",
    "plt.figure(figsize=(5, 5))\n",
    "plt.title(\"Wealth Distribution\")\n",
    "plt.plot(pctiles, SCF_Lorenz_points, \"--k\", label=\"SCF\")\n",
    "plt.plot(pctiles, sim_Lorenz_points, \"-b\", label=\"Beta-Dist\")\n",
    "plt.plot(pctiles, pctiles, \"g-.\", label=\"45 Degree\")\n",
    "plt.xlabel(\"Percentile of net worth\")\n",
    "plt.ylabel(\"Cumulative share of wealth\")\n",
    "plt.legend(loc=2)\n",
    "plt.ylim([0, 1])\n",
    "plt.show(\"wealth_distribution_2\")"
   ]
  },
  {
   "cell_type": "code",
   "execution_count": null,
   "metadata": {},
   "outputs": [],
   "source": []
  }
 ],
 "metadata": {
  "jupytext": {
   "encoding": "# -*- coding: utf-8 -*-",
   "formats": "ipynb,py:percent"
  },
  "kernelspec": {
   "display_name": "Python 3 (ipykernel)",
   "language": "python",
   "name": "python3"
  },
  "language_info": {
   "codemirror_mode": {
    "name": "ipython",
    "version": 3
   },
   "file_extension": ".py",
   "mimetype": "text/x-python",
   "name": "python",
   "nbconvert_exporter": "python",
   "pygments_lexer": "ipython3",
   "version": "3.9.16"
  },
  "latex_envs": {
   "LaTeX_envs_menu_present": true,
   "autoclose": false,
   "autocomplete": false,
   "bibliofile": "biblio.bib",
   "cite_by": "apalike",
   "current_citInitial": 1,
   "eqLabelWithNumbers": true,
   "eqNumInitial": 1,
   "hotkeys": {
    "equation": "Ctrl-E",
    "itemize": "Ctrl-I"
   },
   "labels_anchors": false,
   "latex_user_defs": false,
   "report_style_numbering": false,
   "user_envs_cfg": false
  },
  "toc": {
   "base_numbering": 1,
   "nav_menu": {},
   "number_sections": true,
   "sideBar": true,
   "skip_h1_title": false,
   "title_cell": "Table of Contents",
   "title_sidebar": "Contents",
   "toc_cell": false,
   "toc_position": {
    "height": "calc(100% - 180px)",
    "left": "10px",
    "top": "150px",
    "width": "164.994px"
   },
   "toc_section_display": true,
   "toc_window_display": true
  },
  "vscode": {
   "interpreter": {
    "hash": "79df5fddd1bf7837182dc0288ea2fd71cfa8aa9192614ea42e8f71958b4b5b41"
   }
  }
 },
 "nbformat": 4,
 "nbformat_minor": 4
}
