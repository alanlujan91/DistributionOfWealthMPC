{
 "cells": [
  {
   "attachments": {},
   "cell_type": "markdown",
   "metadata": {},
   "source": [
    "# The Distribution of Wealth and the MPC\n"
   ]
  },
  {
   "attachments": {},
   "cell_type": "markdown",
   "metadata": {},
   "source": [
    "This notebook presents a selection of results from the paper [The Distribution of Wealth and the Marginal Propensity to Consume](http://econ.jhu.edu/people/ccarroll/papers/cstwMPC), using the [Econ-ARK/HARK](https://github.com/econ-ark/HARK) toolkit. It sketches the steps that would need to be taken to solve the model using the [dolARK](https://github.com/EconForge/dolARK) modeling system.\n"
   ]
  },
  {
   "cell_type": "code",
   "execution_count": 1,
   "metadata": {
    "code_folding": [],
    "execution": {
     "iopub.execute_input": "2023-04-06T15:42:34.138231Z",
     "iopub.status.busy": "2023-04-06T15:42:34.138231Z",
     "iopub.status.idle": "2023-04-06T15:42:35.764534Z",
     "shell.execute_reply": "2023-04-06T15:42:35.764534Z"
    }
   },
   "outputs": [],
   "source": [
    "# This cell does some standard python setup!\n",
    "\n",
    "import code.calibration as parameters\n",
    "import warnings  # The warnings package allows us to ignore some harmless but alarming warning messages\n",
    "from code.calibration import SCF_wealth, SCF_weights\n",
    "from code.estimation import estimate\n",
    "\n",
    "# Import related generic python packages\n",
    "import matplotlib.pyplot as plt  # Plotting tools\n",
    "import numpy as np\n",
    "from HARK.utilities import get_lorenz_shares\n",
    "\n",
    "warnings.filterwarnings(\"ignore\")\n",
    "\n",
    "\n",
    "def mystr(number):\n",
    "    return f\"{number:.4f}\""
   ]
  },
  {
   "attachments": {},
   "cell_type": "markdown",
   "metadata": {},
   "source": [
    "## Abstract\n",
    "\n",
    "In a model calibrated to match micro- and macroeconomic evidence on household income dynamics, this paper shows that a modest degree of heterogeneity in household preferences or beliefs is sufficient to match empirical measures of wealth inequality in the U.S. The hegerogeneity-augmented model's predictions are consistent with microeconomic evidence that suggests that the annual marginal propensity to consume (MPC) is much larger than the roughly 0.04 implied by commonly-used macroeconomic models (even ones including some heterogeneity). The high MPC arises because many consumers hold little wealth despite having a strong precautionary motive. The model also plausibly predicts that the aggregate MPC can differ greatly depending on how the shock is distributed across households (depending, e.g., on their wealth, or employment status).\n"
   ]
  },
  {
   "attachments": {},
   "cell_type": "markdown",
   "metadata": {},
   "source": [
    "## Notation For the Core Model\n",
    "\n",
    "We define the following notation.\n",
    "\n",
    "|    Exogenous Random Variable     | Description       | Code            | Value |\n",
    "| :------------------------------: | ----------------- | --------------- | :---: |\n",
    "| $\\newcommand{\\tshk}{\\zeta}\\tshk$ | Transitory Income | $\\texttt{tshk}$ |       |\n",
    "| $\\newcommand{\\pshk}{\\psi}\\pshk$  | Permanent Shock   | $\\texttt{pshk}$ |       |\n",
    "\n",
    "|                Parameter                 | Description                          | Code                  |  Value  |\n",
    "| :--------------------------------------: | ------------------------------------ | --------------------- | :-----: |\n",
    "| $\\newcommand{\\PLives}{\\Lambda} \\PLives$  | Probability of living                | $\\texttt{PLives}$     | 0.99375 |\n",
    "| $\\newcommand{\\Discount}{\\beta}\\Discount$ | Time Preference Factor               | $\\texttt{Discount}$   |  0.96   |\n",
    "|     $\\newcommand{\\CRRA}{\\rho}\\CRRA$      | Coeﬃcient of Relative Risk Aversion  | $\\texttt{CRRA}$       |    1    |\n",
    "|              $\\sigma_\\tshk$              | Transitory Income Standard Deviation | $\\texttt{PermShkStd}$ |   0.1   |\n",
    "|              $\\sigma_\\pshk$              | Permanent Shock Standard Deviation   | $\\texttt{TranShkStd}$ |   0.1   |\n",
    "\n",
    "|                 Variable                  | Description         | Code                |\n",
    "| :---------------------------------------: | ------------------- | ------------------- |\n",
    "|       $\\newcommand{\\aRat}{a}\\aRat$        | Assets              | $\\texttt{aRat}$     |\n",
    "|       $\\newcommand{\\mRat}{m}\\mRat$        | Market resources    | $\\texttt{mRt}$      |\n",
    "|       $\\newcommand{\\KLev}{K}\\KLev$        | Capital Aggregate   | $\\texttt{KLev}$     |\n",
    "| $\\newcommand{\\kapShare}{\\alpha}\\kapShare$ | Capital share       | $\\texttt{kapShare}$ |\n",
    "|       $\\newcommand{\\LLev}{L}\\LLev$        | Labor Aggregate     | $\\texttt{LLev}$     |\n",
    "|     $\\newcommand{\\labor}{\\ell}\\labor$     | Labor share         | $\\texttt{labor}$    |\n",
    "|       $\\newcommand{\\kRat}{k}\\kRat$        | $K/P$               | $\\texttt{kRat}$     |\n",
    "|       $\\newcommand{\\pRat}{p}\\pRat$        | Permanent Income    |                     |\n",
    "|               $\\mathbf{P}$                |                     |                     |\n",
    "|      $\\newcommand{\\rProd}{r}\\rProd$       | Interest rate       | $\\texttt{rProd}$    |\n",
    "|       $\\newcommand{\\yLev}{y} \\yLev$       | Income              | $\\texttt{yLev}$     |\n",
    "|       $\\newcommand{\\Wage}{W}\\Wage$        | Aggregate Wage Rate | $\\texttt{Wage}$     |\n",
    "\n",
    "|                 Functions                 | Description | Code             | Value |\n",
    "| :---------------------------------------: | ----------- | ---------------- | :---: |\n",
    "|  $\\newcommand{\\cFunc}{\\mathrm{c}}\\cFunc$  | Consumption | $\\texttt{cFunc}$ |       |\n",
    "| $\\newcommand{\\valfn}{\\mathrm{v}} \\valfn$  | Value       | $\\texttt{valfn}$ |\n",
    "| $\\newcommand{\\uFunc}{{\\mathrm{u}}}\\uFunc$ | Utility     | $\\texttt{uFunc}$ |       |\n",
    "\n",
    "$\\newcommand{\\cRat}{c}$\n",
    "$\\newcommand{\\Ex}{\\mathbb{E}}$\n",
    "$\\newcommand{\\PDies}{\\mathsf{P}}$\n",
    "$\\newcommand{\\ptyLev}{a}$\n",
    "$\\newcommand{\\YLev}{Y}$\n",
    "$\\newcommand{\\wEndRat}{\\aRat}$\n"
   ]
  },
  {
   "attachments": {},
   "cell_type": "markdown",
   "metadata": {},
   "source": [
    "The consumer has a standard Constant Relative Risk Aversion utility function $$u(c)=\\frac{c^{1-\\rho}}{1-\\rho}$$\n"
   ]
  },
  {
   "attachments": {},
   "cell_type": "markdown",
   "metadata": {},
   "source": [
    "The idiosyncratic (household) income process is logarithmic Friedman:\n",
    "\\begin{align*}\n",
    "\\yLev_{t+1} & = \\pRat_{t+1}\\tshk_{t+1}\\Wage\\\\\n",
    "\\pRat_{t+1} & = \\pRat_{t}\\pshk_{t+1}\n",
    "\\end{align*}\n"
   ]
  },
  {
   "attachments": {},
   "cell_type": "markdown",
   "metadata": {},
   "source": [
    "The Bellman form of the value function for households is:\n",
    "\n",
    "\\begin{align*}\n",
    "\\valfn(\\mRat_{t}) & = \\underset{\\cFunc_{t}}{\\max } ~~ \\uFunc(\\cFunc_{t}(\\mRat_{t}))+\\Discount \\PLives \\Ex_{t}\\left[ \\pshk_{t+1}^{1-\\CRRA}\\valfn(\\mRat_{t+1})\n",
    "\\right] \\\\\n",
    "\\notag & \\text{s.t.}\\\\\n",
    "\\wEndRat_{t} & = \\mRat_{t}-\\cRat_{t},\\\\\n",
    "\\wEndRat_{t} & \\geq0, \\\\\n",
    "\\kRat_{t+1} & = \\wEndRat_{t}/(\\PLives \\pshk_{t+1}),\n",
    "\\\\\n",
    "\\mRat_{t+1} & = (\\daleth +\\rProd_{t})\\kRat_{t+1}+\\tshk_{t+1},\\\\\n",
    "\\rProd & = \\kapShare\\ptyLev(\\KLev/\\labor\\LLev)^{\\kapShare-1}\\\\\n",
    "\\end{align*}\n"
   ]
  },
  {
   "cell_type": "code",
   "execution_count": 2,
   "metadata": {
    "execution": {
     "iopub.execute_input": "2023-04-06T15:42:35.767537Z",
     "iopub.status.busy": "2023-04-06T15:42:35.767537Z",
     "iopub.status.idle": "2023-04-06T15:42:35.780539Z",
     "shell.execute_reply": "2023-04-06T15:42:35.780539Z"
    },
    "lines_to_next_cell": 2
   },
   "outputs": [
    {
     "data": {
      "text/plain": [
       "'\\nCopied here from do_min.py.\\nDesign decisions about whether to include this code explicitly,\\nor import it, or execute it as is here, TBD.\\n'"
      ]
     },
     "execution_count": 2,
     "metadata": {},
     "output_type": "execute_result"
    }
   ],
   "source": [
    "\"\"\"\n",
    "This will run the absolute minimum amount of work that actually produces\n",
    "relevant output-- no aggregate shocks, perpetual youth, matching net worth.\n",
    "Will run both beta-point and beta-dist versions.\n",
    "\"\"\"\n",
    "\n",
    "\"\"\"\n",
    "Copied here from do_min.py.\n",
    "Design decisions about whether to include this code explicitly,\n",
    "or import it, or execute it as is here, TBD.\n",
    "\"\"\""
   ]
  },
  {
   "cell_type": "code",
   "execution_count": 3,
   "metadata": {
    "execution": {
     "iopub.execute_input": "2023-04-06T15:42:35.782541Z",
     "iopub.status.busy": "2023-04-06T15:42:35.782541Z",
     "iopub.status.idle": "2023-04-06T15:42:35.796047Z",
     "shell.execute_reply": "2023-04-06T15:42:35.796047Z"
    },
    "lines_to_next_cell": 2
   },
   "outputs": [],
   "source": [
    "# For speed here, use the \"tractable\" version of the model\n",
    "# This is not the \"right\" model, but illustrates the key point\n",
    "\"\"\"\n",
    "This options file specifies parameter heterogeneity, making the choice in the paper:\n",
    "uniformly distributed discount factors.\n",
    "\"\"\"\n",
    "param_name = \"DiscFac\"  # Which parameter to introduce heterogeneity in\n",
    "dist_type = \"uniform\"  # Which type of distribution to use\n",
    "\n",
    "\"\"\"\n",
    "This options file specifies the \"standard\" work options for cstwMPC, estimating the model only.\n",
    "\"\"\"\n",
    "run_estimation = True  # Runs the estimation if True\n",
    "# Choose which sensitivity analyses to run: rho, xi_sigma, psi_sigma, mu, urate, mortality, g, R\n",
    "run_sensitivity = [False, False, False, False, False, False, False, False]\n",
    "# Computes K/Y ratio for a wide range of beta; should have do_beta_dist = False\n",
    "find_beta_vs_KY = False\n",
    "# Uses a \"tractable consumer\" rather than solving full model when True\n",
    "do_tractable = True\n",
    "\n",
    "# Solve for the $\\beta-Point$ (do_param_dist=False) for speed\n",
    "\"\"\"\n",
    "This options file establishes the second simplest model specification possible:\n",
    "with heterogeneity, no aggregate shocks, perpetual youth model, matching net worth.\n",
    "\"\"\"\n",
    "\n",
    "do_param_dist = False  # Do param-dist version if True, param-point if False\n",
    "do_lifecycle = False  # Use lifecycle model if True, perpetual youth if False\n",
    "do_agg_shocks = False  # Solve the FBS aggregate shocks version of the model\n",
    "# Matches liquid assets data when True, net worth data when False\n",
    "do_liquid = False"
   ]
  },
  {
   "cell_type": "code",
   "execution_count": 4,
   "metadata": {
    "execution": {
     "iopub.execute_input": "2023-04-06T15:42:35.798050Z",
     "iopub.status.busy": "2023-04-06T15:42:35.798050Z",
     "iopub.status.idle": "2023-04-06T15:43:51.962677Z",
     "shell.execute_reply": "2023-04-06T15:43:51.962677Z"
    },
    "lines_to_next_cell": 2
   },
   "outputs": [
    {
     "name": "stderr",
     "output_type": "stream",
     "text": [
      "GPFRaw                 = 0.965535 \n",
      "GPFNrm                 = 0.968688 \n",
      "GPFAggLivPrb           = 0.959500 \n",
      "Thorn = APF            = 0.965535 \n",
      "PermGroFacAdj          = 0.996744 \n",
      "uInvEpShkuInv          = 1.000000 \n",
      "VAF                    = 0.944063 \n",
      "WRPF                   = 0.066084 \n",
      "DiscFacGPFNrmMax       = 0.980708 \n",
      "DiscFacGPFAggLivPrbMax = 0.990099 \n"
     ]
    },
    {
     "name": "stdout",
     "output_type": "stream",
     "text": [
      "Beginning an estimation with the specification name PYbetaPointIndNetWorth...\n",
      "0.95\n"
     ]
    },
    {
     "name": "stderr",
     "output_type": "stream",
     "text": [
      "GPFRaw                 = 1.011270 \n",
      "GPFNrm                 = 1.014574 \n",
      "GPFAggLivPrb           = 1.004950 \n",
      "Thorn = APF            = 1.011270 \n",
      "PermGroFacAdj          = 0.996744 \n",
      "uInvEpShkuInv          = 1.000000 \n",
      "VAF                    = 0.988781 \n",
      "WRPF                   = 0.069215 \n",
      "DiscFacGPFNrmMax       = 0.980708 \n",
      "DiscFacGPFAggLivPrbMax = 0.990099 \n"
     ]
    },
    {
     "name": "stdout",
     "output_type": "stream",
     "text": [
      "get_KY_ratio_difference tried center = 0.95 and got -9.743386134287636\n",
      "0.995\n"
     ]
    },
    {
     "name": "stderr",
     "output_type": "stream",
     "text": [
      "GPFRaw                 = 0.971401 \n",
      "GPFNrm                 = 0.974574 \n",
      "GPFAggLivPrb           = 0.965330 \n",
      "Thorn = APF            = 0.971401 \n",
      "PermGroFacAdj          = 0.996744 \n",
      "uInvEpShkuInv          = 1.000000 \n",
      "VAF                    = 0.949798 \n",
      "WRPF                   = 0.066486 \n",
      "DiscFacGPFNrmMax       = 0.980708 \n",
      "DiscFacGPFAggLivPrbMax = 0.990099 \n"
     ]
    },
    {
     "name": "stdout",
     "output_type": "stream",
     "text": [
      "get_KY_ratio_difference tried center = 0.995 and got 66.22097507353837\n",
      "0.9557718167976613\n"
     ]
    },
    {
     "name": "stderr",
     "output_type": "stream",
     "text": [
      "GPFRaw                 = 0.985507 \n",
      "GPFNrm                 = 0.988726 \n",
      "GPFAggLivPrb           = 0.979348 \n",
      "Thorn = APF            = 0.985507 \n",
      "PermGroFacAdj          = 0.996744 \n",
      "uInvEpShkuInv          = 1.000000 \n",
      "VAF                    = 0.963591 \n",
      "WRPF                   = 0.067451 \n",
      "DiscFacGPFNrmMax       = 0.980708 \n",
      "DiscFacGPFAggLivPrbMax = 0.990099 \n"
     ]
    },
    {
     "name": "stdout",
     "output_type": "stream",
     "text": [
      "get_KY_ratio_difference tried center = 0.9557718167976613 and got -9.689812141385481\n",
      "0.9696514311252403\n"
     ]
    },
    {
     "name": "stderr",
     "output_type": "stream",
     "text": [
      "GPFRaw                 = 0.991960 \n",
      "GPFNrm                 = 0.995200 \n",
      "GPFAggLivPrb           = 0.985760 \n",
      "Thorn = APF            = 0.991960 \n",
      "PermGroFacAdj          = 0.996744 \n",
      "uInvEpShkuInv          = 1.000000 \n",
      "VAF                    = 0.969900 \n",
      "WRPF                   = 0.067893 \n",
      "DiscFacGPFNrmMax       = 0.980708 \n",
      "DiscFacGPFAggLivPrbMax = 0.990099 \n"
     ]
    },
    {
     "name": "stdout",
     "output_type": "stream",
     "text": [
      "get_KY_ratio_difference tried center = 0.9696514311252403 and got -9.479597433223947\n",
      "0.9759999756734234\n"
     ]
    },
    {
     "name": "stderr",
     "output_type": "stream",
     "text": [
      "GPFRaw                 = 0.997910 \n",
      "GPFNrm                 = 1.001170 \n",
      "GPFAggLivPrb           = 0.991673 \n",
      "Thorn = APF            = 0.997910 \n",
      "PermGroFacAdj          = 0.996744 \n",
      "uInvEpShkuInv          = 1.000000 \n",
      "VAF                    = 0.975718 \n",
      "WRPF                   = 0.068300 \n",
      "DiscFacGPFNrmMax       = 0.980708 \n",
      "DiscFacGPFAggLivPrbMax = 0.990099 \n"
     ]
    },
    {
     "name": "stdout",
     "output_type": "stream",
     "text": [
      "get_KY_ratio_difference tried center = 0.9759999756734234 and got -9.288127085618207\n",
      "0.9818548312429084\n"
     ]
    },
    {
     "name": "stderr",
     "output_type": "stream",
     "text": [
      "GPFRaw                 = 1.001077 \n",
      "GPFNrm                 = 1.004347 \n",
      "GPFAggLivPrb           = 0.994820 \n",
      "Thorn = APF            = 1.001077 \n",
      "PermGroFacAdj          = 0.996744 \n",
      "uInvEpShkuInv          = 1.000000 \n",
      "VAF                    = 0.978814 \n",
      "WRPF                   = 0.068517 \n",
      "DiscFacGPFNrmMax       = 0.980708 \n",
      "DiscFacGPFAggLivPrbMax = 0.990099 \n"
     ]
    },
    {
     "name": "stdout",
     "output_type": "stream",
     "text": [
      "get_KY_ratio_difference tried center = 0.9818548312429084 and got -8.902842194372838\n",
      "0.9849704706584463\n"
     ]
    },
    {
     "name": "stderr",
     "output_type": "stream",
     "text": [
      "GPFRaw                 = 1.006174 \n",
      "GPFNrm                 = 1.009460 \n",
      "GPFAggLivPrb           = 0.999885 \n",
      "Thorn = APF            = 1.006174 \n",
      "PermGroFacAdj          = 0.996744 \n",
      "uInvEpShkuInv          = 1.000000 \n",
      "VAF                    = 0.983798 \n",
      "WRPF                   = 0.068866 \n",
      "DiscFacGPFNrmMax       = 0.980708 \n",
      "DiscFacGPFAggLivPrbMax = 0.990099 \n"
     ]
    },
    {
     "name": "stdout",
     "output_type": "stream",
     "text": [
      "get_KY_ratio_difference tried center = 0.9849704706584463 and got -8.306806071063654\n",
      "0.9899852353292231\n"
     ]
    },
    {
     "name": "stderr",
     "output_type": "stream",
     "text": [
      "GPFRaw                 = 1.005467 \n",
      "GPFNrm                 = 1.008751 \n",
      "GPFAggLivPrb           = 0.999183 \n",
      "Thorn = APF            = 1.005467 \n",
      "PermGroFacAdj          = 0.996744 \n",
      "uInvEpShkuInv          = 1.000000 \n",
      "VAF                    = 0.983107 \n",
      "WRPF                   = 0.068817 \n",
      "DiscFacGPFNrmMax       = 0.980708 \n",
      "DiscFacGPFAggLivPrbMax = 0.990099 \n"
     ]
    },
    {
     "name": "stdout",
     "output_type": "stream",
     "text": [
      "get_KY_ratio_difference tried center = 0.9899852353292231 and got 4.703474929480613\n",
      "0.9892900450179154\n"
     ]
    },
    {
     "name": "stderr",
     "output_type": "stream",
     "text": [
      "GPFRaw                 = 1.004692 \n",
      "GPFNrm                 = 1.007974 \n",
      "GPFAggLivPrb           = 0.998413 \n",
      "Thorn = APF            = 1.004692 \n",
      "PermGroFacAdj          = 0.996744 \n",
      "uInvEpShkuInv          = 1.000000 \n",
      "VAF                    = 0.982349 \n",
      "WRPF                   = 0.068764 \n",
      "DiscFacGPFNrmMax       = 0.980708 \n",
      "DiscFacGPFAggLivPrbMax = 0.990099 \n"
     ]
    },
    {
     "name": "stdout",
     "output_type": "stream",
     "text": [
      "get_KY_ratio_difference tried center = 0.9892900450179154 and got 0.8038606300591304\n",
      "0.9885277877912819\n"
     ]
    },
    {
     "name": "stderr",
     "output_type": "stream",
     "text": [
      "GPFRaw                 = 1.005331 \n",
      "GPFNrm                 = 1.008615 \n",
      "GPFAggLivPrb           = 0.999048 \n",
      "Thorn = APF            = 1.005331 \n",
      "PermGroFacAdj          = 0.996744 \n",
      "uInvEpShkuInv          = 1.000000 \n",
      "VAF                    = 0.982974 \n",
      "WRPF                   = 0.068808 \n",
      "DiscFacGPFNrmMax       = 0.980708 \n",
      "DiscFacGPFAggLivPrbMax = 0.990099 \n"
     ]
    },
    {
     "name": "stdout",
     "output_type": "stream",
     "text": [
      "get_KY_ratio_difference tried center = 0.9885277877912819 and got -2.673138732072042\n",
      "0.9891565817339871\n"
     ]
    },
    {
     "name": "stderr",
     "output_type": "stream",
     "text": [
      "GPFRaw                 = 1.005271 \n",
      "GPFNrm                 = 1.008554 \n",
      "GPFAggLivPrb           = 0.998988 \n",
      "Thorn = APF            = 1.005271 \n",
      "PermGroFacAdj          = 0.996744 \n",
      "uInvEpShkuInv          = 1.000000 \n",
      "VAF                    = 0.982915 \n",
      "WRPF                   = 0.068804 \n",
      "DiscFacGPFNrmMax       = 0.980708 \n",
      "DiscFacGPFAggLivPrbMax = 0.990099 \n"
     ]
    },
    {
     "name": "stdout",
     "output_type": "stream",
     "text": [
      "get_KY_ratio_difference tried center = 0.9891565817339871 and got 0.13342501749844082\n",
      "0.9890967955682026\n"
     ]
    },
    {
     "name": "stderr",
     "output_type": "stream",
     "text": [
      "GPFRaw                 = 1.005304 \n",
      "GPFNrm                 = 1.008588 \n",
      "GPFAggLivPrb           = 0.999021 \n",
      "Thorn = APF            = 1.005304 \n",
      "PermGroFacAdj          = 0.996744 \n",
      "uInvEpShkuInv          = 1.000000 \n",
      "VAF                    = 0.982947 \n",
      "WRPF                   = 0.068806 \n",
      "DiscFacGPFNrmMax       = 0.980708 \n",
      "DiscFacGPFAggLivPrbMax = 0.990099 \n"
     ]
    },
    {
     "name": "stdout",
     "output_type": "stream",
     "text": [
      "get_KY_ratio_difference tried center = 0.9890967955682026 and got -0.15864656874878058\n",
      "0.9891294028389614\n"
     ]
    },
    {
     "name": "stderr",
     "output_type": "stream",
     "text": [
      "GPFRaw                 = 1.005304 \n",
      "GPFNrm                 = 1.008588 \n",
      "GPFAggLivPrb           = 0.999021 \n",
      "Thorn = APF            = 1.005304 \n",
      "PermGroFacAdj          = 0.996744 \n",
      "uInvEpShkuInv          = 1.000000 \n",
      "VAF                    = 0.982947 \n",
      "WRPF                   = 0.068806 \n",
      "DiscFacGPFNrmMax       = 0.980708 \n",
      "DiscFacGPFAggLivPrbMax = 0.990099 \n"
     ]
    },
    {
     "name": "stdout",
     "output_type": "stream",
     "text": [
      "get_KY_ratio_difference tried center = 0.9891294028389614 and got 9.168349484056648e-06\n",
      "0.9891293990703633\n"
     ]
    },
    {
     "name": "stderr",
     "output_type": "stream",
     "text": [
      "GPFRaw                 = 1.005304 \n",
      "GPFNrm                 = 1.008588 \n",
      "GPFAggLivPrb           = 0.999021 \n",
      "Thorn = APF            = 1.005304 \n",
      "PermGroFacAdj          = 0.996744 \n",
      "uInvEpShkuInv          = 1.000000 \n",
      "VAF                    = 0.982947 \n",
      "WRPF                   = 0.068806 \n",
      "DiscFacGPFNrmMax       = 0.980708 \n",
      "DiscFacGPFAggLivPrbMax = 0.990099 \n"
     ]
    },
    {
     "name": "stdout",
     "output_type": "stream",
     "text": [
      "get_KY_ratio_difference tried center = 0.9891293990703633 and got -9.249273945854952e-06\n",
      "0.9891294009546624\n",
      "Estimate is center=0.9891294009546624, spread=0.0, took 65.64015865325928 seconds.\n",
      "Running in interactive shell (Jupyter notebook or spyder)\n"
     ]
    },
    {
     "data": {
      "image/png": "[encoded data removed]",
      "text/plain": [
       "<Figure size 640x480 with 1 Axes>"
      ]
     },
     "metadata": {},
     "output_type": "display_data"
    },
    {
     "name": "stdout",
     "output_type": "stream",
     "text": [
      "Estimate is center=0.9891294009546624, spread=0.0\n",
      "Lorenz distance is 42.338409384229536\n",
      "Average MPC for all consumers is 0.099\n",
      "Average MPC in the top percentile of W/Y is 0.069\n",
      "Average MPC in the top decile of W/Y is 0.071\n",
      "Average MPC in the top quintile of W/Y is 0.072\n",
      "Average MPC in the second quintile of W/Y is 0.074\n",
      "Average MPC in the middle quintile of W/Y is 0.074\n",
      "Average MPC in the fourth quintile of W/Y is 0.076\n",
      "Average MPC in the bottom quintile of W/Y is 0.197\n",
      "Average MPC in the top percentile of y is 0.075\n",
      "Average MPC in the top decile of y is 0.077\n",
      "Average MPC in the top quintile of y is 0.084\n",
      "Average MPC in the second quintile of y is 0.117\n",
      "Average MPC in the middle quintile of y is 0.119\n",
      "Average MPC in the fourth quintile of y is 0.082\n",
      "Average MPC in the bottom quintile of y is 0.092\n",
      "Average MPC for the employed is 0.096\n",
      "Average MPC for the unemployed is 0.130\n",
      "Average MPC for the retired is nan\n",
      "Of the population with the 1/3 highest MPCs...\n",
      "65.755% are in the bottom wealth quintile,\n",
      "26.140% are in the second wealth quintile,\n",
      "5.735% are in the third wealth quintile,\n",
      "1.784% are in the fourth wealth quintile,\n",
      "and 0.586% are in the top wealth quintile.\n",
      "\n",
      "These results have been saved to ./code/results/PYbetaPointIndNetWorth.txt\n",
      "\n",
      "\n"
     ]
    }
   ],
   "source": [
    "options = {\n",
    "    \"param_name\": param_name,\n",
    "    \"dist_type\": dist_type,\n",
    "    \"run_estimation\": run_estimation,\n",
    "    \"run_sensitivity\": run_sensitivity,\n",
    "    \"find_beta_vs_KY\": find_beta_vs_KY,\n",
    "    \"do_tractable\": do_tractable,\n",
    "    \"do_param_dist\": do_param_dist,\n",
    "    \"do_lifecycle\": do_lifecycle,\n",
    "    \"do_agg_shocks\": do_agg_shocks,\n",
    "    \"do_liquid\": do_liquid,\n",
    "}\n",
    "\n",
    "\n",
    "EstimationEconomy = estimate(options, parameters)"
   ]
  },
  {
   "cell_type": "code",
   "execution_count": 5,
   "metadata": {
    "execution": {
     "iopub.execute_input": "2023-04-06T15:43:51.964678Z",
     "iopub.status.busy": "2023-04-06T15:43:51.964678Z",
     "iopub.status.idle": "2023-04-06T15:43:52.105210Z",
     "shell.execute_reply": "2023-04-06T15:43:52.105210Z"
    },
    "lines_to_next_cell": 2
   },
   "outputs": [
    {
     "data": {
      "image/png": "[encoded data removed]",
      "text/plain": [
       "<Figure size 500x500 with 1 Axes>"
      ]
     },
     "metadata": {},
     "output_type": "display_data"
    }
   ],
   "source": [
    "# Construct the Lorenz curves and plot them\n",
    "\n",
    "pctiles = np.linspace(0.001, 0.999, 15)\n",
    "SCF_Lorenz_points = get_lorenz_shares(\n",
    "    SCF_wealth, weights=SCF_weights, percentiles=pctiles\n",
    ")\n",
    "\n",
    "sim_wealth = EstimationEconomy.reap_state[\"aLvl\"][0]\n",
    "sim_Lorenz_points = get_lorenz_shares(sim_wealth, percentiles=pctiles)\n",
    "\n",
    "# Plot\n",
    "plt.figure(figsize=(5, 5))\n",
    "plt.title(\"Wealth Distribution\")\n",
    "plt.plot(pctiles, SCF_Lorenz_points, \"--k\", label=\"SCF\")\n",
    "plt.plot(pctiles, sim_Lorenz_points, \"-b\", label=\"Beta-Point\")\n",
    "plt.plot(pctiles, pctiles, \"g-.\", label=\"45 Degree\")\n",
    "plt.xlabel(\"Percentile of net worth\")\n",
    "plt.ylabel(\"Cumulative share of wealth\")\n",
    "plt.legend(loc=2)\n",
    "plt.ylim([0, 1])\n",
    "plt.show(\"wealth_distribution_1\")"
   ]
  },
  {
   "attachments": {},
   "cell_type": "markdown",
   "metadata": {},
   "source": [
    "## Time Preference Heterogeneneity\n",
    "\n",
    "Our specific approach is to replace the assumption that all households have the same time\n",
    "preference factor with an assumption that, for some dispersion $\\nabla$, time\n",
    "preference factors are distributed uniformly in the population between\n",
    "$\\grave{\\Discount}-\\nabla$ and $\\grave{\\Discount}+\\nabla$ (for this reason, the model is referred to as the $\\Discount$-Dist model). Then,\n",
    "using simulations, we search for the values of $\\grave{\\Discount}$ and\n",
    "$\\nabla$ for which the model best matches the fraction of net worth held by the top $20$, $40$, $60$, and $80$ percent of the population, while at the same time matching\n",
    "the aggregate capital-to-output ratio from the perfect foresight\n",
    "model. Specifically, defining $w_{i}$ and $\\omega _{i}$ as the proportion of total aggregate net worth held by the top $i$ percent in our model and in the data, respectively, we solve the following minimization problem:\n",
    "\n",
    "$$\n",
    "\\{\\grave{\\Discount}, \\nabla\\}= \\underset{\\{{\\Discount}, \\nabla\\}}{\\text{argmin} }\\Big(\\sum_\\text{i=20, 40, 60, 80}\n",
    "  \\big(w_{i}({\\Discount}, \\nabla)-\\omega _{i}\\big)^{2}\\Big)^{1/2}\n",
    "$$\n",
    "\n",
    "subject to the constraint that the aggregate wealth (net worth)-to-output ratio in the model matches the aggregate\n",
    "capital-to-output ratio from the perfect foresight model ($\\KLev_{PF}/\\YLev_{PF}$). When solving the problem for the FBS specification we shut down the aggregate shocks (practically, this does not affect the estimates given their small size).\n",
    "\n",
    "$$\\KLev / \\YLev = \\KLev_{PF} / \\YLev_{PF}$$\n",
    "\n",
    "The solution to this problem is $\\{\\grave{\\Discount}, \\nabla\\}=\\{0.9867, 0.0067\\}$\n",
    ", so that the discount factors are evenly spread roughly between 0.98 and 0.99. We call the optimal value of the objective function the 'Lorenz distance' and use it as a measure of fit of the models.\n",
    "\n",
    "The introduction of even such a relatively modest amount of time\n",
    "preference heterogeneity sharply improves the model's fit to the targeted\n",
    "proportions of wealth holdings, bringing it reasonably in line with the data.\n"
   ]
  },
  {
   "cell_type": "code",
   "execution_count": 6,
   "metadata": {
    "execution": {
     "iopub.execute_input": "2023-04-06T15:43:52.107724Z",
     "iopub.status.busy": "2023-04-06T15:43:52.106716Z",
     "iopub.status.idle": "2023-04-06T15:43:52.120722Z",
     "shell.execute_reply": "2023-04-06T15:43:52.120722Z"
    },
    "lines_to_next_cell": 2,
    "scrolled": true
   },
   "outputs": [],
   "source": [
    "\"\"\"\n",
    "This options file establishes the second simplest model specification possible:\n",
    "with heterogeneity, no aggregate shocks, perpetual youth model, matching net worth.\n",
    "\"\"\"\n",
    "do_param_dist = True  # Do param-dist version if True, param-point if False\n",
    "do_lifecycle = False  # Use lifecycle model if True, perpetual youth if False\n",
    "do_agg_shocks = False  # Solve the FBS aggregate shocks version of the model\n",
    "do_liquid = True  # Matches liquid assets data when True, net worth data when False\n",
    "do_tractable = False  #"
   ]
  },
  {
   "cell_type": "code",
   "execution_count": 7,
   "metadata": {
    "execution": {
     "iopub.execute_input": "2023-04-06T15:43:52.122725Z",
     "iopub.status.busy": "2023-04-06T15:43:52.121725Z",
     "iopub.status.idle": "2023-04-06T15:54:09.603796Z",
     "shell.execute_reply": "2023-04-06T15:54:09.603796Z"
    }
   },
   "outputs": [
    {
     "name": "stdout",
     "output_type": "stream",
     "text": [
      "Beginning an estimation with the specification name PYbetaDistIndLiquid...\n",
      "0.9809571428571429\n",
      "0.9828714285714286\n",
      "0.9847857142857143\n",
      "0.9867\n",
      "0.9886142857142858\n",
      "0.9905285714285714\n",
      "0.9924428571428572\n",
      "get_KY_ratio_difference tried center = 0.9867 and got 3.324835439111082\n",
      "find_lorenz_distance_at_target_KY tried spread = 0.0067 and got 14.783735216125608\n",
      "0.9809571528571429\n",
      "0.9828714385714287\n",
      "0.9847857242857143\n",
      "0.9867000100000001\n",
      "0.9886142957142858\n",
      "0.9905285814285715\n",
      "0.9924428671428572\n",
      "get_KY_ratio_difference tried center = 0.9867000100000001 and got 3.324869574704447\n",
      "find_lorenz_distance_at_target_KY tried spread = 0.0067 and got 14.783719229597159\n",
      "0.9809571342857143\n",
      "0.9828714228571429\n",
      "0.9847857114285714\n",
      "0.9867\n",
      "0.9886142885714286\n",
      "0.9905285771428571\n",
      "0.9924428657142857\n",
      "get_KY_ratio_difference tried center = 0.9867 and got 3.3248560620994123\n",
      "find_lorenz_distance_at_target_KY tried spread = 0.00670001 and got 14.78369536656191\n",
      "0.9448571428571428\n",
      "0.9465714285714285\n",
      "0.9482857142857143\n",
      "0.95\n",
      "0.9517142857142856\n",
      "0.9534285714285714\n",
      "0.9551428571428571\n",
      "get_KY_ratio_difference tried center = 0.95 and got -6.081644553236843\n",
      "find_lorenz_distance_at_target_KY tried spread = 0.006 and got 49.67506219824075\n",
      "0.9448571528571429\n",
      "0.9465714385714286\n",
      "0.9482857242857143\n",
      "0.95000001\n",
      "0.9517142957142857\n",
      "0.9534285814285715\n",
      "0.9551428671428571\n",
      "get_KY_ratio_difference tried center = 0.95000001 and got -6.081644469226426\n",
      "find_lorenz_distance_at_target_KY tried spread = 0.006 and got 49.67506270023219\n",
      "0.9448571342857143\n",
      "0.9465714228571428\n",
      "0.9482857114285714\n",
      "0.95\n",
      "0.9517142885714285\n",
      "0.9534285771428571\n",
      "0.9551428657142856\n",
      "get_KY_ratio_difference tried center = 0.95 and got -6.081644547414984\n",
      "find_lorenz_distance_at_target_KY tried spread = 0.00600001 and got 49.6750618631404\n",
      "0.9705332629823147\n",
      "0.9723897986695931\n",
      "0.9742463343568714\n",
      "0.9761028700441498\n",
      "0.9779594057314281\n",
      "0.9798159414187064\n",
      "0.9816724771059848\n",
      "get_KY_ratio_difference tried center = 0.9761028700441498 and got -5.584724413809123\n",
      "find_lorenz_distance_at_target_KY tried spread = 0.006497874905474246 and got 50.68141238125161\n",
      "0.9705332729823147\n",
      "0.9723898086695931\n",
      "0.9742463443568714\n",
      "0.9761028800441498\n",
      "0.9779594157314282\n",
      "0.9798159514187065\n",
      "0.9816724871059849\n",
      "get_KY_ratio_difference tried center = 0.9761028800441498 and got -5.584723904352341\n",
      "find_lorenz_distance_at_target_KY tried spread = 0.006497874905474246 and got 50.68141150074536\n",
      "0.9705332544108861\n",
      "0.9723897929553074\n",
      "0.9742463314997285\n",
      "0.9761028700441498\n",
      "0.977959408588571\n",
      "0.9798159471329921\n",
      "0.9816724856774134\n",
      "get_KY_ratio_difference tried center = 0.9761028700441498 and got -5.5847242729717905\n",
      "find_lorenz_distance_at_target_KY tried spread = 0.006497884905474246 and got 50.68140863601811\n",
      "0.9786077497183596\n",
      "0.9805090194041756\n",
      "0.9824102890899916\n",
      "0.9843115587758076\n",
      "0.9862128284616235\n",
      "0.9881140981474396\n",
      "0.9900153678332555\n",
      "get_KY_ratio_difference tried center = 0.9843115587758076 and got -2.419029125475122\n",
      "find_lorenz_distance_at_target_KY tried spread = 0.006654443900356002 and got 23.359445527020853\n",
      "0.9786077597183597\n",
      "0.9805090294041756\n",
      "0.9824102990899917\n",
      "0.9843115687758076\n",
      "0.9862128384616236\n",
      "0.9881141081474396\n",
      "0.9900153778332555\n",
      "get_KY_ratio_difference tried center = 0.9843115687758076 and got -2.4190138288152996\n",
      "find_lorenz_distance_at_target_KY tried spread = 0.006654443900356002 and got 23.359385692395275\n",
      "0.9786077411469309\n",
      "0.9805090136898899\n",
      "0.9824102862328487\n",
      "0.9843115587758076\n",
      "0.9862128313187665\n",
      "0.9881141038617253\n",
      "0.9900153764046842\n",
      "get_KY_ratio_difference tried center = 0.9843115587758076 and got -2.419018825317039\n",
      "find_lorenz_distance_at_target_KY tried spread = 0.006654453900356002 and got 23.359377734603065\n",
      "0.9800306257562489\n",
      "0.9819397784118039\n",
      "0.9838489310673588\n",
      "0.9857580837229138\n",
      "0.9876672363784689\n",
      "0.9895763890340238\n",
      "0.9914855416895788\n",
      "get_KY_ratio_difference tried center = 0.9857580837229138 and got 0.5078836273408935\n",
      "find_lorenz_distance_at_target_KY tried spread = 0.006682034294442499 and got 16.903353240787336\n",
      "0.9800306357562489\n",
      "0.981939788411804\n",
      "0.9838489410673589\n",
      "0.9857580937229139\n",
      "0.9876672463784689\n",
      "0.9895763990340238\n",
      "0.9914855516895789\n",
      "get_KY_ratio_difference tried center = 0.9857580937229139 and got 0.5079089117708628\n",
      "find_lorenz_distance_at_target_KY tried spread = 0.006682034294442499 and got 16.903324920281353\n",
      "0.9800306171848202\n",
      "0.9819397726975181\n",
      "0.983848928210216\n",
      "0.9857580837229138\n",
      "0.9876672392356117\n",
      "0.9895763947483096\n",
      "0.9914855502610075\n",
      "get_KY_ratio_difference tried center = 0.9857580837229138 and got 0.5078995698252902\n",
      "find_lorenz_distance_at_target_KY tried spread = 0.006682044294442499 and got 16.90330619157901\n",
      "0.9799076821047317\n",
      "0.9818437332821789\n",
      "0.983779784459626\n",
      "0.9857158356370732\n",
      "0.9876518868145204\n",
      "0.9895879379919675\n",
      "0.9915239891694148\n",
      "get_KY_ratio_difference tried center = 0.9857158356370732 and got 0.5515694061728942\n",
      "find_lorenz_distance_at_target_KY tried spread = 0.006776179121065049 and got 16.582007395048713\n",
      "0.9799076921047317\n",
      "0.9818437432821789\n",
      "0.983779794459626\n",
      "0.9857158456370733\n",
      "0.9876518968145205\n",
      "0.9895879479919676\n",
      "0.9915239991694148\n",
      "get_KY_ratio_difference tried center = 0.9857158456370733 and got 0.5515947602593023\n",
      "find_lorenz_distance_at_target_KY tried spread = 0.006776179121065049 and got 16.58197933608977\n",
      "0.9799076735333032\n",
      "0.9818437275678932\n",
      "0.9837797816024832\n",
      "0.9857158356370732\n",
      "0.9876518896716632\n",
      "0.9895879437062532\n",
      "0.9915239977408432\n",
      "get_KY_ratio_difference tried center = 0.9857158356370732 and got 0.5515854611289184\n",
      "find_lorenz_distance_at_target_KY tried spread = 0.006776189121065049 and got 16.5819609100331\n",
      "0.9794159074986634\n",
      "0.9814595527636791\n",
      "0.9835031980286949\n",
      "0.9855468432937107\n",
      "0.9875904885587264\n",
      "0.9896341338237422\n",
      "0.991677779088758\n",
      "get_KY_ratio_difference tried center = 0.9855468432937107 and got 0.7339056185315735\n",
      "find_lorenz_distance_at_target_KY tried spread = 0.0071527584275552485 and got 15.337723568338008\n",
      "0.9794159174986634\n",
      "0.9814595627636792\n",
      "0.983503208028695\n",
      "0.9855468532937107\n",
      "0.9875904985587265\n",
      "0.9896341438237423\n",
      "0.991677789088758\n",
      "get_KY_ratio_difference tried center = 0.9855468532937107 and got 0.7339312786574332\n",
      "find_lorenz_distance_at_target_KY tried spread = 0.0071527584275552485 and got 15.337696552361159\n",
      "0.9794158989272347\n",
      "0.9814595470493933\n",
      "0.983503195171552\n",
      "0.9855468432937107\n",
      "0.9875904914158693\n",
      "0.989634139538028\n",
      "0.9916777876601867\n",
      "get_KY_ratio_difference tried center = 0.9855468432937107 and got 0.7339221320781242\n",
      "find_lorenz_distance_at_target_KY tried spread = 0.0071527684275552485 and got 15.337679271027383\n",
      "0.9781921833836706\n",
      "0.980477897669385\n",
      "0.9827636119550992\n",
      "0.9850493262408135\n",
      "0.9873350405265279\n",
      "0.9896207548122421\n",
      "0.9919064690979564\n",
      "get_KY_ratio_difference tried center = 0.9850493262408135 and got 0.8823992154175517\n",
      "find_lorenz_distance_at_target_KY tried spread = 0.008 and got 13.064164805483454\n",
      "0.9781921933836707\n",
      "0.980477907669385\n",
      "0.9827636219550993\n",
      "0.9850493362408136\n",
      "0.9873350505265279\n",
      "0.9896207648122421\n",
      "0.9919064790979565\n",
      "get_KY_ratio_difference tried center = 0.9850493362408136 and got 0.8824247640213798\n",
      "find_lorenz_distance_at_target_KY tried spread = 0.008 and got 13.064138240530594\n",
      "0.9781921919550993\n",
      "0.9804779033836707\n",
      "0.9827636148122422\n",
      "0.9850493262408135\n",
      "0.9873350376693849\n",
      "0.9896207490979564\n",
      "0.9919064605265278\n",
      "get_KY_ratio_difference tried center = 0.9850493262408135 and got 0.8823821710184259\n",
      "find_lorenz_distance_at_target_KY tried spread = 0.00799999 and got 13.064205677109308\n",
      "0.9781258370728289\n",
      "0.9804115513585432\n",
      "0.9826972656442574\n",
      "0.9849829799299717\n",
      "0.9872686942156861\n",
      "0.9895544085014003\n",
      "0.9918401227871146\n",
      "get_KY_ratio_difference tried center = 0.9849829799299717 and got 0.7145775292182783\n",
      "find_lorenz_distance_at_target_KY tried spread = 0.008 and got 13.24414057096354\n",
      "0.9781258470728289\n",
      "0.9804115613585432\n",
      "0.9826972756442575\n",
      "0.9849829899299718\n",
      "0.9872687042156861\n",
      "0.9895544185014004\n",
      "0.9918401327871147\n",
      "get_KY_ratio_difference tried center = 0.9849829899299718 and got 0.714602546104234\n",
      "find_lorenz_distance_at_target_KY tried spread = 0.008 and got 13.244112939641624\n",
      "0.9781258456442575\n",
      "0.9804115570728289\n",
      "0.9826972685014004\n",
      "0.9849829799299717\n",
      "0.9872686913585431\n",
      "0.9895544027871146\n",
      "0.991840114215686\n",
      "get_KY_ratio_difference tried center = 0.9849829799299717 and got 0.7145607970046575\n",
      "find_lorenz_distance_at_target_KY tried spread = 0.00799999 and got 13.244182093532654\n",
      "0.9780740287446263\n",
      "0.9803597430303407\n",
      "0.9826454573160549\n",
      "0.9849311716017692\n",
      "0.9872168858874836\n",
      "0.9895026001731978\n",
      "0.9917883144589121\n",
      "get_KY_ratio_difference tried center = 0.9849311716017692 and got 0.5859601587468797\n",
      "find_lorenz_distance_at_target_KY tried spread = 0.008 and got 13.38965047120894\n",
      "0.9780740387446264\n",
      "0.9803597530303407\n",
      "0.982645467316055\n",
      "0.9849311816017693\n",
      "0.9872168958874836\n",
      "0.9895026101731978\n",
      "0.9917883244589122\n",
      "get_KY_ratio_difference tried center = 0.9849311816017693 and got 0.585984768569273\n",
      "find_lorenz_distance_at_target_KY tried spread = 0.008 and got 13.389621979514459\n",
      "0.978074037316055\n",
      "0.9803597487446264\n",
      "0.9826454601731979\n",
      "0.9849311716017692\n",
      "0.9872168830303406\n",
      "0.9895025944589121\n",
      "0.9917883058874835\n",
      "get_KY_ratio_difference tried center = 0.9849311716017692 and got 0.5859436662474655\n",
      "find_lorenz_distance_at_target_KY tried spread = 0.00799999 and got 13.389692523178987\n",
      "0.9780716980848007\n",
      "0.980357412370515\n",
      "0.9826431266562292\n",
      "0.9849288409419436\n",
      "0.9872145552276579\n",
      "0.9895002695133721\n",
      "0.9917859837990864\n",
      "get_KY_ratio_difference tried center = 0.9849288409419436 and got 0.5802059076332853\n",
      "find_lorenz_distance_at_target_KY tried spread = 0.008 and got 13.396360310831804\n",
      "0.9780717080848007\n",
      "0.980357422370515\n",
      "0.9826431366562293\n",
      "0.9849288509419436\n",
      "0.9872145652276579\n",
      "0.9895002795133722\n",
      "0.9917859937990865\n",
      "get_KY_ratio_difference tried center = 0.9849288509419436 and got 0.5802304992806553\n",
      "find_lorenz_distance_at_target_KY tried spread = 0.008 and got 13.396331781183488\n",
      "0.9780717066562293\n",
      "0.9803574180848007\n",
      "0.9826431295133722\n",
      "0.9849288409419436\n",
      "0.9872145523705149\n",
      "0.9895002637990864\n",
      "0.9917859752276578\n",
      "get_KY_ratio_difference tried center = 0.9849288409419436 and got 0.580189425947415\n",
      "find_lorenz_distance_at_target_KY tried spread = 0.00799999 and got 13.396402386508154\n",
      "0.9780716477315151\n",
      "0.9803573620172295\n",
      "0.9826430763029437\n",
      "0.984928790588658\n",
      "0.9872145048743723\n",
      "0.9895002191600866\n",
      "0.9917859334458009\n",
      "get_KY_ratio_difference tried center = 0.984928790588658 and got 0.5800820817477055\n",
      "find_lorenz_distance_at_target_KY tried spread = 0.008 and got 13.396503969672345\n",
      "0.9780716577315152\n",
      "0.9803573720172295\n",
      "0.9826430863029437\n",
      "0.9849288005886581\n",
      "0.9872145148743724\n",
      "0.9895002291600866\n",
      "0.991785943445801\n",
      "get_KY_ratio_difference tried center = 0.9849288005886581 and got 0.5801066730132982\n",
      "find_lorenz_distance_at_target_KY tried spread = 0.008 and got 13.396475439091345\n",
      "0.9780716563029438\n",
      "0.9803573677315152\n",
      "0.9826430791600866\n",
      "0.984928790588658\n",
      "0.9872145020172294\n",
      "0.9895002134458009\n",
      "0.9917859248743722\n",
      "get_KY_ratio_difference tried center = 0.984928790588658 and got 0.5800656002900171\n",
      "find_lorenz_distance_at_target_KY tried spread = 0.00799999 and got 13.396546045897628\n",
      "0.9780716477315151\n",
      "0.9803573620172295\n",
      "0.9826430763029437\n",
      "0.984928790588658\n",
      "0.9872145048743723\n",
      "0.9895002191600866\n",
      "0.9917859334458009\n",
      "Estimate is center=0.984928790588658, spread=0.008, took 590.7867949008942 seconds.\n",
      "Running in interactive shell (Jupyter notebook or spyder)\n"
     ]
    },
    {
     "data": {
      "image/png": "[encoded data removed]",
      "text/plain": [
       "<Figure size 640x480 with 1 Axes>"
      ]
     },
     "metadata": {},
     "output_type": "display_data"
    },
    {
     "name": "stdout",
     "output_type": "stream",
     "text": [
      "Estimate is center=0.984928790588658, spread=0.008\n",
      "Lorenz distance is 13.396503969672345\n",
      "Average MPC for all consumers is 0.253\n",
      "Average MPC in the top percentile of W/Y is 0.057\n",
      "Average MPC in the top decile of W/Y is 0.063\n",
      "Average MPC in the top quintile of W/Y is 0.067\n",
      "Average MPC in the second quintile of W/Y is 0.102\n",
      "Average MPC in the middle quintile of W/Y is 0.214\n",
      "Average MPC in the fourth quintile of W/Y is 0.323\n",
      "Average MPC in the bottom quintile of W/Y is 0.558\n",
      "Average MPC in the top percentile of y is 0.235\n",
      "Average MPC in the top decile of y is 0.227\n",
      "Average MPC in the top quintile of y is 0.231\n",
      "Average MPC in the second quintile of y is 0.261\n",
      "Average MPC in the middle quintile of y is 0.265\n",
      "Average MPC in the fourth quintile of y is 0.231\n",
      "Average MPC in the bottom quintile of y is 0.276\n",
      "Average MPC for the employed is 0.242\n",
      "Average MPC for the unemployed is 0.393\n",
      "Average MPC for the retired is nan\n",
      "Of the population with the 1/3 highest MPCs...\n",
      "50.768% are in the bottom wealth quintile,\n",
      "33.322% are in the second wealth quintile,\n",
      "12.941% are in the third wealth quintile,\n",
      "2.854% are in the fourth wealth quintile,\n",
      "and 0.115% are in the top wealth quintile.\n",
      "\n",
      "These results have been saved to ./code/results/PYbetaDistIndLiquid.txt\n",
      "\n",
      "\n"
     ]
    }
   ],
   "source": [
    "options = {\n",
    "    \"param_name\": param_name,\n",
    "    \"dist_type\": dist_type,\n",
    "    \"run_estimation\": run_estimation,\n",
    "    \"run_sensitivity\": run_sensitivity,\n",
    "    \"find_beta_vs_KY\": find_beta_vs_KY,\n",
    "    \"do_tractable\": do_tractable,\n",
    "    \"do_param_dist\": do_param_dist,\n",
    "    \"do_lifecycle\": do_lifecycle,\n",
    "    \"do_agg_shocks\": do_agg_shocks,\n",
    "    \"do_liquid\": do_liquid,\n",
    "    \"do_combo_estimation\": True,\n",
    "}\n",
    "\n",
    "\n",
    "EstimationEconomy = estimate(options, parameters)"
   ]
  },
  {
   "cell_type": "code",
   "execution_count": 12,
   "metadata": {
    "execution": {
     "iopub.execute_input": "2023-04-06T15:54:09.605795Z",
     "iopub.status.busy": "2023-04-06T15:54:09.605795Z",
     "iopub.status.idle": "2023-04-06T15:54:09.618795Z",
     "shell.execute_reply": "2023-04-06T15:54:09.618795Z"
    }
   },
   "outputs": [],
   "source": [
    "# Construct the Lorenz curves and plot them\n",
    "\n",
    "pctiles = np.linspace(0.001, 0.999, 15)\n",
    "SCF_Lorenz_points = get_lorenz_shares(\n",
    "    SCF_wealth, weights=SCF_weights, percentiles=pctiles\n",
    ")\n",
    "\n",
    "sim_wealth = np.asarray(EstimationEconomy.reap_state[\"aLvl\"]).flatten()\n",
    "sim_Lorenz_points = get_lorenz_shares(sim_wealth, percentiles=pctiles)"
   ]
  },
  {
   "cell_type": "code",
   "execution_count": 13,
   "metadata": {
    "execution": {
     "iopub.execute_input": "2023-04-06T15:54:09.620796Z",
     "iopub.status.busy": "2023-04-06T15:54:09.620796Z",
     "iopub.status.idle": "2023-04-06T15:54:09.739822Z",
     "shell.execute_reply": "2023-04-06T15:54:09.739822Z"
    }
   },
   "outputs": [
    {
     "data": {
      "image/png": "[encoded data removed]",
      "text/plain": [
       "<Figure size 500x500 with 1 Axes>"
      ]
     },
     "metadata": {},
     "output_type": "display_data"
    }
   ],
   "source": [
    "# Plot\n",
    "plt.figure(figsize=(5, 5))\n",
    "plt.title(\"Wealth Distribution\")\n",
    "plt.plot(pctiles, SCF_Lorenz_points, \"--k\", label=\"SCF\")\n",
    "plt.plot(pctiles, sim_Lorenz_points, \"-b\", label=\"Beta-Dist\")\n",
    "plt.plot(pctiles, pctiles, \"g-.\", label=\"45 Degree\")\n",
    "plt.xlabel(\"Percentile of net worth\")\n",
    "plt.ylabel(\"Cumulative share of wealth\")\n",
    "plt.legend(loc=2)\n",
    "plt.ylim([0, 1])\n",
    "plt.show(\"wealth_distribution_2\")"
   ]
  },
  {
   "cell_type": "code",
   "execution_count": 9,
   "metadata": {},
   "outputs": [
    {
     "data": {
      "text/plain": [
       "(7, 2000)"
      ]
     },
     "execution_count": 9,
     "metadata": {},
     "output_type": "execute_result"
    }
   ],
   "source": [
    "np.asarray(EstimationEconomy.reap_state[\"aLvl\"]).shape"
   ]
  },
  {
   "cell_type": "code",
   "execution_count": null,
   "metadata": {},
   "outputs": [],
   "source": []
  }
 ],
 "metadata": {
  "jupytext": {
   "formats": "ipynb,py:percent"
  },
  "kernelspec": {
   "display_name": "Python 3 (ipykernel)",
   "language": "python",
   "name": "python3"
  },
  "language_info": {
   "codemirror_mode": {
    "name": "ipython",
    "version": 3
   },
   "file_extension": ".py",
   "mimetype": "text/x-python",
   "name": "python",
   "nbconvert_exporter": "python",
   "pygments_lexer": "ipython3",
   "version": "3.10.11"
  },
  "latex_envs": {
   "LaTeX_envs_menu_present": true,
   "autoclose": false,
   "autocomplete": false,
   "bibliofile": "biblio.bib",
   "cite_by": "apalike",
   "current_citInitial": 1,
   "eqLabelWithNumbers": true,
   "eqNumInitial": 1,
   "hotkeys": {
    "equation": "Ctrl-E",
    "itemize": "Ctrl-I"
   },
   "labels_anchors": false,
   "latex_user_defs": false,
   "report_style_numbering": false,
   "user_envs_cfg": false
  },
  "toc": {
   "base_numbering": 1,
   "nav_menu": {},
   "number_sections": true,
   "sideBar": true,
   "skip_h1_title": false,
   "title_cell": "Table of Contents",
   "title_sidebar": "Contents",
   "toc_cell": false,
   "toc_position": {
    "height": "calc(100% - 180px)",
    "left": "10px",
    "top": "150px",
    "width": "164.994px"
   },
   "toc_section_display": true,
   "toc_window_display": true
  },
  "vscode": {
   "interpreter": {
    "hash": "79df5fddd1bf7837182dc0288ea2fd71cfa8aa9192614ea42e8f71958b4b5b41"
   }
  }
 },
 "nbformat": 4,
 "nbformat_minor": 4
}
