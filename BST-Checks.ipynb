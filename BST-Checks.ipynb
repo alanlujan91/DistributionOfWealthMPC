{
 "cells": [
  {
   "cell_type": "code",
   "execution_count": 17,
   "metadata": {},
   "outputs": [],
   "source": [
    "# This cell does some standard python setup!\n",
    "\n",
    "import code.calibration as parameters\n",
    "import warnings  # The warnings package allows us to ignore some harmless but alarming warning messages\n",
    "from code.calibration import SCF_wealth, SCF_weights\n",
    "from code.estimation import (\n",
    "    get_param_count,\n",
    "    get_spec_name,\n",
    "    get_target_ky_and_find_lorenz_distance,\n",
    "    set_up_economy,\n",
    "    estimate\n",
    ")\n",
    "\n",
    "from HARK.distribution import (\n",
    "    expected\n",
    ")\n",
    "\n",
    "from code.estimation_dist_bounds import estimate_r_upper_given_r_lower\n",
    "\n",
    "# Import related generic python packages\n",
    "import matplotlib.pyplot as plt  # Plotting tools\n",
    "import numpy as np\n",
    "from HARK.utilities import get_lorenz_shares\n",
    "\n",
    "warnings.filterwarnings(\"ignore\")\n",
    "\n",
    "\n",
    "def mystr(number):\n",
    "    return f\"{number:.4f}\""
   ]
  },
  {
   "cell_type": "code",
   "execution_count": 18,
   "metadata": {},
   "outputs": [],
   "source": [
    "# For speed here, use the \"tractable\" version of the model\n",
    "# This is not the \"right\" model, but illustrates the key point\n",
    "\"\"\"\n",
    "This options file specifies parameter heterogeneity, making the choice in the paper:\n",
    "uniformly distributed discount factors.\n",
    "\"\"\"\n",
    "param_name = \"Rfree\"  # Which parameter to introduce heterogeneity in\n",
    "dist_type = \"uniform\"  # Which type of distribution to use\n",
    "\n",
    "\"\"\"\n",
    "This options file specifies the \"standard\" work options for cstwMPC, estimating the model only.\n",
    "\"\"\"\n",
    "run_estimation = True  # Runs the estimation if True\n",
    "# Choose which sensitivity analyses to run: rho, xi_sigma, psi_sigma, mu, urate, mortality, g, R\n",
    "run_sensitivity = [False, False, False, False, False, False, False, False]\n",
    "# Computes K/Y ratio for a wide range of beta; should have do_beta_dist = False\n",
    "find_beta_vs_KY = False\n",
    "# Uses a \"tractable consumer\" rather than solving full model when True\n",
    "do_tractable = True\n",
    "\n",
    "# Solve for the $\\beta-Point$ (do_param_dist=False) for speed\n",
    "\"\"\"\n",
    "This options file establishes the second simplest model specification possible:\n",
    "with heterogeneity, no aggregate shocks, perpetual youth model, matching net worth.\n",
    "\"\"\"\n",
    "\n",
    "do_param_dist = False  # Do param-dist version if True, param-point if False\n",
    "do_lifecycle = False  # Use lifecycle model if True, perpetual youth if False\n",
    "do_agg_shocks = False  # Solve the FBS aggregate shocks version of the model\n",
    "# Matches liquid assets data when True, net worth data when False\n",
    "do_liquid = False"
   ]
  },
  {
   "cell_type": "code",
   "execution_count": 19,
   "metadata": {},
   "outputs": [],
   "source": [
    "options = {\n",
    "    \"param_name\": param_name,\n",
    "    \"dist_type\": dist_type,\n",
    "    \"run_estimation\": run_estimation,\n",
    "    \"run_sensitivity\": run_sensitivity,\n",
    "    \"find_beta_vs_KY\": find_beta_vs_KY,\n",
    "    \"do_tractable\": do_tractable,\n",
    "    \"do_param_dist\": do_param_dist,\n",
    "    \"do_lifecycle\": do_lifecycle,\n",
    "    \"do_agg_shocks\": do_agg_shocks,\n",
    "    \"do_liquid\": do_liquid,\n",
    "}"
   ]
  },
  {
   "cell_type": "markdown",
   "metadata": {},
   "source": [
    "### 1. Ensuring that the GIC is defined using the right attributes"
   ]
  },
  {
   "cell_type": "code",
   "execution_count": 20,
   "metadata": {},
   "outputs": [
    {
     "name": "stdout",
     "output_type": "stream",
     "text": [
      "Rfree: 1.0163522012578616\n",
      "DiscFac: 0.97\n",
      "CRRA: 1.0\n",
      "PermGroFac: 1.0\n",
      "Ex_PermShkInv: 1.0032663974964733\n",
      "R_cusp: 1.0275713784734533\n",
      "Beta_cusp: 0.9807075105319348\n",
      "R_cusp_raw: 1.0309278350515465\n"
     ]
    }
   ],
   "source": [
    "# Here are some checks to make sure R_cusp will be defined properly\n",
    "spec_name = get_spec_name(options)\n",
    "param_count = get_param_count(options)\n",
    "economy = set_up_economy(options, parameters, param_count)\n",
    "\n",
    "print(f\"Rfree: {economy.agents[0].Rfree}\")\n",
    "print(f\"DiscFac: {economy.agents[0].DiscFac}\")\n",
    "print(f\"CRRA: {economy.agents[0].CRRA}\")\n",
    "print(f\"PermGroFac: {economy.agents[0].PermGroFac[0]}\")\n",
    "\n",
    "# Defined previously in ConsIndShockModel, but needs to be hard-coded here for now\n",
    "economy.agents[0].Ex_PermShkInv = expected(lambda x: 1 / x, economy.agents[0].PermShkDstn[0])[0]\n",
    "\n",
    "print(f\"Ex_PermShkInv: {economy.agents[0].Ex_PermShkInv}\")\n",
    "#print(economy.agents[0].LivPrb[0]) # this one is needed for the life-cycle version of the model\n",
    "\n",
    "R_cusp = ((economy.agents[0].PermGroFac[0] / economy.agents[0].Ex_PermShkInv) ** economy.agents[0].CRRA ) * (1/economy.agents[0].DiscFac)\n",
    "print(f\"R_cusp: {R_cusp}\")\n",
    "\n",
    "# This is to check if B-dist violates GIC raw when trying to match the capital to output ratio\n",
    "Beta_cusp = ((economy.agents[0].PermGroFac[0] / economy.agents[0].Ex_PermShkInv) ** economy.agents[0].CRRA ) * (1/economy.agents[0].Rfree)\n",
    "print(f\"Beta_cusp: {Beta_cusp}\")\n",
    "\n",
    "R_cusp_raw = ((economy.agents[0].PermGroFac[0]) ** economy.agents[0].CRRA ) * (1/economy.agents[0].DiscFac)\n",
    "print(f\"R_cusp_raw: {R_cusp_raw}\")"
   ]
  },
  {
   "cell_type": "code",
   "execution_count": 21,
   "metadata": {},
   "outputs": [
    {
     "data": {
      "text/plain": [
       "{'parameters': {'cycles': 0,\n",
       "  'CRRA': 1.0,\n",
       "  'Rfree': 1.0163522012578616,\n",
       "  'DiscFac': 0.97,\n",
       "  'LivPrb': [0.99375],\n",
       "  'PermGroFac': [1.0],\n",
       "  'BoroCnstArt': 0.0,\n",
       "  'MaxKinks': 400,\n",
       "  'AgentCount': 0,\n",
       "  'aNrmInitMean': -11.512925464970229,\n",
       "  'aNrmInitStd': 0.0,\n",
       "  'pLvlInitMean': 0.0,\n",
       "  'pLvlInitStd': 0.0,\n",
       "  'PermGroFacAgg': 1.0,\n",
       "  'T_age': 400,\n",
       "  'T_cycle': 1,\n",
       "  'PerfMITShk': False,\n",
       "  'aXtraMin': 1e-05,\n",
       "  'aXtraMax': 20,\n",
       "  'aXtraNestFac': 3,\n",
       "  'aXtraCount': 20,\n",
       "  'aXtraExtra': [None],\n",
       "  'PermShkStd': [0.06030226891555272],\n",
       "  'PermShkCount': 5,\n",
       "  'TranShkStd': [0.2],\n",
       "  'TranShkCount': 5,\n",
       "  'UnempPrb': 0.07,\n",
       "  'UnempPrbRet': None,\n",
       "  'IncUnemp': 0.15,\n",
       "  'IncUnempRet': None,\n",
       "  'tax_rate': 0.0,\n",
       "  'T_retire': 0,\n",
       "  'vFuncBool': False,\n",
       "  'CubicBool': False,\n",
       "  'neutral_measure': False,\n",
       "  'NewbornTransShk': False,\n",
       "  'T_sim': 1200,\n",
       "  'IndL': 1.1111111111111112},\n",
       " 'solution_terminal': <HARK.ConsumptionSaving.ConsIndShockModel.ConsumerSolution at 0x1627a9af0>,\n",
       " 'pseudo_terminal': False,\n",
       " 'solve_one_period': <function HARK.core.make_one_period_oo_solver.<locals>.one_period_solver(**kwds)>,\n",
       " 'tolerance': 1e-06,\n",
       " 'seed': 0,\n",
       " 'track_vars': [],\n",
       " 'state_now': {'pLvl': None,\n",
       "  'PlvlAgg': None,\n",
       "  'bNrm': None,\n",
       "  'mNrm': None,\n",
       "  'aNrm': None,\n",
       "  'aLvl': None},\n",
       " 'state_prev': {'pLvl': None,\n",
       "  'PlvlAgg': None,\n",
       "  'bNrm': None,\n",
       "  'mNrm': None,\n",
       "  'aNrm': None,\n",
       "  'aLvl': None},\n",
       " 'controls': {},\n",
       " 'shocks': {},\n",
       " 'read_shocks': False,\n",
       " 'shock_history': {},\n",
       " 'newborn_init_history': {},\n",
       " 'history': {},\n",
       " 'cycles': 0,\n",
       " 'CRRA': 1.0,\n",
       " 'Rfree': 1.0163522012578616,\n",
       " 'DiscFac': 0.97,\n",
       " 'LivPrb': [0.99375],\n",
       " 'PermGroFac': [1.0],\n",
       " 'BoroCnstArt': 0.0,\n",
       " 'MaxKinks': 400,\n",
       " 'AgentCount': 0,\n",
       " 'aNrmInitMean': -11.512925464970229,\n",
       " 'aNrmInitStd': 0.0,\n",
       " 'pLvlInitMean': 0.0,\n",
       " 'pLvlInitStd': 0.0,\n",
       " 'PermGroFacAgg': 1.0,\n",
       " 'T_age': 400,\n",
       " 'T_cycle': 1,\n",
       " 'PerfMITShk': False,\n",
       " 'aXtraMin': 1e-05,\n",
       " 'aXtraMax': 20,\n",
       " 'aXtraNestFac': 3,\n",
       " 'aXtraCount': 20,\n",
       " 'aXtraExtra': [None],\n",
       " 'PermShkStd': [0.06030226891555272],\n",
       " 'PermShkCount': 5,\n",
       " 'TranShkStd': [0.2],\n",
       " 'TranShkCount': 5,\n",
       " 'UnempPrb': 0.07,\n",
       " 'UnempPrbRet': None,\n",
       " 'IncUnemp': 0.15,\n",
       " 'IncUnempRet': None,\n",
       " 'tax_rate': 0.0,\n",
       " 'T_retire': 0,\n",
       " 'vFuncBool': False,\n",
       " 'CubicBool': False,\n",
       " 'neutral_measure': False,\n",
       " 'NewbornTransShk': False,\n",
       " 'T_sim': 1200,\n",
       " 'IndL': 1.1111111111111112,\n",
       " 'RNG': Generator(PCG64) at 0x1627AFBA0,\n",
       " 'time_vary': ['LivPrb',\n",
       "  'PermGroFac',\n",
       "  'IncShkDstn',\n",
       "  'PermShkDstn',\n",
       "  'TranShkDstn'],\n",
       " 'time_inv': ['CRRA',\n",
       "  'DiscFac',\n",
       "  'BoroCnstArt',\n",
       "  'BoroCnstArt',\n",
       "  'vFuncBool',\n",
       "  'CubicBool',\n",
       "  'Rfree',\n",
       "  'aXtraGrid'],\n",
       " 'shock_vars': ['PermShk', 'TranShk'],\n",
       " 'verbose': 1,\n",
       " 'quiet': False,\n",
       " 'IncShkDstn': <HARK.distribution.IndexDistribution at 0x162765dc0>,\n",
       " 'PermShkDstn': <HARK.distribution.IndexDistribution at 0x162765be0>,\n",
       " 'TranShkDstn': <HARK.distribution.IndexDistribution at 0x1621c89d0>,\n",
       " 'aXtraGrid': array([1.00000000e-05, 4.94138304e-02, 1.06518379e-01, 1.73010401e-01,\n",
       "        2.51062840e-01, 3.43510862e-01, 4.54105542e-01, 5.87886068e-01,\n",
       "        7.51736609e-01, 9.55237485e-01, 1.21199705e+00, 1.54179029e+00,\n",
       "        1.97409233e+00, 2.55410445e+00, 3.35340023e+00, 4.48949272e+00,\n",
       "        6.16343349e+00, 8.73579048e+00, 1.28892290e+01, 2.00000000e+01]),\n",
       " 'AgeDstn': array(1.),\n",
       " 'Ex_PermShkInv': 1.0032663974964733}"
      ]
     },
     "execution_count": 21,
     "metadata": {},
     "output_type": "execute_result"
    }
   ],
   "source": [
    "# Here we inspect the economy.agent[0] object\n",
    "\n",
    "economy.agents[0].__dict__"
   ]
  },
  {
   "cell_type": "markdown",
   "metadata": {},
   "source": [
    "### 2. Running the specified R-point model and noting that the GIC is violated so that there is no mNrmTrg"
   ]
  },
  {
   "cell_type": "code",
   "execution_count": 22,
   "metadata": {},
   "outputs": [
    {
     "name": "stderr",
     "output_type": "stream",
     "text": [
      "GPFRaw                 = 0.976162 \n",
      "GPFNrm                 = 0.979350 \n",
      "GPFAggLivPrb           = 0.970061 \n",
      "Thorn = APF            = 0.976162 \n",
      "PermGroFacAdj          = 0.996744 \n",
      "uInvEpShkuInv          = 1.000000 \n",
      "VAF                    = 0.963938 \n",
      "WRPF                   = 0.067476 \n",
      "DiscFacGPFNrmMax       = 0.990453 \n",
      "DiscFacGPFAggLivPrbMax = 0.999938 \n"
     ]
    },
    {
     "name": "stdout",
     "output_type": "stream",
     "text": [
      "Beginning an estimation with the specification name PYUnifrratePointIndNetWorth...\n",
      "1.0063522012578616\n"
     ]
    },
    {
     "name": "stderr",
     "output_type": "stream",
     "text": [
      "GPFRaw                 = 1.082862 \n",
      "GPFNrm                 = 1.086399 \n",
      "GPFAggLivPrb           = 1.076094 \n",
      "Thorn = APF            = 1.082862 \n",
      "PermGroFacAdj          = 0.996744 \n",
      "uInvEpShkuInv          = 1.000000 \n",
      "VAF                    = 0.963938 \n",
      "WRPF                   = 0.067476 \n",
      "DiscFacGPFNrmMax       = 0.892858 \n",
      "DiscFacGPFAggLivPrbMax = 0.901408 \n"
     ]
    },
    {
     "name": "stdout",
     "output_type": "stream",
     "text": [
      "get_KY_ratio_difference tried center = 1.0063522012578616 and got -9.6345541430904\n",
      "1.1163522012578617\n"
     ]
    },
    {
     "name": "stderr",
     "output_type": "stream",
     "text": [
      "GPFRaw                 = 0.976162 \n",
      "GPFNrm                 = 0.979350 \n",
      "GPFAggLivPrb           = 0.970061 \n",
      "Thorn = APF            = 0.976162 \n",
      "PermGroFacAdj          = 0.996744 \n",
      "uInvEpShkuInv          = 1.000000 \n",
      "VAF                    = 0.963938 \n",
      "WRPF                   = 0.067476 \n",
      "DiscFacGPFNrmMax       = 0.990453 \n",
      "DiscFacGPFAggLivPrbMax = 0.999938 \n"
     ]
    },
    {
     "name": "stdout",
     "output_type": "stream",
     "text": [
      "get_KY_ratio_difference tried center = 1.1163522012578617 and got 395459849006.90906\n",
      "1.0063522012605415\n"
     ]
    },
    {
     "name": "stderr",
     "output_type": "stream",
     "text": [
      "GPFRaw                 = 1.002837 \n",
      "GPFNrm                 = 1.006112 \n",
      "GPFAggLivPrb           = 0.996569 \n",
      "Thorn = APF            = 1.002837 \n",
      "PermGroFacAdj          = 0.996744 \n",
      "uInvEpShkuInv          = 1.000000 \n",
      "VAF                    = 0.963938 \n",
      "WRPF                   = 0.067476 \n",
      "DiscFacGPFNrmMax       = 0.964107 \n",
      "DiscFacGPFAggLivPrbMax = 0.973340 \n"
     ]
    },
    {
     "name": "stdout",
     "output_type": "stream",
     "text": [
      "get_KY_ratio_difference tried center = 1.0063522012605415 and got -9.634554143057901\n",
      "1.0338522964283747\n"
     ]
    },
    {
     "name": "stderr",
     "output_type": "stream",
     "text": [
      "GPFRaw                 = 1.002837 \n",
      "GPFNrm                 = 1.006112 \n",
      "GPFAggLivPrb           = 0.996569 \n",
      "Thorn = APF            = 1.002837 \n",
      "PermGroFacAdj          = 0.996744 \n",
      "uInvEpShkuInv          = 1.000000 \n",
      "VAF                    = 0.963938 \n",
      "WRPF                   = 0.067476 \n",
      "DiscFacGPFNrmMax       = 0.964107 \n",
      "DiscFacGPFAggLivPrbMax = 0.973340 \n"
     ]
    },
    {
     "name": "stdout",
     "output_type": "stream",
     "text": [
      "get_KY_ratio_difference tried center = 1.0338522964283747 and got -7.409844495501105\n",
      "1.0338522964314665\n"
     ]
    },
    {
     "name": "stderr",
     "output_type": "stream",
     "text": [
      "GPFRaw                 = 1.042849 \n",
      "GPFNrm                 = 1.046256 \n",
      "GPFAggLivPrb           = 1.036331 \n",
      "Thorn = APF            = 1.042849 \n",
      "PermGroFacAdj          = 0.996744 \n",
      "uInvEpShkuInv          = 1.000000 \n",
      "VAF                    = 0.963938 \n",
      "WRPF                   = 0.067476 \n",
      "DiscFacGPFNrmMax       = 0.927116 \n",
      "DiscFacGPFAggLivPrbMax = 0.935994 \n"
     ]
    },
    {
     "name": "stdout",
     "output_type": "stream",
     "text": [
      "get_KY_ratio_difference tried center = 1.0338522964314665 and got -7.409844493169697\n",
      "1.0751022488446642\n"
     ]
    },
    {
     "name": "stderr",
     "output_type": "stream",
     "text": [
      "GPFRaw                 = 1.012368 \n",
      "GPFNrm                 = 1.015675 \n",
      "GPFAggLivPrb           = 1.006041 \n",
      "Thorn = APF            = 1.012368 \n",
      "PermGroFacAdj          = 0.996744 \n",
      "uInvEpShkuInv          = 1.000000 \n",
      "VAF                    = 0.963938 \n",
      "WRPF                   = 0.067476 \n",
      "DiscFacGPFNrmMax       = 0.955030 \n",
      "DiscFacGPFAggLivPrbMax = 0.964176 \n"
     ]
    },
    {
     "name": "stdout",
     "output_type": "stream",
     "text": [
      "get_KY_ratio_difference tried center = 1.0751022488446642 and got 400052.8790925666\n",
      "1.0436785041428347\n"
     ]
    },
    {
     "name": "stderr",
     "output_type": "stream",
     "text": [
      "GPFRaw                 = 1.006193 \n",
      "GPFNrm                 = 1.009479 \n",
      "GPFAggLivPrb           = 0.999904 \n",
      "Thorn = APF            = 1.006193 \n",
      "PermGroFacAdj          = 0.996744 \n",
      "uInvEpShkuInv          = 1.000000 \n",
      "VAF                    = 0.963938 \n",
      "WRPF                   = 0.067476 \n",
      "DiscFacGPFNrmMax       = 0.960892 \n",
      "DiscFacGPFAggLivPrbMax = 0.970093 \n"
     ]
    },
    {
     "name": "stdout",
     "output_type": "stream",
     "text": [
      "get_KY_ratio_difference tried center = 1.0436785041428347 and got 34.681553881907305\n",
      "1.0373119425306532\n"
     ]
    },
    {
     "name": "stderr",
     "output_type": "stream",
     "text": [
      "GPFRaw                 = 1.006997 \n",
      "GPFNrm                 = 1.010286 \n",
      "GPFAggLivPrb           = 1.000703 \n",
      "Thorn = APF            = 1.006997 \n",
      "PermGroFacAdj          = 0.996744 \n",
      "uInvEpShkuInv          = 1.000000 \n",
      "VAF                    = 0.963938 \n",
      "WRPF                   = 0.067476 \n",
      "DiscFacGPFNrmMax       = 0.960124 \n",
      "DiscFacGPFAggLivPrbMax = 0.969319 \n"
     ]
    },
    {
     "name": "stdout",
     "output_type": "stream",
     "text": [
      "get_KY_ratio_difference tried center = 1.0373119425306532 and got -1.591402273515488\n",
      "1.0381407730652257\n"
     ]
    },
    {
     "name": "stderr",
     "output_type": "stream",
     "text": [
      "GPFRaw                 = 1.006595 \n",
      "GPFNrm                 = 1.009883 \n",
      "GPFAggLivPrb           = 1.000303 \n",
      "Thorn = APF            = 1.006595 \n",
      "PermGroFacAdj          = 0.996744 \n",
      "uInvEpShkuInv          = 1.000000 \n",
      "VAF                    = 0.963938 \n",
      "WRPF                   = 0.067476 \n",
      "DiscFacGPFNrmMax       = 0.960508 \n",
      "DiscFacGPFAggLivPrbMax = 0.969706 \n"
     ]
    },
    {
     "name": "stdout",
     "output_type": "stream",
     "text": [
      "get_KY_ratio_difference tried center = 1.0381407730652257 and got 0.8648052602027949\n",
      "1.0377263577979394\n"
     ]
    },
    {
     "name": "stderr",
     "output_type": "stream",
     "text": [
      "GPFRaw                 = 1.006730 \n",
      "GPFNrm                 = 1.010018 \n",
      "GPFAggLivPrb           = 1.000437 \n",
      "Thorn = APF            = 1.006730 \n",
      "PermGroFacAdj          = 0.996744 \n",
      "uInvEpShkuInv          = 1.000000 \n",
      "VAF                    = 0.963938 \n",
      "WRPF                   = 0.067476 \n",
      "DiscFacGPFNrmMax       = 0.960379 \n",
      "DiscFacGPFAggLivPrbMax = 0.969576 \n"
     ]
    },
    {
     "name": "stdout",
     "output_type": "stream",
     "text": [
      "get_KY_ratio_difference tried center = 1.0377263577979394 and got -0.41731496892270314\n",
      "1.037865495265322\n"
     ]
    },
    {
     "name": "stderr",
     "output_type": "stream",
     "text": [
      "GPFRaw                 = 1.006729 \n",
      "GPFNrm                 = 1.010017 \n",
      "GPFAggLivPrb           = 1.000437 \n",
      "Thorn = APF            = 1.006729 \n",
      "PermGroFacAdj          = 0.996744 \n",
      "uInvEpShkuInv          = 1.000000 \n",
      "VAF                    = 0.963938 \n",
      "WRPF                   = 0.067476 \n",
      "DiscFacGPFNrmMax       = 0.960380 \n",
      "DiscFacGPFAggLivPrbMax = 0.969576 \n"
     ]
    },
    {
     "name": "stdout",
     "output_type": "stream",
     "text": [
      "get_KY_ratio_difference tried center = 1.037865495265322 and got 0.0008749449132050557\n",
      "1.0378649130531963\n"
     ]
    },
    {
     "name": "stderr",
     "output_type": "stream",
     "text": [
      "GPFRaw                 = 1.006729 \n",
      "GPFNrm                 = 1.010018 \n",
      "GPFAggLivPrb           = 1.000437 \n",
      "Thorn = APF            = 1.006729 \n",
      "PermGroFacAdj          = 0.996744 \n",
      "uInvEpShkuInv          = 1.000000 \n",
      "VAF                    = 0.963938 \n",
      "WRPF                   = 0.067476 \n",
      "DiscFacGPFNrmMax       = 0.960379 \n",
      "DiscFacGPFAggLivPrbMax = 0.969576 \n"
     ]
    },
    {
     "name": "stdout",
     "output_type": "stream",
     "text": [
      "get_KY_ratio_difference tried center = 1.0378649130531963 and got -0.000962285411659991\n",
      "1.037865204159259\n",
      "Estimate is center=1.037865204159259, spread=0.0, took 56.410751819610596 seconds.\n",
      "Running in interactive shell (Jupyter notebook or spyder)\n"
     ]
    },
    {
     "data": {
      "image/png": "[encoded data removed]",
      "text/plain": [
       "<Figure size 640x480 with 1 Axes>"
      ]
     },
     "metadata": {},
     "output_type": "display_data"
    },
    {
     "name": "stdout",
     "output_type": "stream",
     "text": [
      "Estimate is center=1.037865204159259, spread=0.0\n",
      "Lorenz distance is 39.8217250255979\n",
      "Average MPC for all consumers is 0.168\n",
      "Average MPC in the top percentile of W/Y is 0.137\n",
      "Average MPC in the top decile of W/Y is 0.139\n",
      "Average MPC in the top quintile of W/Y is 0.139\n",
      "Average MPC in the second quintile of W/Y is 0.141\n",
      "Average MPC in the middle quintile of W/Y is 0.142\n",
      "Average MPC in the fourth quintile of W/Y is 0.145\n",
      "Average MPC in the bottom quintile of W/Y is 0.272\n",
      "Average MPC in the top percentile of y is 0.143\n",
      "Average MPC in the top decile of y is 0.146\n",
      "Average MPC in the top quintile of y is 0.153\n",
      "Average MPC in the second quintile of y is 0.186\n",
      "Average MPC in the middle quintile of y is 0.188\n",
      "Average MPC in the fourth quintile of y is 0.151\n",
      "Average MPC in the bottom quintile of y is 0.161\n",
      "Average MPC for the employed is 0.165\n",
      "Average MPC for the unemployed is 0.200\n",
      "Average MPC for the retired is nan\n",
      "Of the population with the 1/3 highest MPCs...\n",
      "69.689% are in the bottom wealth quintile,\n",
      "25.407% are in the second wealth quintile,\n",
      "3.887% are in the third wealth quintile,\n",
      "0.815% are in the fourth wealth quintile,\n",
      "and 0.203% are in the top wealth quintile.\n",
      "\n",
      "These results have been saved to ./code/results/PYUnifrratePointIndNetWorth.txt\n",
      "\n",
      "\n"
     ]
    }
   ],
   "source": [
    "EstimationEconomy = estimate(options, parameters)"
   ]
  },
  {
   "cell_type": "code",
   "execution_count": 23,
   "metadata": {},
   "outputs": [
    {
     "name": "stderr",
     "output_type": "stream",
     "text": [
      "GPFRaw                 = 1.006729 \n",
      "GPFNrm                 = 1.010018 \n",
      "GPFAggLivPrb           = 1.000437 \n",
      "Thorn = APF            = 1.006729 \n",
      "PermGroFacAdj          = 0.996744 \n",
      "uInvEpShkuInv          = 1.000000 \n",
      "VAF                    = 0.963938 \n",
      "WRPF                   = 0.067476 \n",
      "DiscFacGPFNrmMax       = 0.960379 \n",
      "DiscFacGPFAggLivPrbMax = 0.969576 \n"
     ]
    },
    {
     "data": {
      "text/plain": [
       "{'mNrm': array([[1.00001007, 1.00001007, 1.00001074, ..., 1.00000955, 1.00000955,\n",
       "         1.0000104 ],\n",
       "        [1.37895455, 1.41910914, 1.17583348, ..., 1.18357525, 1.3789542 ,\n",
       "         1.27348809],\n",
       "        [1.5252344 , 1.53219887, 1.7259651 , ..., 1.3265792 , 1.90881786,\n",
       "         1.62396947],\n",
       "        ...,\n",
       "        [4.62324957, 3.23010104, 8.50662694, ..., 4.51027873, 7.63866817,\n",
       "         2.71484958],\n",
       "        [4.4567162 , 3.19063679, 8.36733447, ..., 4.35300486, 7.77382632,\n",
       "         2.85816793],\n",
       "        [4.82520367, 3.6478396 , 8.90517092, ..., 4.4886614 , 7.35099278,\n",
       "         3.3425459 ]])}"
      ]
     },
     "execution_count": 23,
     "metadata": {},
     "output_type": "execute_result"
    }
   ],
   "source": [
    "# See what the market resources look like for the original specification where GIC is clearly violated\n",
    "\n",
    "EstimationEconomy.agents[0].solve()\n",
    "EstimationEconomy.agents[0].track_vars = [\"mNrm\"]\n",
    "EstimationEconomy.agents[0].initialize_sim()\n",
    "EstimationEconomy.agents[0].simulate()\n"
   ]
  },
  {
   "cell_type": "code",
   "execution_count": 24,
   "metadata": {},
   "outputs": [
    {
     "data": {
      "text/plain": [
       "{'cFunc': <HARK.interpolation.LowerEnvelope at 0x16272a7c0>,\n",
       " 'vFunc': <HARK.utilities.NullFunc at 0x168565d60>,\n",
       " 'vPfunc': <HARK.interpolation.MargValueFuncCRRA at 0x168388490>,\n",
       " 'vPPfunc': <HARK.utilities.NullFunc at 0x1685658e0>,\n",
       " 'mNrmMin': 0.0,\n",
       " 'hNrm': 26.40880759112833,\n",
       " 'MPCmin': 0.03606348865838198,\n",
       " 'MPCmax': 1.0,\n",
       " 'mNrmTrg': None}"
      ]
     },
     "execution_count": 24,
     "metadata": {},
     "output_type": "execute_result"
    }
   ],
   "source": [
    "EstimationEconomy.agents[0].solution[0].__dict__"
   ]
  },
  {
   "cell_type": "markdown",
   "metadata": {},
   "source": [
    "### 3. Potential explanations for discrepancy between theory and code\n",
    "\n",
    "1. Tolerance specified for the solution/simulation\n",
    "2. Ad-hoc implementation that kills off agents after some number of periods\n",
    "\n"
   ]
  },
  {
   "cell_type": "markdown",
   "metadata": {},
   "source": [
    "### 3.1 - Killing off agents"
   ]
  },
  {
   "cell_type": "code",
   "execution_count": 25,
   "metadata": {},
   "outputs": [
    {
     "name": "stdout",
     "output_type": "stream",
     "text": [
      "T_age: 400\n"
     ]
    }
   ],
   "source": [
    "print(f\"T_age: {EstimationEconomy.agents[0].T_age}\")"
   ]
  },
  {
   "cell_type": "code",
   "execution_count": 26,
   "metadata": {},
   "outputs": [
    {
     "name": "stdout",
     "output_type": "stream",
     "text": [
      "T_age: None\n"
     ]
    }
   ],
   "source": [
    "EstimationEconomy.agents[0].T_age = None\n",
    "print(f\"T_age: {EstimationEconomy.agents[0].T_age}\")"
   ]
  },
  {
   "cell_type": "code",
   "execution_count": 27,
   "metadata": {},
   "outputs": [
    {
     "name": "stderr",
     "output_type": "stream",
     "text": [
      "GPFRaw                 = 1.006729 \n",
      "GPFNrm                 = 1.010018 \n",
      "GPFAggLivPrb           = 1.000437 \n",
      "Thorn = APF            = 1.006729 \n",
      "PermGroFacAdj          = 0.996744 \n",
      "uInvEpShkuInv          = 1.000000 \n",
      "VAF                    = 0.963938 \n",
      "WRPF                   = 0.067476 \n",
      "DiscFacGPFNrmMax       = 0.960379 \n",
      "DiscFacGPFAggLivPrbMax = 0.969576 \n"
     ]
    },
    {
     "data": {
      "text/plain": [
       "{'mNrm': array([[1.00001007, 1.00001007, 1.00001074, ..., 1.00000955, 1.00000955,\n",
       "         1.0000104 ],\n",
       "        [1.37895455, 1.41910914, 1.17583348, ..., 1.18357525, 1.3789542 ,\n",
       "         1.27348809],\n",
       "        [1.5252344 , 1.53219887, 1.7259651 , ..., 1.3265792 , 1.90881786,\n",
       "         1.62396947],\n",
       "        ...,\n",
       "        [2.51295541, 5.663092  , 5.31668438, ..., 3.32527825, 7.9398917 ,\n",
       "         4.4941703 ],\n",
       "        [2.42269014, 5.54616864, 5.79442149, ..., 3.54265938, 8.41798377,\n",
       "         4.63374745],\n",
       "        [2.96276755, 5.94940568, 5.03593917, ..., 3.91146021, 8.69303118,\n",
       "         4.65153855]])}"
      ]
     },
     "execution_count": 27,
     "metadata": {},
     "output_type": "execute_result"
    }
   ],
   "source": [
    "EstimationEconomy.agents[0].solve()\n",
    "EstimationEconomy.agents[0].track_vars = [\"mNrm\"]\n",
    "EstimationEconomy.agents[0].initialize_sim()\n",
    "EstimationEconomy.agents[0].simulate()\n"
   ]
  },
  {
   "cell_type": "code",
   "execution_count": 28,
   "metadata": {},
   "outputs": [
    {
     "data": {
      "text/plain": [
       "{'cFunc': <HARK.interpolation.LowerEnvelope at 0x1621ce970>,\n",
       " 'vFunc': <HARK.utilities.NullFunc at 0x1685a1a90>,\n",
       " 'vPfunc': <HARK.interpolation.MargValueFuncCRRA at 0x168596d00>,\n",
       " 'vPPfunc': <HARK.utilities.NullFunc at 0x1685a1cd0>,\n",
       " 'mNrmMin': 0.0,\n",
       " 'hNrm': 26.40880759112833,\n",
       " 'MPCmin': 0.03606348865838198,\n",
       " 'MPCmax': 1.0,\n",
       " 'mNrmTrg': None}"
      ]
     },
     "execution_count": 28,
     "metadata": {},
     "output_type": "execute_result"
    }
   ],
   "source": [
    "EstimationEconomy.agents[0].solution[0].__dict__"
   ]
  },
  {
   "cell_type": "markdown",
   "metadata": {},
   "source": [
    "### 3.2 - Tolerance\n",
    "\n",
    "Note that adjusting the \"T_age\" attribute to \"=None\" seems to have made the tracked normalized values of market resources larger than when the attribute is set to \"400\".\n",
    "\n",
    "From here, we want to know if there is a difference when the tolerance is set to twice as tight: from \"1e-6\" to \"1e-12\"."
   ]
  },
  {
   "cell_type": "code",
   "execution_count": 29,
   "metadata": {},
   "outputs": [
    {
     "name": "stdout",
     "output_type": "stream",
     "text": [
      "Tolerance: 1e-06\n"
     ]
    }
   ],
   "source": [
    "print(f\"Tolerance: {EstimationEconomy.agents[0].tolerance}\")"
   ]
  },
  {
   "cell_type": "code",
   "execution_count": 30,
   "metadata": {},
   "outputs": [
    {
     "name": "stdout",
     "output_type": "stream",
     "text": [
      "Tolerance: 1e-12\n"
     ]
    }
   ],
   "source": [
    "EstimationEconomy.agents[0].tolerance = .000000000001\n",
    "print(f\"Tolerance: {EstimationEconomy.agents[0].tolerance}\")"
   ]
  },
  {
   "cell_type": "code",
   "execution_count": 31,
   "metadata": {},
   "outputs": [
    {
     "name": "stderr",
     "output_type": "stream",
     "text": [
      "GPFRaw                 = 1.006729 \n",
      "GPFNrm                 = 1.010018 \n",
      "GPFAggLivPrb           = 1.000437 \n",
      "Thorn = APF            = 1.006729 \n",
      "PermGroFacAdj          = 0.996744 \n",
      "uInvEpShkuInv          = 1.000000 \n",
      "VAF                    = 0.963938 \n",
      "WRPF                   = 0.067476 \n",
      "DiscFacGPFNrmMax       = 0.960379 \n",
      "DiscFacGPFAggLivPrbMax = 0.969576 \n"
     ]
    },
    {
     "data": {
      "text/plain": [
       "{'mNrm': array([[1.00001007, 1.00001007, 1.00001074, ..., 1.00000955, 1.00000955,\n",
       "         1.0000104 ],\n",
       "        [1.37895608, 1.41911096, 1.17583515, ..., 1.18357697, 1.37895573,\n",
       "         1.27348971],\n",
       "        [1.52523953, 1.53220415, 1.72596851, ..., 1.32658311, 1.90882242,\n",
       "         1.62397361],\n",
       "        ...,\n",
       "        [2.51302807, 5.66347173, 5.31701626, ..., 3.32541891, 7.94069281,\n",
       "         4.49432668],\n",
       "        [2.42276291, 5.54656116, 5.7947655 , ..., 3.54281347, 8.41880028,\n",
       "         4.63390979],\n",
       "        [2.9628492 , 5.94982408, 5.03629612, ..., 3.91163817, 8.69389066,\n",
       "         4.65170682]])}"
      ]
     },
     "execution_count": 31,
     "metadata": {},
     "output_type": "execute_result"
    }
   ],
   "source": [
    "EstimationEconomy.agents[0].solve()\n",
    "EstimationEconomy.agents[0].track_vars = [\"mNrm\"]\n",
    "EstimationEconomy.agents[0].initialize_sim()\n",
    "EstimationEconomy.agents[0].simulate()"
   ]
  },
  {
   "cell_type": "code",
   "execution_count": 32,
   "metadata": {},
   "outputs": [
    {
     "data": {
      "text/plain": [
       "{'cFunc': <HARK.interpolation.LowerEnvelope at 0x168388ac0>,\n",
       " 'vFunc': <HARK.utilities.NullFunc at 0x168596ac0>,\n",
       " 'vPfunc': <HARK.interpolation.MargValueFuncCRRA at 0x1625e3d90>,\n",
       " 'vPPfunc': <HARK.utilities.NullFunc at 0x168565be0>,\n",
       " 'mNrmMin': 0.0,\n",
       " 'hNrm': 26.40947070490924,\n",
       " 'MPCmin': 0.03606250000095809,\n",
       " 'MPCmax': 1.0,\n",
       " 'mNrmTrg': None}"
      ]
     },
     "execution_count": 32,
     "metadata": {},
     "output_type": "execute_result"
    }
   ],
   "source": [
    "EstimationEconomy.agents[0].solution[0].__dict__"
   ]
  },
  {
   "cell_type": "markdown",
   "metadata": {},
   "source": [
    "Key: Making the \"tolerance\" twice as small did not change the relevant values of the simulation by much. This suggests that it is less important in explaining the discrepancy between the theory and the numerical implementation, at least when compared to the effect that \"T_age\" had."
   ]
  },
  {
   "cell_type": "markdown",
   "metadata": {},
   "source": [
    "### 4. Modifying the single agent type so that Rfree is right at the cusp.\n",
    "\n",
    "* GIC is violated; mNrmTrg and mNrmStE both exist and are finite when each should approach infinity\n",
    "* Note that these values are computed with the modified \"T_age\" and \"tolerance\" attributes"
   ]
  },
  {
   "cell_type": "code",
   "execution_count": 33,
   "metadata": {},
   "outputs": [
    {
     "name": "stdout",
     "output_type": "stream",
     "text": [
      "1.0309278350515465\n",
      "1.0309278350515465\n"
     ]
    }
   ],
   "source": [
    "EstimationEconomy.agents[0].Rfree = R_cusp_raw\n",
    "print(R_cusp_raw)\n",
    "print(EstimationEconomy.agents[0].Rfree)"
   ]
  },
  {
   "cell_type": "code",
   "execution_count": 34,
   "metadata": {},
   "outputs": [
    {
     "name": "stderr",
     "output_type": "stream",
     "text": [
      "GPFRaw                 = 1.000000 \n",
      "GPFNrm                 = 1.003266 \n",
      "GPFAggLivPrb           = 0.993750 \n",
      "Thorn = APF            = 1.000000 \n",
      "PermGroFacAdj          = 0.996744 \n",
      "uInvEpShkuInv          = 1.000000 \n",
      "VAF                    = 0.963938 \n",
      "WRPF                   = 0.067476 \n",
      "DiscFacGPFNrmMax       = 0.966842 \n",
      "DiscFacGPFAggLivPrbMax = 0.976101 \n"
     ]
    },
    {
     "data": {
      "text/plain": [
       "{'mNrm': array([[1.00001   , 1.00001   , 1.00001066, ..., 1.00000949, 1.00000949,\n",
       "         1.00001033],\n",
       "        [1.35744893, 1.39364816, 1.15242514, ..., 1.15940436, 1.35744864,\n",
       "         1.25081899],\n",
       "        [1.45656747, 1.46171395, 1.6807039 , ..., 1.27429896, 1.8476806 ,\n",
       "         1.56814444],\n",
       "        ...,\n",
       "        [1.84504447, 3.08202694, 2.72932712, ..., 2.00761503, 2.43553005,\n",
       "         2.77267703],\n",
       "        [1.7643761 , 2.85286072, 3.10949323, ..., 2.12418289, 2.83008496,\n",
       "         2.86950985],\n",
       "        [2.23989607, 3.06152849, 2.23781027, ..., 2.29805569, 2.8167081 ,\n",
       "         2.8414824 ]])}"
      ]
     },
     "execution_count": 34,
     "metadata": {},
     "output_type": "execute_result"
    }
   ],
   "source": [
    "EstimationEconomy.agents[0].solve()\n",
    "EstimationEconomy.agents[0].track_vars = [\"mNrm\"]\n",
    "EstimationEconomy.agents[0].initialize_sim()\n",
    "EstimationEconomy.agents[0].simulate()\n"
   ]
  },
  {
   "cell_type": "code",
   "execution_count": 37,
   "metadata": {},
   "outputs": [
    {
     "data": {
      "text/plain": [
       "{'cFunc': <HARK.interpolation.LowerEnvelope at 0x16273dcd0>,\n",
       " 'vFunc': <HARK.utilities.NullFunc at 0x1685a1a00>,\n",
       " 'vPfunc': <HARK.interpolation.MargValueFuncCRRA at 0x1627a8dc0>,\n",
       " 'vPPfunc': <HARK.utilities.NullFunc at 0x1685a17c0>,\n",
       " 'mNrmMin': 0.0,\n",
       " 'hNrm': 32.33333323546369,\n",
       " 'MPCmin': 0.03606250000185602,\n",
       " 'MPCmax': 1.0,\n",
       " 'mNrmStE': 2.54816900328363,\n",
       " 'mNrmTrg': 2.6561395463241344}"
      ]
     },
     "execution_count": 37,
     "metadata": {},
     "output_type": "execute_result"
    }
   ],
   "source": [
    "EstimationEconomy.agents[0].solution[0].__dict__"
   ]
  },
  {
   "cell_type": "markdown",
   "metadata": {},
   "source": [
    "### 5. Check how mNrmTrg and mNrmSTE are computed, after these changes have been tried\n",
    "\n",
    "1. How are mNrmTrg and mNrmSTE computed?\n",
    "2. If both GPF and GPFNrm are $\\geq$ 1 when the agent has \"R\" set to be the cusp value, then GIC and GICNrm should both be false. Further, mNrmTrg and mNrmSTE are only to be computed when GIC and GICNrm are set to True, i.e. equal to 1. \n",
    "    * So then, why are the cusp R value are mNrmTrg and mNrmSTE being computed as finite values? This suggests that there is some discrepancy between the model/code knowing when these conditions are being violated and/or when to compute these values given the violation of the conditions.\n",
    "        * For the latter, perhaps it is the case that the code doesn't recognize the GPFRaw as being close enough to 1.\n",
    "\n",
    "3. The theory says the target level of normalized market resources exists when GICNrm holds, however, the code implementation seems to compute mNrmTrg based on the GICRaw condition holding. "
   ]
  },
  {
   "cell_type": "code",
   "execution_count": null,
   "metadata": {},
   "outputs": [],
   "source": []
  }
 ],
 "metadata": {
  "kernelspec": {
   "display_name": "cstwmpc",
   "language": "python",
   "name": "python3"
  },
  "language_info": {
   "codemirror_mode": {
    "name": "ipython",
    "version": 3
   },
   "file_extension": ".py",
   "mimetype": "text/x-python",
   "name": "python",
   "nbconvert_exporter": "python",
   "pygments_lexer": "ipython3",
   "version": "3.9.16"
  },
  "orig_nbformat": 4
 },
 "nbformat": 4,
 "nbformat_minor": 2
}
